{
 "cells": [
  {
   "attachments": {},
   "cell_type": "markdown",
   "metadata": {},
   "source": [
    "# <font color = \"blue\" weigth = \"bold\"> <center> Stabilité temporelle du modèle de segmentation"
   ]
  },
  {
   "attachments": {},
   "cell_type": "markdown",
   "metadata": {},
   "source": [
    "Afin de déterminer la fréquence nécessaire de mise à jour du modèle de segmentation, je vais procéder à l'analyse de la stabilité du modèle sur une période en procédant comme suite :\n",
    "\n",
    "* Effectuer une segmentation des données à l'aide de l'algorithme K-means sur deux périodes différentes ;\n",
    "* Calculer les métriques de stabilité (ARI et AMI) sur ces deux périodes ;\n",
    "* Analyser l'évolution de ces métriques"
   ]
  },
  {
   "attachments": {},
   "cell_type": "markdown",
   "metadata": {},
   "source": [
    "## <font color = \"blue\"> Importation des librairies et chargement du jeu de données"
   ]
  },
  {
   "attachments": {},
   "cell_type": "markdown",
   "metadata": {},
   "source": [
    "### <font color = \"blue\"> Importation des librairies"
   ]
  },
  {
   "cell_type": "code",
   "execution_count": 1,
   "metadata": {},
   "outputs": [],
   "source": [
    "import pandas as pd\n",
    "import numpy as np\n",
    "import seaborn as sns\n",
    "import matplotlib.pyplot as plt\n",
    "from sklearn.cluster import KMeans\n",
    "from sklearn import metrics\n",
    "from sklearn.metrics import adjusted_rand_score, adjusted_mutual_info_score\n",
    "from sklearn.preprocessing import MinMaxScaler, RobustScaler\n",
    "from yellowbrick.cluster import KElbowVisualizer\n",
    "from plotly import graph_objs as go\n",
    "import warnings\n",
    "warnings.filterwarnings(\"ignore\")\n",
    "pd.options.display.max_columns = None\n",
    "pd.options.display.precision = 2"
   ]
  },
  {
   "attachments": {},
   "cell_type": "markdown",
   "metadata": {},
   "source": [
    "### <font color=\"blue\"> Chargement du jeu de données"
   ]
  },
  {
   "cell_type": "code",
   "execution_count": 2,
   "metadata": {},
   "outputs": [
    {
     "data": {
      "text/html": [
       "<div>\n",
       "<style scoped>\n",
       "    .dataframe tbody tr th:only-of-type {\n",
       "        vertical-align: middle;\n",
       "    }\n",
       "\n",
       "    .dataframe tbody tr th {\n",
       "        vertical-align: top;\n",
       "    }\n",
       "\n",
       "    .dataframe thead th {\n",
       "        text-align: right;\n",
       "    }\n",
       "</style>\n",
       "<table border=\"1\" class=\"dataframe\">\n",
       "  <thead>\n",
       "    <tr style=\"text-align: right;\">\n",
       "      <th></th>\n",
       "      <th>customer_unique_id</th>\n",
       "      <th>order_purchase_timestamp</th>\n",
       "      <th>feedback</th>\n",
       "      <th>geolocation_lat</th>\n",
       "      <th>geolocation_lng</th>\n",
       "      <th>price</th>\n",
       "      <th>freight_value</th>\n",
       "      <th>boleto</th>\n",
       "      <th>credit_card</th>\n",
       "      <th>debit_card</th>\n",
       "      <th>voucher</th>\n",
       "      <th>comment_length</th>\n",
       "      <th>comment_count</th>\n",
       "      <th>recence</th>\n",
       "      <th>frequence</th>\n",
       "      <th>montant</th>\n",
       "      <th>score_moyen</th>\n",
       "      <th>installment_payment_mean</th>\n",
       "      <th>average_basket</th>\n",
       "      <th>max_basket</th>\n",
       "      <th>min_basket</th>\n",
       "      <th>total_order</th>\n",
       "      <th>books_cds_media</th>\n",
       "      <th>fashion_clothing_accessories</th>\n",
       "      <th>flowers_gifts</th>\n",
       "      <th>groceries_food_drink</th>\n",
       "      <th>health_beauty</th>\n",
       "      <th>home_furniture</th>\n",
       "      <th>other</th>\n",
       "      <th>sport</th>\n",
       "      <th>technology</th>\n",
       "      <th>toys_baby</th>\n",
       "      <th>total_items</th>\n",
       "      <th>harvesine_distance</th>\n",
       "      <th>délai_livraison</th>\n",
       "    </tr>\n",
       "  </thead>\n",
       "  <tbody>\n",
       "    <tr>\n",
       "      <th>0</th>\n",
       "      <td>('0000366f3b9a7992bf8c76cfdf3221e2', '0000366f...</td>\n",
       "      <td>2018-05-10 10:56:27</td>\n",
       "      <td>1</td>\n",
       "      <td>-23.34</td>\n",
       "      <td>-46.83</td>\n",
       "      <td>129.90</td>\n",
       "      <td>12.00</td>\n",
       "      <td>0.0</td>\n",
       "      <td>1.0</td>\n",
       "      <td>0.0</td>\n",
       "      <td>0.0</td>\n",
       "      <td>111.0</td>\n",
       "      <td>1.0</td>\n",
       "      <td>111.0</td>\n",
       "      <td>1.0</td>\n",
       "      <td>141.90</td>\n",
       "      <td>5.0</td>\n",
       "      <td>8.0</td>\n",
       "      <td>141.90</td>\n",
       "      <td>141.90</td>\n",
       "      <td>141.90</td>\n",
       "      <td>1.0</td>\n",
       "      <td>0.0</td>\n",
       "      <td>0.0</td>\n",
       "      <td>0.0</td>\n",
       "      <td>0.0</td>\n",
       "      <td>0.0</td>\n",
       "      <td>1.0</td>\n",
       "      <td>0.0</td>\n",
       "      <td>0.0</td>\n",
       "      <td>0.0</td>\n",
       "      <td>0.0</td>\n",
       "      <td>1.0</td>\n",
       "      <td>340.84</td>\n",
       "      <td>6.41</td>\n",
       "    </tr>\n",
       "    <tr>\n",
       "      <th>1</th>\n",
       "      <td>('0000b849f77a49e4a4ce2b2a4ca5be3f', '0000b849...</td>\n",
       "      <td>2018-05-07 11:11:27</td>\n",
       "      <td>1</td>\n",
       "      <td>-23.56</td>\n",
       "      <td>-46.79</td>\n",
       "      <td>18.90</td>\n",
       "      <td>8.29</td>\n",
       "      <td>0.0</td>\n",
       "      <td>1.0</td>\n",
       "      <td>0.0</td>\n",
       "      <td>0.0</td>\n",
       "      <td>0.0</td>\n",
       "      <td>1.0</td>\n",
       "      <td>114.0</td>\n",
       "      <td>1.0</td>\n",
       "      <td>27.19</td>\n",
       "      <td>4.0</td>\n",
       "      <td>1.0</td>\n",
       "      <td>27.19</td>\n",
       "      <td>27.19</td>\n",
       "      <td>27.19</td>\n",
       "      <td>1.0</td>\n",
       "      <td>0.0</td>\n",
       "      <td>0.0</td>\n",
       "      <td>0.0</td>\n",
       "      <td>0.0</td>\n",
       "      <td>1.0</td>\n",
       "      <td>0.0</td>\n",
       "      <td>0.0</td>\n",
       "      <td>0.0</td>\n",
       "      <td>0.0</td>\n",
       "      <td>0.0</td>\n",
       "      <td>1.0</td>\n",
       "      <td>327.88</td>\n",
       "      <td>3.29</td>\n",
       "    </tr>\n",
       "    <tr>\n",
       "      <th>2</th>\n",
       "      <td>('0000f46a3911fa3c0805444483337064', '0000f46a...</td>\n",
       "      <td>2017-03-10 21:05:03</td>\n",
       "      <td>1</td>\n",
       "      <td>-27.54</td>\n",
       "      <td>-48.63</td>\n",
       "      <td>69.00</td>\n",
       "      <td>17.22</td>\n",
       "      <td>0.0</td>\n",
       "      <td>1.0</td>\n",
       "      <td>0.0</td>\n",
       "      <td>0.0</td>\n",
       "      <td>0.0</td>\n",
       "      <td>1.0</td>\n",
       "      <td>536.0</td>\n",
       "      <td>1.0</td>\n",
       "      <td>86.22</td>\n",
       "      <td>3.0</td>\n",
       "      <td>8.0</td>\n",
       "      <td>86.22</td>\n",
       "      <td>86.22</td>\n",
       "      <td>86.22</td>\n",
       "      <td>1.0</td>\n",
       "      <td>0.0</td>\n",
       "      <td>0.0</td>\n",
       "      <td>0.0</td>\n",
       "      <td>0.0</td>\n",
       "      <td>0.0</td>\n",
       "      <td>0.0</td>\n",
       "      <td>1.0</td>\n",
       "      <td>0.0</td>\n",
       "      <td>0.0</td>\n",
       "      <td>0.0</td>\n",
       "      <td>1.0</td>\n",
       "      <td>243.86</td>\n",
       "      <td>25.73</td>\n",
       "    </tr>\n",
       "    <tr>\n",
       "      <th>3</th>\n",
       "      <td>('0000f6ccb0745a6a4b88665a16c9f078', '0000f6cc...</td>\n",
       "      <td>2017-10-12 20:29:41</td>\n",
       "      <td>1</td>\n",
       "      <td>-1.31</td>\n",
       "      <td>-48.48</td>\n",
       "      <td>25.99</td>\n",
       "      <td>17.63</td>\n",
       "      <td>0.0</td>\n",
       "      <td>1.0</td>\n",
       "      <td>0.0</td>\n",
       "      <td>0.0</td>\n",
       "      <td>12.0</td>\n",
       "      <td>1.0</td>\n",
       "      <td>320.0</td>\n",
       "      <td>1.0</td>\n",
       "      <td>43.62</td>\n",
       "      <td>4.0</td>\n",
       "      <td>4.0</td>\n",
       "      <td>43.62</td>\n",
       "      <td>43.62</td>\n",
       "      <td>43.62</td>\n",
       "      <td>1.0</td>\n",
       "      <td>0.0</td>\n",
       "      <td>0.0</td>\n",
       "      <td>0.0</td>\n",
       "      <td>0.0</td>\n",
       "      <td>0.0</td>\n",
       "      <td>0.0</td>\n",
       "      <td>0.0</td>\n",
       "      <td>0.0</td>\n",
       "      <td>1.0</td>\n",
       "      <td>0.0</td>\n",
       "      <td>1.0</td>\n",
       "      <td>2683.23</td>\n",
       "      <td>20.04</td>\n",
       "    </tr>\n",
       "    <tr>\n",
       "      <th>4</th>\n",
       "      <td>('0004aac84e0df4da2b147fca70cf8255', '0004aac8...</td>\n",
       "      <td>2017-11-14 19:45:42</td>\n",
       "      <td>1</td>\n",
       "      <td>-23.51</td>\n",
       "      <td>-47.47</td>\n",
       "      <td>180.00</td>\n",
       "      <td>16.89</td>\n",
       "      <td>0.0</td>\n",
       "      <td>1.0</td>\n",
       "      <td>0.0</td>\n",
       "      <td>0.0</td>\n",
       "      <td>0.0</td>\n",
       "      <td>1.0</td>\n",
       "      <td>287.0</td>\n",
       "      <td>1.0</td>\n",
       "      <td>196.89</td>\n",
       "      <td>5.0</td>\n",
       "      <td>6.0</td>\n",
       "      <td>196.89</td>\n",
       "      <td>196.89</td>\n",
       "      <td>196.89</td>\n",
       "      <td>1.0</td>\n",
       "      <td>0.0</td>\n",
       "      <td>0.0</td>\n",
       "      <td>0.0</td>\n",
       "      <td>0.0</td>\n",
       "      <td>0.0</td>\n",
       "      <td>0.0</td>\n",
       "      <td>0.0</td>\n",
       "      <td>0.0</td>\n",
       "      <td>1.0</td>\n",
       "      <td>0.0</td>\n",
       "      <td>1.0</td>\n",
       "      <td>282.53</td>\n",
       "      <td>13.14</td>\n",
       "    </tr>\n",
       "  </tbody>\n",
       "</table>\n",
       "</div>"
      ],
      "text/plain": [
       "                                  customer_unique_id order_purchase_timestamp  \\\n",
       "0  ('0000366f3b9a7992bf8c76cfdf3221e2', '0000366f...      2018-05-10 10:56:27   \n",
       "1  ('0000b849f77a49e4a4ce2b2a4ca5be3f', '0000b849...      2018-05-07 11:11:27   \n",
       "2  ('0000f46a3911fa3c0805444483337064', '0000f46a...      2017-03-10 21:05:03   \n",
       "3  ('0000f6ccb0745a6a4b88665a16c9f078', '0000f6cc...      2017-10-12 20:29:41   \n",
       "4  ('0004aac84e0df4da2b147fca70cf8255', '0004aac8...      2017-11-14 19:45:42   \n",
       "\n",
       "   feedback  geolocation_lat  geolocation_lng   price  freight_value  boleto  \\\n",
       "0         1           -23.34           -46.83  129.90          12.00     0.0   \n",
       "1         1           -23.56           -46.79   18.90           8.29     0.0   \n",
       "2         1           -27.54           -48.63   69.00          17.22     0.0   \n",
       "3         1            -1.31           -48.48   25.99          17.63     0.0   \n",
       "4         1           -23.51           -47.47  180.00          16.89     0.0   \n",
       "\n",
       "   credit_card  debit_card  voucher  comment_length  comment_count  recence  \\\n",
       "0          1.0         0.0      0.0           111.0            1.0    111.0   \n",
       "1          1.0         0.0      0.0             0.0            1.0    114.0   \n",
       "2          1.0         0.0      0.0             0.0            1.0    536.0   \n",
       "3          1.0         0.0      0.0            12.0            1.0    320.0   \n",
       "4          1.0         0.0      0.0             0.0            1.0    287.0   \n",
       "\n",
       "   frequence  montant  score_moyen  installment_payment_mean  average_basket  \\\n",
       "0        1.0   141.90          5.0                       8.0          141.90   \n",
       "1        1.0    27.19          4.0                       1.0           27.19   \n",
       "2        1.0    86.22          3.0                       8.0           86.22   \n",
       "3        1.0    43.62          4.0                       4.0           43.62   \n",
       "4        1.0   196.89          5.0                       6.0          196.89   \n",
       "\n",
       "   max_basket  min_basket  total_order  books_cds_media  \\\n",
       "0      141.90      141.90          1.0              0.0   \n",
       "1       27.19       27.19          1.0              0.0   \n",
       "2       86.22       86.22          1.0              0.0   \n",
       "3       43.62       43.62          1.0              0.0   \n",
       "4      196.89      196.89          1.0              0.0   \n",
       "\n",
       "   fashion_clothing_accessories  flowers_gifts  groceries_food_drink  \\\n",
       "0                           0.0            0.0                   0.0   \n",
       "1                           0.0            0.0                   0.0   \n",
       "2                           0.0            0.0                   0.0   \n",
       "3                           0.0            0.0                   0.0   \n",
       "4                           0.0            0.0                   0.0   \n",
       "\n",
       "   health_beauty  home_furniture  other  sport  technology  toys_baby  \\\n",
       "0            0.0             1.0    0.0    0.0         0.0        0.0   \n",
       "1            1.0             0.0    0.0    0.0         0.0        0.0   \n",
       "2            0.0             0.0    1.0    0.0         0.0        0.0   \n",
       "3            0.0             0.0    0.0    0.0         1.0        0.0   \n",
       "4            0.0             0.0    0.0    0.0         1.0        0.0   \n",
       "\n",
       "   total_items  harvesine_distance  délai_livraison  \n",
       "0          1.0              340.84             6.41  \n",
       "1          1.0              327.88             3.29  \n",
       "2          1.0              243.86            25.73  \n",
       "3          1.0             2683.23            20.04  \n",
       "4          1.0              282.53            13.14  "
      ]
     },
     "execution_count": 2,
     "metadata": {},
     "output_type": "execute_result"
    }
   ],
   "source": [
    "data = pd.read_csv(\"data_olist.csv\")\n",
    "data.head()"
   ]
  },
  {
   "attachments": {},
   "cell_type": "markdown",
   "metadata": {},
   "source": [
    "**_Calcul de la périodicité des commandes_**"
   ]
  },
  {
   "cell_type": "code",
   "execution_count": 3,
   "metadata": {},
   "outputs": [],
   "source": [
    "# Conversion de la colonne \"order_purchase_timestamp\" au format date\n",
    "data[\"order_purchase_timestamp\"] = pd.to_datetime(data[\"order_purchase_timestamp\"])"
   ]
  },
  {
   "cell_type": "code",
   "execution_count": 4,
   "metadata": {},
   "outputs": [
    {
     "name": "stdout",
     "output_type": "stream",
     "text": [
      "La période complète des commandes porte sur 22 mois.\n"
     ]
    }
   ],
   "source": [
    "# Calcul de la période de commande en faisant la différence entre les dates de la dernière commande et de la première commande\n",
    "\n",
    "time_delta = int((data.order_purchase_timestamp.max() - data.order_purchase_timestamp.min())/np.timedelta64(1,'M'))\n",
    "print(\"La période complète des commandes porte sur {} mois.\".format(time_delta))"
   ]
  },
  {
   "attachments": {},
   "cell_type": "markdown",
   "metadata": {},
   "source": [
    "**_Détermination des dates de référence._**"
   ]
  },
  {
   "cell_type": "code",
   "execution_count": 5,
   "metadata": {},
   "outputs": [
    {
     "data": {
      "text/plain": [
       "Timestamp('2018-08-29 15:00:37')"
      ]
     },
     "execution_count": 5,
     "metadata": {},
     "output_type": "execute_result"
    }
   ],
   "source": [
    "# Définition de la date de référence \n",
    "date_reference = data['order_purchase_timestamp'].max()\n",
    "date_reference"
   ]
  },
  {
   "attachments": {},
   "cell_type": "markdown",
   "metadata": {},
   "source": [
    "**_Génération des dates de référence pour différentes périodes_**<br> Ces variables de date de référence seront utilisées ultérieurement pour définir les limites temporelles des périodes."
   ]
  },
  {
   "cell_type": "code",
   "execution_count": 6,
   "metadata": {},
   "outputs": [
    {
     "name": "stdout",
     "output_type": "stream",
     "text": [
      "Données de référence - 1 mois : 2018-07-29 15:00:37\n"
     ]
    }
   ],
   "source": [
    "# Données de référence de la première période - 1 mois\n",
    "data_ref_1mois = date_reference - pd.DateOffset(months=1)\n",
    "print(f'Données de référence - 1 mois : {data_ref_1mois}')\n",
    "# Données de référence de la première période  - 2 mois\n",
    "data_ref_2mois = date_reference - pd.DateOffset(months=2)\n",
    "\n",
    "# Données de référence de la première période historique - 3 mois\n",
    "data_ref_3mois = date_reference - pd.DateOffset(months=3)\n",
    "\n",
    "# Données de référence de la première période historique - 4 mois\n",
    "data_ref_4mois = date_reference - pd.DateOffset(months=4)\n",
    "\n",
    "# Données de référence de la première période historique - 5 mois\n",
    "data_ref_5mois = date_reference - pd.DateOffset(months=5)\n",
    "\n",
    "# Données de référence de la première période historique - 6 mois\n",
    "data_ref_6mois = date_reference - pd.DateOffset(months=6)\n",
    "\n",
    "# Données de référence de la première période historique - 7 mois\n",
    "data_ref_7mois = date_reference - pd.DateOffset(months=7)\n",
    "\n",
    "# Données de référence de la première période historique - 8 mois\n",
    "data_ref_8mois = date_reference - pd.DateOffset(months=8)\n",
    "\n",
    "# Données de référence de la première période historique - 9 mois\n",
    "data_ref_9mois = date_reference - pd.DateOffset(months=9)\n",
    "\n",
    "# Données de référence de la première période historique - 10 mois\n",
    "data_ref_10mois = date_reference - pd.DateOffset(months=10)\n",
    "\n",
    "# Données de référence de la première période historique - 11 mois\n",
    "data_ref_11mois = date_reference - pd.DateOffset(months=11)"
   ]
  },
  {
   "attachments": {},
   "cell_type": "markdown",
   "metadata": {},
   "source": [
    "**_Modélisation sur les périodes sélectionnées_** <br> Je vais procéder comme suite :\n",
    "* Entrainer l'algorithme KMeans (en reprenant les paramètres ayant servit à la modélisation) sur une période. Puis stocker les résultats dans un groupe ;\n",
    "* Entraîner l'algorithme KMean sur la période de référence, en ne conservant que les clients présents sur la période définit et ensuite stocker les résultats dans un groupe ;\n",
    "* Comparer les deux groupes des clients."
   ]
  },
  {
   "cell_type": "code",
   "execution_count": 7,
   "metadata": {},
   "outputs": [],
   "source": [
    "# DDéfintion d'un tableau vide pour stocker les résultats des k-means\n",
    "resultats_kmeans = pd.DataFrame({})"
   ]
  },
  {
   "cell_type": "code",
   "execution_count": 8,
   "metadata": {},
   "outputs": [],
   "source": [
    "# Déficition d'une fonction pour réaliser la modélisation sur plusieurs périodes\n",
    "\n",
    "from numpy.random import seed\n",
    "from sklearn.cluster import KMeans\n",
    "from sklearn.preprocessing import RobustScaler\n",
    "\n",
    "\n",
    "def model_periode(dataframe, dataframe_resutat, date_ref, titre, nb_clusters):\n",
    "    \n",
    "    # Cration d'une copie du dataframe\n",
    "    df_copie = dataframe.copy()\n",
    "    \n",
    "    # Création d'une trame de données pour la période initiale\n",
    "    df_hist = df_copie[df_copie['order_purchase_timestamp'] < date_ref]\n",
    "\n",
    "    # Création d'un dataframe pour la période référence en filtrant les données pour ne garder que les clients présents dans l'ensemble de données initial \"df_hist\"\n",
    "    df_copie_ref = dataframe.copy()\n",
    "    df_ref = df_copie_ref[df_copie_ref.customer_unique_id.isin(df_hist.customer_unique_id)]\n",
    "\n",
    "    # Sélection des variables numériques (pour exlure les variables \"order_purchase_timestamp\" et \"customer_unique_id\")\n",
    "    cols_num_cat = df_ref.select_dtypes(include=[np.number]).columns.to_list()\n",
    "    \n",
    "    # Traitement des données initiales \"df_hist\"\n",
    "    # Préparation des données\n",
    "    X_df_hist = df_hist[cols_num_cat].values\n",
    "    features_df_hist = df_hist[cols_num_cat].columns\n",
    "\n",
    "    # Standardisation des données \"df_hist\"\n",
    "    scaler = RobustScaler()\n",
    "    X_scaled_hist = scaler.fit_transform(X_df_hist)\n",
    "\n",
    "    # Transformation des données \"df_hist\" standardisées en Dataframe\n",
    "    X_scaled_hist = pd.DataFrame(X_scaled_hist,\n",
    "                                 index=df_hist.index,\n",
    "                                 columns=features_df_hist)\n",
    "    \n",
    "    # Traitement des données référence \"df_ref\"\n",
    "    # Préparation des données\n",
    "    X_df_ref = df_ref[cols_num_cat].values\n",
    "    features_df_ref = df_ref[cols_num_cat].columns\n",
    "\n",
    "    # Standardisation des données \"df_ref\"\n",
    "    scaler = RobustScaler()\n",
    "    X_scaled_ref = scaler.fit_transform(X_df_ref)\n",
    "\n",
    "    # Trasformations des données \"df_ref\" standardisées en Dataframe\n",
    "    X_scaled_ref = pd.DataFrame(X_scaled_ref,\n",
    "                                index=df_ref.index,\n",
    "                                columns=features_df_ref)\n",
    "    \n",
    "    # Instanciation de kmeans \n",
    "    kmeans = KMeans(n_clusters=nb_clusters, n_init=10)\n",
    "\n",
    "    # Entaînement de kmeans sur les données \"X_scaled_hist\", sur la période définit\n",
    "    kmeans.fit(X_scaled_hist)\n",
    "    kmeans_labels_hist = kmeans.labels_\n",
    "    X_scaled_hist['Cluster'] = kmeans.labels_\n",
    "    \n",
    "    \n",
    "    # Entaînement de sur sur les données \"X_scaled_ref\", sur la période de référence\n",
    "    kmeans.fit(X_scaled_ref)\n",
    "    kmeans_labels_ref = kmeans.labels_\n",
    "    X_scaled_ref['Cluster'] = kmeans.labels_\n",
    "    # Calcul du score ARI\n",
    "    ARI_kmeans = metrics.adjusted_rand_score(kmeans_labels_ref,\n",
    "                                             kmeans_labels_hist)\n",
    "\n",
    "    # Sauvegarde de l'ARI dans le tableau de résultats\n",
    "    dataframe_resutat = pd.concat([dataframe_resutat, pd.DataFrame({\n",
    "    'Periode': [titre],\n",
    "    'Date': [date_ref],\n",
    "    'ARI': [ARI_kmeans]\n",
    "})], ignore_index=True)\n",
    "    \n",
    "\n",
    "    return dataframe_resutat, X_scaled_hist, X_scaled_ref"
   ]
  },
  {
   "cell_type": "code",
   "execution_count": 9,
   "metadata": {},
   "outputs": [],
   "source": [
    "# Création d'une liste contenant les dates de références \n",
    "dates = [data_ref_1mois, data_ref_2mois, data_ref_3mois, data_ref_4mois, data_ref_5mois,\n",
    "         data_ref_6mois, data_ref_7mois, data_ref_8mois, data_ref_9mois, data_ref_10mois,\n",
    "         data_ref_11mois]\n",
    "\n",
    "# Création d'une liste contenant les titres correpondants aux dates de références\n",
    "titres = ['Juillet18_août18', 'Juin18_août18', 'Mai18_août18', 'Avril18_août18', 'Mars18_août18',\n",
    "          'Février18_août18', 'Janvier18_août18', 'Decembre17_août18', 'Novembre17_août18',\n",
    "          'Octobre17_août18', 'Septembre17_août18']\n",
    "\n",
    "# Création d'une boucle pour itérer sur ces listes en utilisant la fonction zip() pour associer chaque date à son titre correspondant\n",
    "for date, titre in zip(dates, titres):\n",
    "    resultats_kmeans, df_hist, df_ref = model_periode(data, resultats_kmeans, date, titre, 6)\n",
    "    # Faites ce que vous voulez avec les résultats (par exemple, les afficher)"
   ]
  },
  {
   "cell_type": "code",
   "execution_count": 10,
   "metadata": {},
   "outputs": [
    {
     "data": {
      "text/html": [
       "<div>\n",
       "<style scoped>\n",
       "    .dataframe tbody tr th:only-of-type {\n",
       "        vertical-align: middle;\n",
       "    }\n",
       "\n",
       "    .dataframe tbody tr th {\n",
       "        vertical-align: top;\n",
       "    }\n",
       "\n",
       "    .dataframe thead th {\n",
       "        text-align: right;\n",
       "    }\n",
       "</style>\n",
       "<table border=\"1\" class=\"dataframe\">\n",
       "  <thead>\n",
       "    <tr style=\"text-align: right;\">\n",
       "      <th></th>\n",
       "      <th>Periode</th>\n",
       "      <th>Date</th>\n",
       "      <th>ARI</th>\n",
       "    </tr>\n",
       "  </thead>\n",
       "  <tbody>\n",
       "    <tr>\n",
       "      <th>0</th>\n",
       "      <td>Juillet18_août18</td>\n",
       "      <td>2018-07-29 15:00:37</td>\n",
       "      <td>0.70</td>\n",
       "    </tr>\n",
       "    <tr>\n",
       "      <th>1</th>\n",
       "      <td>Juin18_août18</td>\n",
       "      <td>2018-06-29 15:00:37</td>\n",
       "      <td>0.98</td>\n",
       "    </tr>\n",
       "    <tr>\n",
       "      <th>2</th>\n",
       "      <td>Mai18_août18</td>\n",
       "      <td>2018-05-29 15:00:37</td>\n",
       "      <td>0.96</td>\n",
       "    </tr>\n",
       "    <tr>\n",
       "      <th>3</th>\n",
       "      <td>Avril18_août18</td>\n",
       "      <td>2018-04-29 15:00:37</td>\n",
       "      <td>0.48</td>\n",
       "    </tr>\n",
       "    <tr>\n",
       "      <th>4</th>\n",
       "      <td>Mars18_août18</td>\n",
       "      <td>2018-03-29 15:00:37</td>\n",
       "      <td>0.99</td>\n",
       "    </tr>\n",
       "    <tr>\n",
       "      <th>5</th>\n",
       "      <td>Février18_août18</td>\n",
       "      <td>2018-02-28 15:00:37</td>\n",
       "      <td>0.96</td>\n",
       "    </tr>\n",
       "    <tr>\n",
       "      <th>6</th>\n",
       "      <td>Janvier18_août18</td>\n",
       "      <td>2018-01-29 15:00:37</td>\n",
       "      <td>0.94</td>\n",
       "    </tr>\n",
       "    <tr>\n",
       "      <th>7</th>\n",
       "      <td>Decembre17_août18</td>\n",
       "      <td>2017-12-29 15:00:37</td>\n",
       "      <td>0.99</td>\n",
       "    </tr>\n",
       "    <tr>\n",
       "      <th>8</th>\n",
       "      <td>Novembre17_août18</td>\n",
       "      <td>2017-11-29 15:00:37</td>\n",
       "      <td>1.00</td>\n",
       "    </tr>\n",
       "    <tr>\n",
       "      <th>9</th>\n",
       "      <td>Octobre17_août18</td>\n",
       "      <td>2017-10-29 15:00:37</td>\n",
       "      <td>1.00</td>\n",
       "    </tr>\n",
       "    <tr>\n",
       "      <th>10</th>\n",
       "      <td>Septembre17_août18</td>\n",
       "      <td>2017-09-29 15:00:37</td>\n",
       "      <td>0.99</td>\n",
       "    </tr>\n",
       "  </tbody>\n",
       "</table>\n",
       "</div>"
      ],
      "text/plain": [
       "               Periode                Date   ARI\n",
       "0     Juillet18_août18 2018-07-29 15:00:37  0.70\n",
       "1        Juin18_août18 2018-06-29 15:00:37  0.98\n",
       "2         Mai18_août18 2018-05-29 15:00:37  0.96\n",
       "3       Avril18_août18 2018-04-29 15:00:37  0.48\n",
       "4        Mars18_août18 2018-03-29 15:00:37  0.99\n",
       "5     Février18_août18 2018-02-28 15:00:37  0.96\n",
       "6     Janvier18_août18 2018-01-29 15:00:37  0.94\n",
       "7    Decembre17_août18 2017-12-29 15:00:37  0.99\n",
       "8    Novembre17_août18 2017-11-29 15:00:37  1.00\n",
       "9     Octobre17_août18 2017-10-29 15:00:37  1.00\n",
       "10  Septembre17_août18 2017-09-29 15:00:37  0.99"
      ]
     },
     "execution_count": 10,
     "metadata": {},
     "output_type": "execute_result"
    }
   ],
   "source": [
    "resultats_kmeans"
   ]
  },
  {
   "cell_type": "code",
   "execution_count": 11,
   "metadata": {},
   "outputs": [
    {
     "data": {
      "application/vnd.plotly.v1+json": {
       "config": {
        "plotlyServerURL": "https://plot.ly"
       },
       "data": [
        {
         "marker": {
          "color": "#4AA3A2",
          "size": 8,
          "symbol": "circle"
         },
         "mode": "markers+lines",
         "name": "ARI",
         "type": "scatter",
         "x": [
          "2018-07-29T15:00:37",
          "2018-06-29T15:00:37",
          "2018-05-29T15:00:37",
          "2018-04-29T15:00:37",
          "2018-03-29T15:00:37",
          "2018-02-28T15:00:37",
          "2018-01-29T15:00:37",
          "2017-12-29T15:00:37",
          "2017-11-29T15:00:37",
          "2017-10-29T15:00:37",
          "2017-09-29T15:00:37"
         ],
         "y": [
          0.6993101996316116,
          0.9805335239336957,
          0.9597765816689764,
          0.4845988560236987,
          0.9871974794700189,
          0.963384695022804,
          0.9405015624640494,
          0.9901368630571636,
          0.9956422264174618,
          0.9988311395876207,
          0.9943501398262815
         ]
        }
       ],
       "layout": {
        "height": 600,
        "legend": {
         "x": 0,
         "y": 1
        },
        "showlegend": true,
        "template": {
         "data": {
          "bar": [
           {
            "error_x": {
             "color": "#2a3f5f"
            },
            "error_y": {
             "color": "#2a3f5f"
            },
            "marker": {
             "line": {
              "color": "#E5ECF6",
              "width": 0.5
             },
             "pattern": {
              "fillmode": "overlay",
              "size": 10,
              "solidity": 0.2
             }
            },
            "type": "bar"
           }
          ],
          "barpolar": [
           {
            "marker": {
             "line": {
              "color": "#E5ECF6",
              "width": 0.5
             },
             "pattern": {
              "fillmode": "overlay",
              "size": 10,
              "solidity": 0.2
             }
            },
            "type": "barpolar"
           }
          ],
          "carpet": [
           {
            "aaxis": {
             "endlinecolor": "#2a3f5f",
             "gridcolor": "white",
             "linecolor": "white",
             "minorgridcolor": "white",
             "startlinecolor": "#2a3f5f"
            },
            "baxis": {
             "endlinecolor": "#2a3f5f",
             "gridcolor": "white",
             "linecolor": "white",
             "minorgridcolor": "white",
             "startlinecolor": "#2a3f5f"
            },
            "type": "carpet"
           }
          ],
          "choropleth": [
           {
            "colorbar": {
             "outlinewidth": 0,
             "ticks": ""
            },
            "type": "choropleth"
           }
          ],
          "contour": [
           {
            "colorbar": {
             "outlinewidth": 0,
             "ticks": ""
            },
            "colorscale": [
             [
              0,
              "#0d0887"
             ],
             [
              0.1111111111111111,
              "#46039f"
             ],
             [
              0.2222222222222222,
              "#7201a8"
             ],
             [
              0.3333333333333333,
              "#9c179e"
             ],
             [
              0.4444444444444444,
              "#bd3786"
             ],
             [
              0.5555555555555556,
              "#d8576b"
             ],
             [
              0.6666666666666666,
              "#ed7953"
             ],
             [
              0.7777777777777778,
              "#fb9f3a"
             ],
             [
              0.8888888888888888,
              "#fdca26"
             ],
             [
              1,
              "#f0f921"
             ]
            ],
            "type": "contour"
           }
          ],
          "contourcarpet": [
           {
            "colorbar": {
             "outlinewidth": 0,
             "ticks": ""
            },
            "type": "contourcarpet"
           }
          ],
          "heatmap": [
           {
            "colorbar": {
             "outlinewidth": 0,
             "ticks": ""
            },
            "colorscale": [
             [
              0,
              "#0d0887"
             ],
             [
              0.1111111111111111,
              "#46039f"
             ],
             [
              0.2222222222222222,
              "#7201a8"
             ],
             [
              0.3333333333333333,
              "#9c179e"
             ],
             [
              0.4444444444444444,
              "#bd3786"
             ],
             [
              0.5555555555555556,
              "#d8576b"
             ],
             [
              0.6666666666666666,
              "#ed7953"
             ],
             [
              0.7777777777777778,
              "#fb9f3a"
             ],
             [
              0.8888888888888888,
              "#fdca26"
             ],
             [
              1,
              "#f0f921"
             ]
            ],
            "type": "heatmap"
           }
          ],
          "heatmapgl": [
           {
            "colorbar": {
             "outlinewidth": 0,
             "ticks": ""
            },
            "colorscale": [
             [
              0,
              "#0d0887"
             ],
             [
              0.1111111111111111,
              "#46039f"
             ],
             [
              0.2222222222222222,
              "#7201a8"
             ],
             [
              0.3333333333333333,
              "#9c179e"
             ],
             [
              0.4444444444444444,
              "#bd3786"
             ],
             [
              0.5555555555555556,
              "#d8576b"
             ],
             [
              0.6666666666666666,
              "#ed7953"
             ],
             [
              0.7777777777777778,
              "#fb9f3a"
             ],
             [
              0.8888888888888888,
              "#fdca26"
             ],
             [
              1,
              "#f0f921"
             ]
            ],
            "type": "heatmapgl"
           }
          ],
          "histogram": [
           {
            "marker": {
             "pattern": {
              "fillmode": "overlay",
              "size": 10,
              "solidity": 0.2
             }
            },
            "type": "histogram"
           }
          ],
          "histogram2d": [
           {
            "colorbar": {
             "outlinewidth": 0,
             "ticks": ""
            },
            "colorscale": [
             [
              0,
              "#0d0887"
             ],
             [
              0.1111111111111111,
              "#46039f"
             ],
             [
              0.2222222222222222,
              "#7201a8"
             ],
             [
              0.3333333333333333,
              "#9c179e"
             ],
             [
              0.4444444444444444,
              "#bd3786"
             ],
             [
              0.5555555555555556,
              "#d8576b"
             ],
             [
              0.6666666666666666,
              "#ed7953"
             ],
             [
              0.7777777777777778,
              "#fb9f3a"
             ],
             [
              0.8888888888888888,
              "#fdca26"
             ],
             [
              1,
              "#f0f921"
             ]
            ],
            "type": "histogram2d"
           }
          ],
          "histogram2dcontour": [
           {
            "colorbar": {
             "outlinewidth": 0,
             "ticks": ""
            },
            "colorscale": [
             [
              0,
              "#0d0887"
             ],
             [
              0.1111111111111111,
              "#46039f"
             ],
             [
              0.2222222222222222,
              "#7201a8"
             ],
             [
              0.3333333333333333,
              "#9c179e"
             ],
             [
              0.4444444444444444,
              "#bd3786"
             ],
             [
              0.5555555555555556,
              "#d8576b"
             ],
             [
              0.6666666666666666,
              "#ed7953"
             ],
             [
              0.7777777777777778,
              "#fb9f3a"
             ],
             [
              0.8888888888888888,
              "#fdca26"
             ],
             [
              1,
              "#f0f921"
             ]
            ],
            "type": "histogram2dcontour"
           }
          ],
          "mesh3d": [
           {
            "colorbar": {
             "outlinewidth": 0,
             "ticks": ""
            },
            "type": "mesh3d"
           }
          ],
          "parcoords": [
           {
            "line": {
             "colorbar": {
              "outlinewidth": 0,
              "ticks": ""
             }
            },
            "type": "parcoords"
           }
          ],
          "pie": [
           {
            "automargin": true,
            "type": "pie"
           }
          ],
          "scatter": [
           {
            "fillpattern": {
             "fillmode": "overlay",
             "size": 10,
             "solidity": 0.2
            },
            "type": "scatter"
           }
          ],
          "scatter3d": [
           {
            "line": {
             "colorbar": {
              "outlinewidth": 0,
              "ticks": ""
             }
            },
            "marker": {
             "colorbar": {
              "outlinewidth": 0,
              "ticks": ""
             }
            },
            "type": "scatter3d"
           }
          ],
          "scattercarpet": [
           {
            "marker": {
             "colorbar": {
              "outlinewidth": 0,
              "ticks": ""
             }
            },
            "type": "scattercarpet"
           }
          ],
          "scattergeo": [
           {
            "marker": {
             "colorbar": {
              "outlinewidth": 0,
              "ticks": ""
             }
            },
            "type": "scattergeo"
           }
          ],
          "scattergl": [
           {
            "marker": {
             "colorbar": {
              "outlinewidth": 0,
              "ticks": ""
             }
            },
            "type": "scattergl"
           }
          ],
          "scattermapbox": [
           {
            "marker": {
             "colorbar": {
              "outlinewidth": 0,
              "ticks": ""
             }
            },
            "type": "scattermapbox"
           }
          ],
          "scatterpolar": [
           {
            "marker": {
             "colorbar": {
              "outlinewidth": 0,
              "ticks": ""
             }
            },
            "type": "scatterpolar"
           }
          ],
          "scatterpolargl": [
           {
            "marker": {
             "colorbar": {
              "outlinewidth": 0,
              "ticks": ""
             }
            },
            "type": "scatterpolargl"
           }
          ],
          "scatterternary": [
           {
            "marker": {
             "colorbar": {
              "outlinewidth": 0,
              "ticks": ""
             }
            },
            "type": "scatterternary"
           }
          ],
          "surface": [
           {
            "colorbar": {
             "outlinewidth": 0,
             "ticks": ""
            },
            "colorscale": [
             [
              0,
              "#0d0887"
             ],
             [
              0.1111111111111111,
              "#46039f"
             ],
             [
              0.2222222222222222,
              "#7201a8"
             ],
             [
              0.3333333333333333,
              "#9c179e"
             ],
             [
              0.4444444444444444,
              "#bd3786"
             ],
             [
              0.5555555555555556,
              "#d8576b"
             ],
             [
              0.6666666666666666,
              "#ed7953"
             ],
             [
              0.7777777777777778,
              "#fb9f3a"
             ],
             [
              0.8888888888888888,
              "#fdca26"
             ],
             [
              1,
              "#f0f921"
             ]
            ],
            "type": "surface"
           }
          ],
          "table": [
           {
            "cells": {
             "fill": {
              "color": "#EBF0F8"
             },
             "line": {
              "color": "white"
             }
            },
            "header": {
             "fill": {
              "color": "#C8D4E3"
             },
             "line": {
              "color": "white"
             }
            },
            "type": "table"
           }
          ]
         },
         "layout": {
          "annotationdefaults": {
           "arrowcolor": "#2a3f5f",
           "arrowhead": 0,
           "arrowwidth": 1
          },
          "autotypenumbers": "strict",
          "coloraxis": {
           "colorbar": {
            "outlinewidth": 0,
            "ticks": ""
           }
          },
          "colorscale": {
           "diverging": [
            [
             0,
             "#8e0152"
            ],
            [
             0.1,
             "#c51b7d"
            ],
            [
             0.2,
             "#de77ae"
            ],
            [
             0.3,
             "#f1b6da"
            ],
            [
             0.4,
             "#fde0ef"
            ],
            [
             0.5,
             "#f7f7f7"
            ],
            [
             0.6,
             "#e6f5d0"
            ],
            [
             0.7,
             "#b8e186"
            ],
            [
             0.8,
             "#7fbc41"
            ],
            [
             0.9,
             "#4d9221"
            ],
            [
             1,
             "#276419"
            ]
           ],
           "sequential": [
            [
             0,
             "#0d0887"
            ],
            [
             0.1111111111111111,
             "#46039f"
            ],
            [
             0.2222222222222222,
             "#7201a8"
            ],
            [
             0.3333333333333333,
             "#9c179e"
            ],
            [
             0.4444444444444444,
             "#bd3786"
            ],
            [
             0.5555555555555556,
             "#d8576b"
            ],
            [
             0.6666666666666666,
             "#ed7953"
            ],
            [
             0.7777777777777778,
             "#fb9f3a"
            ],
            [
             0.8888888888888888,
             "#fdca26"
            ],
            [
             1,
             "#f0f921"
            ]
           ],
           "sequentialminus": [
            [
             0,
             "#0d0887"
            ],
            [
             0.1111111111111111,
             "#46039f"
            ],
            [
             0.2222222222222222,
             "#7201a8"
            ],
            [
             0.3333333333333333,
             "#9c179e"
            ],
            [
             0.4444444444444444,
             "#bd3786"
            ],
            [
             0.5555555555555556,
             "#d8576b"
            ],
            [
             0.6666666666666666,
             "#ed7953"
            ],
            [
             0.7777777777777778,
             "#fb9f3a"
            ],
            [
             0.8888888888888888,
             "#fdca26"
            ],
            [
             1,
             "#f0f921"
            ]
           ]
          },
          "colorway": [
           "#636efa",
           "#EF553B",
           "#00cc96",
           "#ab63fa",
           "#FFA15A",
           "#19d3f3",
           "#FF6692",
           "#B6E880",
           "#FF97FF",
           "#FECB52"
          ],
          "font": {
           "color": "#2a3f5f"
          },
          "geo": {
           "bgcolor": "white",
           "lakecolor": "white",
           "landcolor": "#E5ECF6",
           "showlakes": true,
           "showland": true,
           "subunitcolor": "white"
          },
          "hoverlabel": {
           "align": "left"
          },
          "hovermode": "closest",
          "mapbox": {
           "style": "light"
          },
          "paper_bgcolor": "white",
          "plot_bgcolor": "#E5ECF6",
          "polar": {
           "angularaxis": {
            "gridcolor": "white",
            "linecolor": "white",
            "ticks": ""
           },
           "bgcolor": "#E5ECF6",
           "radialaxis": {
            "gridcolor": "white",
            "linecolor": "white",
            "ticks": ""
           }
          },
          "scene": {
           "xaxis": {
            "backgroundcolor": "#E5ECF6",
            "gridcolor": "white",
            "gridwidth": 2,
            "linecolor": "white",
            "showbackground": true,
            "ticks": "",
            "zerolinecolor": "white"
           },
           "yaxis": {
            "backgroundcolor": "#E5ECF6",
            "gridcolor": "white",
            "gridwidth": 2,
            "linecolor": "white",
            "showbackground": true,
            "ticks": "",
            "zerolinecolor": "white"
           },
           "zaxis": {
            "backgroundcolor": "#E5ECF6",
            "gridcolor": "white",
            "gridwidth": 2,
            "linecolor": "white",
            "showbackground": true,
            "ticks": "",
            "zerolinecolor": "white"
           }
          },
          "shapedefaults": {
           "line": {
            "color": "#2a3f5f"
           }
          },
          "ternary": {
           "aaxis": {
            "gridcolor": "white",
            "linecolor": "white",
            "ticks": ""
           },
           "baxis": {
            "gridcolor": "white",
            "linecolor": "white",
            "ticks": ""
           },
           "bgcolor": "#E5ECF6",
           "caxis": {
            "gridcolor": "white",
            "linecolor": "white",
            "ticks": ""
           }
          },
          "title": {
           "x": 0.05
          },
          "xaxis": {
           "automargin": true,
           "gridcolor": "white",
           "linecolor": "white",
           "ticks": "",
           "title": {
            "standoff": 15
           },
           "zerolinecolor": "white",
           "zerolinewidth": 2
          },
          "yaxis": {
           "automargin": true,
           "gridcolor": "white",
           "linecolor": "white",
           "ticks": "",
           "title": {
            "standoff": 15
           },
           "zerolinecolor": "white",
           "zerolinewidth": 2
          }
         }
        },
        "title": {
         "text": "Mesure de la stabilité du modèle K-means"
        },
        "width": 800,
        "xaxis": {
         "title": {
          "text": "Mois"
         }
        }
       }
      }
     },
     "metadata": {},
     "output_type": "display_data"
    }
   ],
   "source": [
    "fig = go.Figure()\n",
    "\n",
    "fig.add_trace(go.Scatter(x=resultats_kmeans[\"Date\"], y=resultats_kmeans[\"ARI\"], mode='markers+lines', name='ARI', marker=dict(symbol='circle', size=8, color = '#4AA3A2')))\n",
    "\n",
    "fig.update_layout(\n",
    "    title=\"Mesure de la stabilité du modèle K-means\",\n",
    "    xaxis=dict(title=\"Mois\"),\n",
    "    showlegend=True,\n",
    "    legend=dict(x=0, y=1),\n",
    "    height=600,\n",
    "    width=800,\n",
    ")\n",
    "\n",
    "fig.show()"
   ]
  },
  {
   "cell_type": "code",
   "execution_count": 12,
   "metadata": {},
   "outputs": [
    {
     "data": {
      "image/png": "[encoded data removed]",
      "text/plain": [
       "<Figure size 800x550 with 1 Axes>"
      ]
     },
     "metadata": {},
     "output_type": "display_data"
    }
   ],
   "source": [
    "sns.lineplot(x=\"Date\", y=\"ARI\", data=resultats_kmeans)\n",
    "plt.xticks(rotation=45)\n",
    "plt.show()"
   ]
  },
  {
   "cell_type": "markdown",
   "metadata": {},
   "source": [
    "J'ai utilisé le score ARI pour évaluer la stabilité du modèle de segmentation obtenu avec l'algorithme K-Means. Le tracé ci-dessus décrit l'évolution de ce score mois après mois.\n",
    "\n",
    "Les 7 premiers mois, le score ARI varie très peu et reste élevé (supérieur à 0,94), mais au-delà de 7 mois, le score chute fortement pour passer en dessous de 0,5. Ceci signifie qu'il faudra prévoir une maintenance du programme de segmentation tous les 7 mois et de revérifier la stabilité. Il pourrait, par conséquence, être nécessaire de redéfinir les segments clients à chaque maintenance."
   ]
  }
 ],
 "metadata": {
  "kernelspec": {
   "display_name": "base",
   "language": "python",
   "name": "python3"
  },
  "language_info": {
   "codemirror_mode": {
    "name": "ipython",
    "version": 3
   },
   "file_extension": ".py",
   "mimetype": "text/x-python",
   "name": "python",
   "nbconvert_exporter": "python",
   "pygments_lexer": "ipython3",
   "version": "3.10.9"
  },
  "orig_nbformat": 4
 },
 "nbformat": 4,
 "nbformat_minor": 2
}
