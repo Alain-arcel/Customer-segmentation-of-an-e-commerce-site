{
 "cells": [
  {
   "attachments": {},
   "cell_type": "markdown",
   "id": "438ccb07",
   "metadata": {},
   "source": [
    "# <center> <font color = \"blue\" weight = \"bold\"> Segmentation RFM"
   ]
  },
  {
   "attachments": {},
   "cell_type": "markdown",
   "id": "50fffa9b",
   "metadata": {},
   "source": [
    "<center> <img src=https://rfmcube.com/wp-content/uploads/2021/07/1_HiwX6vul8c4PBEueq3yBMw.png width=\"400\" height=\"200\">"
   ]
  },
  {
   "attachments": {},
   "cell_type": "markdown",
   "id": "7b3e6d7d",
   "metadata": {},
   "source": [
    "Les clients d'une entreprise n'ont pas les mêmes besoins et ont des profils variés. L'entreprise doit donc adapter ses actions en fonction de cela. Pour y parvenir, il est indispensable de diviser la clientèle en des groupes présentant des caractéristiques similaires. Plusieurs méthodes de segmentation sont possibles à réaliser, mais pour ce notebook, nous allons réaliser uniquement la segmentation RFM. \n",
    "\n",
    "**RFM** signifie Récence - Fréquence - Valeur monétaire. <br>\n",
    "Dans la première partie de ce projet, nous avons créé les segments ci-dessous :\n",
    "- Bronze : Clients/achetreurs les moins actifs et générant des revenus très faibles ; \n",
    "- Silver : Clients générant des revenus modérés ; \n",
    "- gold : Clients générant des revenus importants ;\n",
    "- Platinum : représente le groupe de clients à ne pas perdre. Car ce groupe génère les revenus les plus importants pour l'entreprise.\n",
    "\n",
    "L'objectif à présent est d'appliquer un apprentissage automatique non supervisé pour identifier les clients faisant partir des différents groupes (clusters). Pour ce fait, nous allons réaliser La segmentation RFM en utilisant deux méthodes :\n",
    "- RFM classique ;\n",
    "- RFM avec l'algorithme K-means\n",
    "\n",
    "\n",
    "A présent, passons au codage et réalisons notre segmentation RFM."
   ]
  },
  {
   "attachments": {},
   "cell_type": "markdown",
   "id": "d4528c69",
   "metadata": {},
   "source": [
    "## <left> <font color = \"blue\" weight = \"bold\"> I. Importation des librairies et données"
   ]
  },
  {
   "attachments": {},
   "cell_type": "markdown",
   "id": "f2705f80",
   "metadata": {},
   "source": [
    "### <left> <font color = \"blue\" weight = \"bold\"> I.1. Importation des librairies et options"
   ]
  },
  {
   "cell_type": "code",
   "execution_count": 1,
   "id": "1329bec1",
   "metadata": {},
   "outputs": [],
   "source": [
    "import pandas as pd\n",
    "import numpy as np\n",
    "import matplotlib.pyplot as plt\n",
    "import seaborn as sns\n",
    "from skimpy import skim\n",
    "import plotly.graph_objects as go\n",
    "import plotly.express as px\n",
    "from sklearn.cluster import KMeans\n",
    "from scipy import stats\n",
    "from scipy.stats import kstest, skew\n",
    "from sklearn.preprocessing import FunctionTransformer, RobustScaler"
   ]
  },
  {
   "attachments": {},
   "cell_type": "markdown",
   "id": "91deeaba",
   "metadata": {},
   "source": [
    "### <left> <font color = \"blue\" weight = \"bold\"> I.2. Importation des données"
   ]
  },
  {
   "cell_type": "code",
   "execution_count": 2,
   "id": "9fc78138",
   "metadata": {},
   "outputs": [],
   "source": [
    "data_rfm = pd.read_csv(\"rfm.csv\")"
   ]
  },
  {
   "attachments": {},
   "cell_type": "markdown",
   "id": "fa190f89",
   "metadata": {},
   "source": [
    "## <left> <font color = \"blue\" weight = \"bold\"> II. Vérification des données"
   ]
  },
  {
   "cell_type": "code",
   "execution_count": 3,
   "id": "959bdded",
   "metadata": {},
   "outputs": [
    {
     "data": {
      "text/html": [
       "<div>\n",
       "<style scoped>\n",
       "    .dataframe tbody tr th:only-of-type {\n",
       "        vertical-align: middle;\n",
       "    }\n",
       "\n",
       "    .dataframe tbody tr th {\n",
       "        vertical-align: top;\n",
       "    }\n",
       "\n",
       "    .dataframe thead th {\n",
       "        text-align: right;\n",
       "    }\n",
       "</style>\n",
       "<table border=\"1\" class=\"dataframe\">\n",
       "  <thead>\n",
       "    <tr style=\"text-align: right;\">\n",
       "      <th></th>\n",
       "      <th>customer_unique_id</th>\n",
       "      <th>recence</th>\n",
       "      <th>frequence</th>\n",
       "      <th>montant</th>\n",
       "    </tr>\n",
       "  </thead>\n",
       "  <tbody>\n",
       "    <tr>\n",
       "      <th>0</th>\n",
       "      <td>0000366f3b9a7992bf8c76cfdf3221e2</td>\n",
       "      <td>111</td>\n",
       "      <td>1</td>\n",
       "      <td>141.90</td>\n",
       "    </tr>\n",
       "    <tr>\n",
       "      <th>1</th>\n",
       "      <td>0000b849f77a49e4a4ce2b2a4ca5be3f</td>\n",
       "      <td>114</td>\n",
       "      <td>1</td>\n",
       "      <td>27.19</td>\n",
       "    </tr>\n",
       "    <tr>\n",
       "      <th>2</th>\n",
       "      <td>0000f46a3911fa3c0805444483337064</td>\n",
       "      <td>536</td>\n",
       "      <td>1</td>\n",
       "      <td>86.22</td>\n",
       "    </tr>\n",
       "    <tr>\n",
       "      <th>3</th>\n",
       "      <td>0000f6ccb0745a6a4b88665a16c9f078</td>\n",
       "      <td>320</td>\n",
       "      <td>1</td>\n",
       "      <td>43.62</td>\n",
       "    </tr>\n",
       "    <tr>\n",
       "      <th>4</th>\n",
       "      <td>0004aac84e0df4da2b147fca70cf8255</td>\n",
       "      <td>287</td>\n",
       "      <td>1</td>\n",
       "      <td>196.89</td>\n",
       "    </tr>\n",
       "  </tbody>\n",
       "</table>\n",
       "</div>"
      ],
      "text/plain": [
       "                 customer_unique_id  recence  frequence  montant\n",
       "0  0000366f3b9a7992bf8c76cfdf3221e2      111          1   141.90\n",
       "1  0000b849f77a49e4a4ce2b2a4ca5be3f      114          1    27.19\n",
       "2  0000f46a3911fa3c0805444483337064      536          1    86.22\n",
       "3  0000f6ccb0745a6a4b88665a16c9f078      320          1    43.62\n",
       "4  0004aac84e0df4da2b147fca70cf8255      287          1   196.89"
      ]
     },
     "execution_count": 3,
     "metadata": {},
     "output_type": "execute_result"
    }
   ],
   "source": [
    "data_rfm.head()"
   ]
  },
  {
   "cell_type": "code",
   "execution_count": 4,
   "id": "7436082c",
   "metadata": {},
   "outputs": [
    {
     "data": {
      "text/html": [
       "<pre style=\"white-space:pre;overflow-x:auto;line-height:normal;font-family:Menlo,'DejaVu Sans Mono',consolas,'Courier New',monospace\">╭──────────────────────────────────────────────── skimpy summary ─────────────────────────────────────────────────╮\n",
       "│ <span style=\"font-style: italic\">         Data Summary         </span> <span style=\"font-style: italic\">      Data Types       </span>                                                          │\n",
       "│ ┏━━━━━━━━━━━━━━━━━━━┳━━━━━━━━┓ ┏━━━━━━━━━━━━━┳━━━━━━━┓                                                          │\n",
       "│ ┃<span style=\"color: #008080; text-decoration-color: #008080; font-weight: bold\"> dataframe         </span>┃<span style=\"color: #008080; text-decoration-color: #008080; font-weight: bold\"> Values </span>┃ ┃<span style=\"color: #008080; text-decoration-color: #008080; font-weight: bold\"> Column Type </span>┃<span style=\"color: #008080; text-decoration-color: #008080; font-weight: bold\"> Count </span>┃                                                          │\n",
       "│ ┡━━━━━━━━━━━━━━━━━━━╇━━━━━━━━┩ ┡━━━━━━━━━━━━━╇━━━━━━━┩                                                          │\n",
       "│ │ Number of rows    │ 91481  │ │ int32       │ 2     │                                                          │\n",
       "│ │ Number of columns │ 4      │ │ string      │ 1     │                                                          │\n",
       "│ └───────────────────┴────────┘ │ float64     │ 1     │                                                          │\n",
       "│                                └─────────────┴───────┘                                                          │\n",
       "│ <span style=\"font-style: italic\">                                                    number                                                    </span>  │\n",
       "│ ┏━━━━━━━━━━━━━━━━━━━━━┳━━━━━━━┳━━━━━━━━━━┳━━━━━━━━━┳━━━━━━━━━┳━━━━━━┳━━━━━━━━┳━━━━━━━━┳━━━━━━━━━━┳━━━━━━━━━━━┓  │\n",
       "│ ┃<span style=\"font-weight: bold\"> column_name         </span>┃<span style=\"font-weight: bold\"> NA    </span>┃<span style=\"font-weight: bold\"> NA %     </span>┃<span style=\"font-weight: bold\"> mean    </span>┃<span style=\"font-weight: bold\"> sd      </span>┃<span style=\"font-weight: bold\"> p0   </span>┃<span style=\"font-weight: bold\"> p25    </span>┃<span style=\"font-weight: bold\"> p75    </span>┃<span style=\"font-weight: bold\"> p100     </span>┃<span style=\"font-weight: bold\"> hist      </span>┃  │\n",
       "│ ┡━━━━━━━━━━━━━━━━━━━━━╇━━━━━━━╇━━━━━━━━━━╇━━━━━━━━━╇━━━━━━━━━╇━━━━━━╇━━━━━━━━╇━━━━━━━━╇━━━━━━━━━━╇━━━━━━━━━━━┩  │\n",
       "│ │ <span style=\"color: #af87ff; text-decoration-color: #af87ff\">recence            </span> │ <span style=\"color: #008080; text-decoration-color: #008080\">    0</span> │ <span style=\"color: #008080; text-decoration-color: #008080\">       0</span> │ <span style=\"color: #008080; text-decoration-color: #008080\">    240</span> │ <span style=\"color: #008080; text-decoration-color: #008080\">    150</span> │ <span style=\"color: #008080; text-decoration-color: #008080\">   0</span> │ <span style=\"color: #008080; text-decoration-color: #008080\">   110</span> │ <span style=\"color: #008080; text-decoration-color: #008080\">   340</span> │ <span style=\"color: #008080; text-decoration-color: #008080\">     690</span> │ <span style=\"color: #008000; text-decoration-color: #008000\">  ▇█▆▄▃  </span> │  │\n",
       "│ │ <span style=\"color: #af87ff; text-decoration-color: #af87ff\">frequence          </span> │ <span style=\"color: #008080; text-decoration-color: #008080\">    0</span> │ <span style=\"color: #008080; text-decoration-color: #008080\">       0</span> │ <span style=\"color: #008080; text-decoration-color: #008080\">    1.2</span> │ <span style=\"color: #008080; text-decoration-color: #008080\">   0.84</span> │ <span style=\"color: #008080; text-decoration-color: #008080\">   1</span> │ <span style=\"color: #008080; text-decoration-color: #008080\">     1</span> │ <span style=\"color: #008080; text-decoration-color: #008080\">     1</span> │ <span style=\"color: #008080; text-decoration-color: #008080\">      75</span> │ <span style=\"color: #008000; text-decoration-color: #008000\">    █    </span> │  │\n",
       "│ │ <span style=\"color: #af87ff; text-decoration-color: #af87ff\">montant            </span> │ <span style=\"color: #008080; text-decoration-color: #008080\">    0</span> │ <span style=\"color: #008080; text-decoration-color: #008080\">       0</span> │ <span style=\"color: #008080; text-decoration-color: #008080\">    170</span> │ <span style=\"color: #008080; text-decoration-color: #008080\">    260</span> │ <span style=\"color: #008080; text-decoration-color: #008080\">  10</span> │ <span style=\"color: #008080; text-decoration-color: #008080\">    64</span> │ <span style=\"color: #008080; text-decoration-color: #008080\">   190</span> │ <span style=\"color: #008080; text-decoration-color: #008080\">   14000</span> │ <span style=\"color: #008000; text-decoration-color: #008000\">    █    </span> │  │\n",
       "│ └─────────────────────┴───────┴──────────┴─────────┴─────────┴──────┴────────┴────────┴──────────┴───────────┘  │\n",
       "│ <span style=\"font-style: italic\">                                                    string                                                    </span>  │\n",
       "│ ┏━━━━━━━━━━━━━━━━━━━━━━━━━━━━━━━━━━━━┳━━━━━━━━┳━━━━━━━━━━━┳━━━━━━━━━━━━━━━━━━━━━━━━━━━┳━━━━━━━━━━━━━━━━━━━━━━┓  │\n",
       "│ ┃<span style=\"font-weight: bold\"> column_name                        </span>┃<span style=\"font-weight: bold\"> NA     </span>┃<span style=\"font-weight: bold\"> NA %      </span>┃<span style=\"font-weight: bold\"> words per row             </span>┃<span style=\"font-weight: bold\"> total words          </span>┃  │\n",
       "│ ┡━━━━━━━━━━━━━━━━━━━━━━━━━━━━━━━━━━━━╇━━━━━━━━╇━━━━━━━━━━━╇━━━━━━━━━━━━━━━━━━━━━━━━━━━╇━━━━━━━━━━━━━━━━━━━━━━┩  │\n",
       "│ │ <span style=\"color: #af87ff; text-decoration-color: #af87ff\">customer_unique_id                </span> │ <span style=\"color: #008080; text-decoration-color: #008080\">     0</span> │ <span style=\"color: #008080; text-decoration-color: #008080\">        0</span> │ <span style=\"color: #008080; text-decoration-color: #008080\">                        1</span> │ <span style=\"color: #008080; text-decoration-color: #008080\">               91000</span> │  │\n",
       "│ └────────────────────────────────────┴────────┴───────────┴───────────────────────────┴──────────────────────┘  │\n",
       "╰────────────────────────────────────────────────────── End ──────────────────────────────────────────────────────╯\n",
       "</pre>\n"
      ],
      "text/plain": [
       "╭──────────────────────────────────────────────── skimpy summary ─────────────────────────────────────────────────╮\n",
       "│ \u001b[3m         Data Summary         \u001b[0m \u001b[3m      Data Types       \u001b[0m                                                          │\n",
       "│ ┏━━━━━━━━━━━━━━━━━━━┳━━━━━━━━┓ ┏━━━━━━━━━━━━━┳━━━━━━━┓                                                          │\n",
       "│ ┃\u001b[1;36m \u001b[0m\u001b[1;36mdataframe        \u001b[0m\u001b[1;36m \u001b[0m┃\u001b[1;36m \u001b[0m\u001b[1;36mValues\u001b[0m\u001b[1;36m \u001b[0m┃ ┃\u001b[1;36m \u001b[0m\u001b[1;36mColumn Type\u001b[0m\u001b[1;36m \u001b[0m┃\u001b[1;36m \u001b[0m\u001b[1;36mCount\u001b[0m\u001b[1;36m \u001b[0m┃                                                          │\n",
       "│ ┡━━━━━━━━━━━━━━━━━━━╇━━━━━━━━┩ ┡━━━━━━━━━━━━━╇━━━━━━━┩                                                          │\n",
       "│ │ Number of rows    │ 91481  │ │ int32       │ 2     │                                                          │\n",
       "│ │ Number of columns │ 4      │ │ string      │ 1     │                                                          │\n",
       "│ └───────────────────┴────────┘ │ float64     │ 1     │                                                          │\n",
       "│                                └─────────────┴───────┘                                                          │\n",
       "│ \u001b[3m                                                    number                                                    \u001b[0m  │\n",
       "│ ┏━━━━━━━━━━━━━━━━━━━━━┳━━━━━━━┳━━━━━━━━━━┳━━━━━━━━━┳━━━━━━━━━┳━━━━━━┳━━━━━━━━┳━━━━━━━━┳━━━━━━━━━━┳━━━━━━━━━━━┓  │\n",
       "│ ┃\u001b[1m \u001b[0m\u001b[1mcolumn_name        \u001b[0m\u001b[1m \u001b[0m┃\u001b[1m \u001b[0m\u001b[1mNA   \u001b[0m\u001b[1m \u001b[0m┃\u001b[1m \u001b[0m\u001b[1mNA %    \u001b[0m\u001b[1m \u001b[0m┃\u001b[1m \u001b[0m\u001b[1mmean   \u001b[0m\u001b[1m \u001b[0m┃\u001b[1m \u001b[0m\u001b[1msd     \u001b[0m\u001b[1m \u001b[0m┃\u001b[1m \u001b[0m\u001b[1mp0  \u001b[0m\u001b[1m \u001b[0m┃\u001b[1m \u001b[0m\u001b[1mp25   \u001b[0m\u001b[1m \u001b[0m┃\u001b[1m \u001b[0m\u001b[1mp75   \u001b[0m\u001b[1m \u001b[0m┃\u001b[1m \u001b[0m\u001b[1mp100    \u001b[0m\u001b[1m \u001b[0m┃\u001b[1m \u001b[0m\u001b[1mhist     \u001b[0m\u001b[1m \u001b[0m┃  │\n",
       "│ ┡━━━━━━━━━━━━━━━━━━━━━╇━━━━━━━╇━━━━━━━━━━╇━━━━━━━━━╇━━━━━━━━━╇━━━━━━╇━━━━━━━━╇━━━━━━━━╇━━━━━━━━━━╇━━━━━━━━━━━┩  │\n",
       "│ │ \u001b[38;5;141mrecence            \u001b[0m │ \u001b[36m    0\u001b[0m │ \u001b[36m       0\u001b[0m │ \u001b[36m    240\u001b[0m │ \u001b[36m    150\u001b[0m │ \u001b[36m   0\u001b[0m │ \u001b[36m   110\u001b[0m │ \u001b[36m   340\u001b[0m │ \u001b[36m     690\u001b[0m │ \u001b[32m  ▇█▆▄▃  \u001b[0m │  │\n",
       "│ │ \u001b[38;5;141mfrequence          \u001b[0m │ \u001b[36m    0\u001b[0m │ \u001b[36m       0\u001b[0m │ \u001b[36m    1.2\u001b[0m │ \u001b[36m   0.84\u001b[0m │ \u001b[36m   1\u001b[0m │ \u001b[36m     1\u001b[0m │ \u001b[36m     1\u001b[0m │ \u001b[36m      75\u001b[0m │ \u001b[32m    █    \u001b[0m │  │\n",
       "│ │ \u001b[38;5;141mmontant            \u001b[0m │ \u001b[36m    0\u001b[0m │ \u001b[36m       0\u001b[0m │ \u001b[36m    170\u001b[0m │ \u001b[36m    260\u001b[0m │ \u001b[36m  10\u001b[0m │ \u001b[36m    64\u001b[0m │ \u001b[36m   190\u001b[0m │ \u001b[36m   14000\u001b[0m │ \u001b[32m    █    \u001b[0m │  │\n",
       "│ └─────────────────────┴───────┴──────────┴─────────┴─────────┴──────┴────────┴────────┴──────────┴───────────┘  │\n",
       "│ \u001b[3m                                                    string                                                    \u001b[0m  │\n",
       "│ ┏━━━━━━━━━━━━━━━━━━━━━━━━━━━━━━━━━━━━┳━━━━━━━━┳━━━━━━━━━━━┳━━━━━━━━━━━━━━━━━━━━━━━━━━━┳━━━━━━━━━━━━━━━━━━━━━━┓  │\n",
       "│ ┃\u001b[1m \u001b[0m\u001b[1mcolumn_name                       \u001b[0m\u001b[1m \u001b[0m┃\u001b[1m \u001b[0m\u001b[1mNA    \u001b[0m\u001b[1m \u001b[0m┃\u001b[1m \u001b[0m\u001b[1mNA %     \u001b[0m\u001b[1m \u001b[0m┃\u001b[1m \u001b[0m\u001b[1mwords per row            \u001b[0m\u001b[1m \u001b[0m┃\u001b[1m \u001b[0m\u001b[1mtotal words         \u001b[0m\u001b[1m \u001b[0m┃  │\n",
       "│ ┡━━━━━━━━━━━━━━━━━━━━━━━━━━━━━━━━━━━━╇━━━━━━━━╇━━━━━━━━━━━╇━━━━━━━━━━━━━━━━━━━━━━━━━━━╇━━━━━━━━━━━━━━━━━━━━━━┩  │\n",
       "│ │ \u001b[38;5;141mcustomer_unique_id                \u001b[0m │ \u001b[36m     0\u001b[0m │ \u001b[36m        0\u001b[0m │ \u001b[36m                        1\u001b[0m │ \u001b[36m               91000\u001b[0m │  │\n",
       "│ └────────────────────────────────────┴────────┴───────────┴───────────────────────────┴──────────────────────┘  │\n",
       "╰────────────────────────────────────────────────────── End ──────────────────────────────────────────────────────╯\n"
      ]
     },
     "metadata": {},
     "output_type": "display_data"
    }
   ],
   "source": [
    "# Description des données\n",
    "skim(data_rfm)"
   ]
  },
  {
   "attachments": {},
   "cell_type": "markdown",
   "id": "f24cba92",
   "metadata": {},
   "source": [
    "**_Observations :_** <br>\n",
    "- Aucune valeur manquante ;\n",
    "- Nous comptons 9.333 clients ;\n",
    "- La fréquence des achats est très faible, en moyenne 1 achat par client pour un montant de dépenses moyen de 190 R$.\n",
    "- Les variables numériques ne semblent pas suivre une distribution normale : regardons cela de plus près. "
   ]
  },
  {
   "attachments": {},
   "cell_type": "markdown",
   "id": "abf24819",
   "metadata": {},
   "source": [
    "**_Vérification des outliers_** <br>\n",
    "Nous allons procéder par l'analyse des boîtes à moustache"
   ]
  },
  {
   "cell_type": "code",
   "execution_count": 5,
   "id": "f31c91fb",
   "metadata": {},
   "outputs": [
    {
     "data": {
      "image/png": "[encoded data removed]",
      "text/plain": [
       "<Figure size 1800x500 with 3 Axes>"
      ]
     },
     "metadata": {},
     "output_type": "display_data"
    }
   ],
   "source": [
    "# Paramètres des tracés\n",
    "fig, axes = plt.subplots(1, 3, figsize=(18, 5))\n",
    "plt.tight_layout()\n",
    "\n",
    "# Définition des variables\n",
    "variables = [\"recence\", \"frequence\", \"montant\"]\n",
    "\n",
    "# Boucle pour afficher les boîtes à moustaches sur chaque axe\n",
    "for i, var in enumerate(variables):\n",
    "    axes[i].boxplot(data_rfm[var])\n",
    "    axes[i].set_xlabel(var)\n",
    "    axes[i].set_ylabel('Frequence')\n",
    "\n",
    "# Affichage de la figure\n",
    "plt.show()\n"
   ]
  },
  {
   "attachments": {},
   "cell_type": "markdown",
   "id": "4114c3bd",
   "metadata": {},
   "source": [
    "_Les variables \"recence\" et \"montant\" contiennent des valeurs qui s'éloignent fortement des autres, mais ne constituent pas des valeurs aberrantes, nous allons les garder telles qu'elles._ <br>\n",
    "Définissons l'identifiant client comme index dans ce tableau de données."
   ]
  },
  {
   "cell_type": "code",
   "execution_count": 6,
   "id": "ed8fae0c",
   "metadata": {},
   "outputs": [
    {
     "data": {
      "text/html": [
       "<div>\n",
       "<style scoped>\n",
       "    .dataframe tbody tr th:only-of-type {\n",
       "        vertical-align: middle;\n",
       "    }\n",
       "\n",
       "    .dataframe tbody tr th {\n",
       "        vertical-align: top;\n",
       "    }\n",
       "\n",
       "    .dataframe thead th {\n",
       "        text-align: right;\n",
       "    }\n",
       "</style>\n",
       "<table border=\"1\" class=\"dataframe\">\n",
       "  <thead>\n",
       "    <tr style=\"text-align: right;\">\n",
       "      <th></th>\n",
       "      <th>recence</th>\n",
       "      <th>frequence</th>\n",
       "      <th>montant</th>\n",
       "    </tr>\n",
       "    <tr>\n",
       "      <th>customer_unique_id</th>\n",
       "      <th></th>\n",
       "      <th></th>\n",
       "      <th></th>\n",
       "    </tr>\n",
       "  </thead>\n",
       "  <tbody>\n",
       "    <tr>\n",
       "      <th>0000366f3b9a7992bf8c76cfdf3221e2</th>\n",
       "      <td>111</td>\n",
       "      <td>1</td>\n",
       "      <td>141.90</td>\n",
       "    </tr>\n",
       "    <tr>\n",
       "      <th>0000b849f77a49e4a4ce2b2a4ca5be3f</th>\n",
       "      <td>114</td>\n",
       "      <td>1</td>\n",
       "      <td>27.19</td>\n",
       "    </tr>\n",
       "    <tr>\n",
       "      <th>0000f46a3911fa3c0805444483337064</th>\n",
       "      <td>536</td>\n",
       "      <td>1</td>\n",
       "      <td>86.22</td>\n",
       "    </tr>\n",
       "  </tbody>\n",
       "</table>\n",
       "</div>"
      ],
      "text/plain": [
       "                                  recence  frequence  montant\n",
       "customer_unique_id                                           \n",
       "0000366f3b9a7992bf8c76cfdf3221e2      111          1   141.90\n",
       "0000b849f77a49e4a4ce2b2a4ca5be3f      114          1    27.19\n",
       "0000f46a3911fa3c0805444483337064      536          1    86.22"
      ]
     },
     "execution_count": 6,
     "metadata": {},
     "output_type": "execute_result"
    }
   ],
   "source": [
    "# Création d'une copie du jeu de données\n",
    "data = data_rfm.copy()\n",
    "\n",
    "# Définition de \"customer_unique_id\" comme index\n",
    "data = data.set_index(\"customer_unique_id\")\n",
    "\n",
    "# Visualisation\n",
    "data.head(3)"
   ]
  },
  {
   "attachments": {},
   "cell_type": "markdown",
   "id": "365d28b8",
   "metadata": {},
   "source": [
    "_Procédons à présent à la segmentation RFM classique_"
   ]
  },
  {
   "attachments": {},
   "cell_type": "markdown",
   "id": "3b5f1011",
   "metadata": {},
   "source": [
    "## <font color = \"blue\" weight = \"bold\"> III. Segmentation RFM \"classique\""
   ]
  },
  {
   "attachments": {},
   "cell_type": "markdown",
   "id": "05566ef0",
   "metadata": {},
   "source": [
    "La segmentation RFM catégorise les clients en différents segments, en fonction de leurs interactions avec le site web, dans cette section,  nous allons effectuer une segmentation RFM basée sur le score RFM combinant les trois paramètres \"recence\", \"frequence\" et \"montant\" ce qui permettra de diviser les clients en 11 groupes différents."
   ]
  },
  {
   "attachments": {},
   "cell_type": "markdown",
   "id": "24815685",
   "metadata": {},
   "source": [
    "### <font color = \"blue\" weight = \"bold\"> III.1. Calcul du score RFM\n",
    "    \n",
    "Pour calculer le score RFM, nous allons discrétiser les variables \"recence\", \"frequence\" et \"montant\" en utilisant la méthode de découpage en quantiles (quantile-based discretization). Chaque valeur sera attribuée à l'intervalle correspondant, et le score correspondant sera stocké dans une nouvelle variable."
   ]
  },
  {
   "cell_type": "code",
   "execution_count": 7,
   "id": "6db231bc",
   "metadata": {},
   "outputs": [],
   "source": [
    "data[\"score_recence\"]  = pd.qcut(data['recence'], 5, labels=[5, 4, 3, 2, 1])\n",
    "data[\"score_frequence\"]= pd.qcut(data['frequence'].rank(method=\"first\"), 5, labels=[1, 2, 3, 4, 5])\n",
    "data[\"score_montant\"] = pd.qcut(data['montant'], 5, labels=[1, 2, 3, 4, 5])"
   ]
  },
  {
   "attachments": {},
   "cell_type": "markdown",
   "id": "3ab47fa3",
   "metadata": {},
   "source": [
    "**_Fusion des scores_**"
   ]
  },
  {
   "cell_type": "code",
   "execution_count": 8,
   "id": "66138738",
   "metadata": {},
   "outputs": [
    {
     "data": {
      "text/html": [
       "<div>\n",
       "<style scoped>\n",
       "    .dataframe tbody tr th:only-of-type {\n",
       "        vertical-align: middle;\n",
       "    }\n",
       "\n",
       "    .dataframe tbody tr th {\n",
       "        vertical-align: top;\n",
       "    }\n",
       "\n",
       "    .dataframe thead th {\n",
       "        text-align: right;\n",
       "    }\n",
       "</style>\n",
       "<table border=\"1\" class=\"dataframe\">\n",
       "  <thead>\n",
       "    <tr style=\"text-align: right;\">\n",
       "      <th></th>\n",
       "      <th>recence</th>\n",
       "      <th>frequence</th>\n",
       "      <th>montant</th>\n",
       "      <th>score_recence</th>\n",
       "      <th>score_frequence</th>\n",
       "      <th>score_montant</th>\n",
       "      <th>score</th>\n",
       "    </tr>\n",
       "    <tr>\n",
       "      <th>customer_unique_id</th>\n",
       "      <th></th>\n",
       "      <th></th>\n",
       "      <th></th>\n",
       "      <th></th>\n",
       "      <th></th>\n",
       "      <th></th>\n",
       "      <th></th>\n",
       "    </tr>\n",
       "  </thead>\n",
       "  <tbody>\n",
       "    <tr>\n",
       "      <th>0000366f3b9a7992bf8c76cfdf3221e2</th>\n",
       "      <td>111</td>\n",
       "      <td>1</td>\n",
       "      <td>141.90</td>\n",
       "      <td>4</td>\n",
       "      <td>1</td>\n",
       "      <td>4</td>\n",
       "      <td>414</td>\n",
       "    </tr>\n",
       "    <tr>\n",
       "      <th>0000b849f77a49e4a4ce2b2a4ca5be3f</th>\n",
       "      <td>114</td>\n",
       "      <td>1</td>\n",
       "      <td>27.19</td>\n",
       "      <td>4</td>\n",
       "      <td>1</td>\n",
       "      <td>1</td>\n",
       "      <td>411</td>\n",
       "    </tr>\n",
       "    <tr>\n",
       "      <th>0000f46a3911fa3c0805444483337064</th>\n",
       "      <td>536</td>\n",
       "      <td>1</td>\n",
       "      <td>86.22</td>\n",
       "      <td>1</td>\n",
       "      <td>1</td>\n",
       "      <td>2</td>\n",
       "      <td>112</td>\n",
       "    </tr>\n",
       "    <tr>\n",
       "      <th>0000f6ccb0745a6a4b88665a16c9f078</th>\n",
       "      <td>320</td>\n",
       "      <td>1</td>\n",
       "      <td>43.62</td>\n",
       "      <td>2</td>\n",
       "      <td>1</td>\n",
       "      <td>1</td>\n",
       "      <td>211</td>\n",
       "    </tr>\n",
       "    <tr>\n",
       "      <th>0004aac84e0df4da2b147fca70cf8255</th>\n",
       "      <td>287</td>\n",
       "      <td>1</td>\n",
       "      <td>196.89</td>\n",
       "      <td>2</td>\n",
       "      <td>1</td>\n",
       "      <td>4</td>\n",
       "      <td>214</td>\n",
       "    </tr>\n",
       "  </tbody>\n",
       "</table>\n",
       "</div>"
      ],
      "text/plain": [
       "                                  recence  frequence  montant score_recence  \\\n",
       "customer_unique_id                                                            \n",
       "0000366f3b9a7992bf8c76cfdf3221e2      111          1   141.90             4   \n",
       "0000b849f77a49e4a4ce2b2a4ca5be3f      114          1    27.19             4   \n",
       "0000f46a3911fa3c0805444483337064      536          1    86.22             1   \n",
       "0000f6ccb0745a6a4b88665a16c9f078      320          1    43.62             2   \n",
       "0004aac84e0df4da2b147fca70cf8255      287          1   196.89             2   \n",
       "\n",
       "                                 score_frequence score_montant score  \n",
       "customer_unique_id                                                    \n",
       "0000366f3b9a7992bf8c76cfdf3221e2               1             4   414  \n",
       "0000b849f77a49e4a4ce2b2a4ca5be3f               1             1   411  \n",
       "0000f46a3911fa3c0805444483337064               1             2   112  \n",
       "0000f6ccb0745a6a4b88665a16c9f078               1             1   211  \n",
       "0004aac84e0df4da2b147fca70cf8255               1             4   214  "
      ]
     },
     "execution_count": 8,
     "metadata": {},
     "output_type": "execute_result"
    }
   ],
   "source": [
    "data[\"score\"] = data.score_recence.astype(str) + data.score_frequence.astype(str) + data.score_montant.astype(str)\n",
    "data.head()"
   ]
  },
  {
   "attachments": {},
   "cell_type": "markdown",
   "id": "1aed8931",
   "metadata": {},
   "source": [
    "### <font color = \"blue\" weight = \"bold\"> III.2. Création des groupes\n",
    " \n",
    "Nous allons à présent repartir les clients en différents groupes. Comme référence, nous nous servirons du tableau de répartition des clients proposé par \"Bloomreach\" et disponible depuis le site web ci-dessous. <br> https://documentation.bloomreach.com/engagement/docs/rfm-segmentation"
   ]
  },
  {
   "attachments": {
    "image.png": {
     "image/png": "[encoded data removed]"
    }
   },
   "cell_type": "markdown",
   "id": "c78a24ae",
   "metadata": {},
   "source": [
    "![image.png](attachment:image.png)"
   ]
  },
  {
   "cell_type": "code",
   "execution_count": 9,
   "id": "2286882b",
   "metadata": {},
   "outputs": [],
   "source": [
    "# Création d'un disctionnaire contenant les valeurs issus du tableau ci-dessus\n",
    "dico = {\n",
    "    r'111|112|121|131|141|151': 'Lost customers',\n",
    "    r'332|322|233|232|223|222|132|123|122|212|211': 'Hibernating customers', \n",
    "    r'155|154|144|214|215|115|114|113': 'Cannot Lose Them',\n",
    "    r'255|254|245|244|253|252|243|242|235|234|225|224|153|152|145|143|142|135|134|133|125|124': 'At Risk',\n",
    "    r'331|321|312|221|213|231|241|251': 'About To Sleep',\n",
    "    r'535|534|443|434|343|334|325|324': 'Need Attention',\n",
    "    r'525|524|523|522|521|515|514|513|425|424|413|414|415|315|314|313': 'Promising',\n",
    "    r'512|511|422|421|412|411|311': 'New Customers',\n",
    "    r'553|551|552|541|542|533|532|531|452|451|442|441|431|453|433|432|423|353|352|351|342|341|333|323': 'Potential Loyalist',\n",
    "    r'543|444|435|355|354|345|344|335': 'Loyal',\n",
    "    r'555|554|544|545|454|455|445': 'Champions'\n",
    "}"
   ]
  },
  {
   "cell_type": "code",
   "execution_count": 10,
   "id": "6a051ddc",
   "metadata": {},
   "outputs": [
    {
     "data": {
      "text/html": [
       "<div>\n",
       "<style scoped>\n",
       "    .dataframe tbody tr th:only-of-type {\n",
       "        vertical-align: middle;\n",
       "    }\n",
       "\n",
       "    .dataframe tbody tr th {\n",
       "        vertical-align: top;\n",
       "    }\n",
       "\n",
       "    .dataframe thead th {\n",
       "        text-align: right;\n",
       "    }\n",
       "</style>\n",
       "<table border=\"1\" class=\"dataframe\">\n",
       "  <thead>\n",
       "    <tr style=\"text-align: right;\">\n",
       "      <th></th>\n",
       "      <th>recence</th>\n",
       "      <th>frequence</th>\n",
       "      <th>montant</th>\n",
       "      <th>score_recence</th>\n",
       "      <th>score_frequence</th>\n",
       "      <th>score_montant</th>\n",
       "      <th>score</th>\n",
       "      <th>groupe</th>\n",
       "    </tr>\n",
       "    <tr>\n",
       "      <th>customer_unique_id</th>\n",
       "      <th></th>\n",
       "      <th></th>\n",
       "      <th></th>\n",
       "      <th></th>\n",
       "      <th></th>\n",
       "      <th></th>\n",
       "      <th></th>\n",
       "      <th></th>\n",
       "    </tr>\n",
       "  </thead>\n",
       "  <tbody>\n",
       "    <tr>\n",
       "      <th>0000366f3b9a7992bf8c76cfdf3221e2</th>\n",
       "      <td>111</td>\n",
       "      <td>1</td>\n",
       "      <td>141.90</td>\n",
       "      <td>4</td>\n",
       "      <td>1</td>\n",
       "      <td>4</td>\n",
       "      <td>414</td>\n",
       "      <td>Promising</td>\n",
       "    </tr>\n",
       "    <tr>\n",
       "      <th>0000b849f77a49e4a4ce2b2a4ca5be3f</th>\n",
       "      <td>114</td>\n",
       "      <td>1</td>\n",
       "      <td>27.19</td>\n",
       "      <td>4</td>\n",
       "      <td>1</td>\n",
       "      <td>1</td>\n",
       "      <td>411</td>\n",
       "      <td>New Customers</td>\n",
       "    </tr>\n",
       "    <tr>\n",
       "      <th>0000f46a3911fa3c0805444483337064</th>\n",
       "      <td>536</td>\n",
       "      <td>1</td>\n",
       "      <td>86.22</td>\n",
       "      <td>1</td>\n",
       "      <td>1</td>\n",
       "      <td>2</td>\n",
       "      <td>112</td>\n",
       "      <td>Lost customers</td>\n",
       "    </tr>\n",
       "    <tr>\n",
       "      <th>0000f6ccb0745a6a4b88665a16c9f078</th>\n",
       "      <td>320</td>\n",
       "      <td>1</td>\n",
       "      <td>43.62</td>\n",
       "      <td>2</td>\n",
       "      <td>1</td>\n",
       "      <td>1</td>\n",
       "      <td>211</td>\n",
       "      <td>Hibernating customers</td>\n",
       "    </tr>\n",
       "    <tr>\n",
       "      <th>0004aac84e0df4da2b147fca70cf8255</th>\n",
       "      <td>287</td>\n",
       "      <td>1</td>\n",
       "      <td>196.89</td>\n",
       "      <td>2</td>\n",
       "      <td>1</td>\n",
       "      <td>4</td>\n",
       "      <td>214</td>\n",
       "      <td>Cannot Lose Them</td>\n",
       "    </tr>\n",
       "    <tr>\n",
       "      <th>0004bd2a26a76fe21f786e4fbd80607f</th>\n",
       "      <td>145</td>\n",
       "      <td>1</td>\n",
       "      <td>166.98</td>\n",
       "      <td>4</td>\n",
       "      <td>1</td>\n",
       "      <td>4</td>\n",
       "      <td>414</td>\n",
       "      <td>Promising</td>\n",
       "    </tr>\n",
       "    <tr>\n",
       "      <th>00050ab1314c0e55a6ca13cf7181fecf</th>\n",
       "      <td>131</td>\n",
       "      <td>1</td>\n",
       "      <td>35.38</td>\n",
       "      <td>4</td>\n",
       "      <td>1</td>\n",
       "      <td>1</td>\n",
       "      <td>411</td>\n",
       "      <td>New Customers</td>\n",
       "    </tr>\n",
       "    <tr>\n",
       "      <th>00053a61a98854899e70ed204dd4bafe</th>\n",
       "      <td>182</td>\n",
       "      <td>2</td>\n",
       "      <td>419.18</td>\n",
       "      <td>3</td>\n",
       "      <td>5</td>\n",
       "      <td>5</td>\n",
       "      <td>355</td>\n",
       "      <td>Loyal</td>\n",
       "    </tr>\n",
       "    <tr>\n",
       "      <th>0005e1862207bf6ccc02e4228effd9a0</th>\n",
       "      <td>542</td>\n",
       "      <td>1</td>\n",
       "      <td>150.12</td>\n",
       "      <td>1</td>\n",
       "      <td>1</td>\n",
       "      <td>4</td>\n",
       "      <td>114</td>\n",
       "      <td>Cannot Lose Them</td>\n",
       "    </tr>\n",
       "    <tr>\n",
       "      <th>0005ef4cd20d2893f0d9fbd94d3c0d97</th>\n",
       "      <td>169</td>\n",
       "      <td>1</td>\n",
       "      <td>129.76</td>\n",
       "      <td>4</td>\n",
       "      <td>1</td>\n",
       "      <td>3</td>\n",
       "      <td>413</td>\n",
       "      <td>Promising</td>\n",
       "    </tr>\n",
       "  </tbody>\n",
       "</table>\n",
       "</div>"
      ],
      "text/plain": [
       "                                  recence  frequence  montant score_recence  \\\n",
       "customer_unique_id                                                            \n",
       "0000366f3b9a7992bf8c76cfdf3221e2      111          1   141.90             4   \n",
       "0000b849f77a49e4a4ce2b2a4ca5be3f      114          1    27.19             4   \n",
       "0000f46a3911fa3c0805444483337064      536          1    86.22             1   \n",
       "0000f6ccb0745a6a4b88665a16c9f078      320          1    43.62             2   \n",
       "0004aac84e0df4da2b147fca70cf8255      287          1   196.89             2   \n",
       "0004bd2a26a76fe21f786e4fbd80607f      145          1   166.98             4   \n",
       "00050ab1314c0e55a6ca13cf7181fecf      131          1    35.38             4   \n",
       "00053a61a98854899e70ed204dd4bafe      182          2   419.18             3   \n",
       "0005e1862207bf6ccc02e4228effd9a0      542          1   150.12             1   \n",
       "0005ef4cd20d2893f0d9fbd94d3c0d97      169          1   129.76             4   \n",
       "\n",
       "                                 score_frequence score_montant score  \\\n",
       "customer_unique_id                                                     \n",
       "0000366f3b9a7992bf8c76cfdf3221e2               1             4   414   \n",
       "0000b849f77a49e4a4ce2b2a4ca5be3f               1             1   411   \n",
       "0000f46a3911fa3c0805444483337064               1             2   112   \n",
       "0000f6ccb0745a6a4b88665a16c9f078               1             1   211   \n",
       "0004aac84e0df4da2b147fca70cf8255               1             4   214   \n",
       "0004bd2a26a76fe21f786e4fbd80607f               1             4   414   \n",
       "00050ab1314c0e55a6ca13cf7181fecf               1             1   411   \n",
       "00053a61a98854899e70ed204dd4bafe               5             5   355   \n",
       "0005e1862207bf6ccc02e4228effd9a0               1             4   114   \n",
       "0005ef4cd20d2893f0d9fbd94d3c0d97               1             3   413   \n",
       "\n",
       "                                                 groupe  \n",
       "customer_unique_id                                       \n",
       "0000366f3b9a7992bf8c76cfdf3221e2              Promising  \n",
       "0000b849f77a49e4a4ce2b2a4ca5be3f          New Customers  \n",
       "0000f46a3911fa3c0805444483337064         Lost customers  \n",
       "0000f6ccb0745a6a4b88665a16c9f078  Hibernating customers  \n",
       "0004aac84e0df4da2b147fca70cf8255       Cannot Lose Them  \n",
       "0004bd2a26a76fe21f786e4fbd80607f              Promising  \n",
       "00050ab1314c0e55a6ca13cf7181fecf          New Customers  \n",
       "00053a61a98854899e70ed204dd4bafe                  Loyal  \n",
       "0005e1862207bf6ccc02e4228effd9a0       Cannot Lose Them  \n",
       "0005ef4cd20d2893f0d9fbd94d3c0d97              Promising  "
      ]
     },
     "execution_count": 10,
     "metadata": {},
     "output_type": "execute_result"
    }
   ],
   "source": [
    "# Création d'une nouvelle colonne \"groupe\"\n",
    "data[\"groupe\"] = data.score_recence.astype(str) + data.score_frequence.astype(str) + data.score_montant.astype(str)\n",
    "\n",
    "# Remplacer les valeurs de la colonne groupe par les valeurs du dictionnaire créé ci-dessus\n",
    "data[\"groupe\"] = data[\"groupe\"].replace(dico, regex = True)\n",
    "\n",
    "# Visualisation des transformations\n",
    "data.head(10)"
   ]
  },
  {
   "attachments": {},
   "cell_type": "markdown",
   "id": "e3658be6",
   "metadata": {},
   "source": [
    "### <font color = \"blue\" weight = \"bold\"> III.3. Analyse des groupes"
   ]
  },
  {
   "attachments": {},
   "cell_type": "markdown",
   "id": "ee2fd245",
   "metadata": {},
   "source": [
    "**_Regroupons les données par groupe et calculons les statistiques descriptives_**"
   ]
  },
  {
   "cell_type": "code",
   "execution_count": 11,
   "id": "66260a81",
   "metadata": {},
   "outputs": [
    {
     "data": {
      "text/plain": [
       "array(['Promising', 'New Customers', 'Lost customers',\n",
       "       'Hibernating customers', 'Cannot Lose Them', 'Loyal',\n",
       "       'About To Sleep', 'At Risk', 'Champions', 'Potential Loyalist',\n",
       "       'Need Attention'], dtype=object)"
      ]
     },
     "execution_count": 11,
     "metadata": {},
     "output_type": "execute_result"
    }
   ],
   "source": [
    "data[\"groupe\"].unique()"
   ]
  },
  {
   "cell_type": "code",
   "execution_count": 12,
   "id": "4d9afb2f",
   "metadata": {},
   "outputs": [
    {
     "data": {
      "text/html": [
       "<style type=\"text/css\">\n",
       "#T_14153_row0_col0 {\n",
       "  background-color: #f8f4f5;\n",
       "  color: #000000;\n",
       "}\n",
       "#T_14153_row0_col1, #T_14153_row1_col8 {\n",
       "  background-color: #faf5f4;\n",
       "  color: #000000;\n",
       "}\n",
       "#T_14153_row0_col2, #T_14153_row4_col2 {\n",
       "  background-color: #f2f0f2;\n",
       "  color: #000000;\n",
       "}\n",
       "#T_14153_row0_col3 {\n",
       "  background-color: #d7dae4;\n",
       "  color: #000000;\n",
       "}\n",
       "#T_14153_row0_col4, #T_14153_row0_col9, #T_14153_row0_col14, #T_14153_row0_col15 {\n",
       "  background-color: #5c85bd;\n",
       "  color: #f1f1f1;\n",
       "}\n",
       "#T_14153_row0_col5, #T_14153_row4_col12, #T_14153_row10_col1 {\n",
       "  background-color: #2c6dbc;\n",
       "  color: #f1f1f1;\n",
       "}\n",
       "#T_14153_row0_col6, #T_14153_row0_col7, #T_14153_row0_col12, #T_14153_row0_col13, #T_14153_row1_col6, #T_14153_row1_col7, #T_14153_row2_col6, #T_14153_row2_col7, #T_14153_row3_col0, #T_14153_row3_col1, #T_14153_row3_col2, #T_14153_row3_col3, #T_14153_row3_col7, #T_14153_row4_col5, #T_14153_row4_col6, #T_14153_row4_col7, #T_14153_row4_col8, #T_14153_row4_col13, #T_14153_row5_col4, #T_14153_row5_col6, #T_14153_row5_col7, #T_14153_row5_col9, #T_14153_row5_col10, #T_14153_row5_col11, #T_14153_row5_col13, #T_14153_row5_col14, #T_14153_row5_col15, #T_14153_row6_col2, #T_14153_row6_col6, #T_14153_row6_col7, #T_14153_row7_col2, #T_14153_row7_col5, #T_14153_row7_col6, #T_14153_row7_col7, #T_14153_row7_col8, #T_14153_row8_col2, #T_14153_row8_col5, #T_14153_row8_col6, #T_14153_row8_col7, #T_14153_row8_col8, #T_14153_row8_col13, #T_14153_row9_col2, #T_14153_row9_col6, #T_14153_row9_col7, #T_14153_row9_col13, #T_14153_row10_col2, #T_14153_row10_col5, #T_14153_row10_col6, #T_14153_row10_col7, #T_14153_row10_col8 {\n",
       "  background-color: #2369bd;\n",
       "  color: #f1f1f1;\n",
       "}\n",
       "#T_14153_row0_col8, #T_14153_row5_col8, #T_14153_row8_col12 {\n",
       "  background-color: #3470bc;\n",
       "  color: #f1f1f1;\n",
       "}\n",
       "#T_14153_row0_col10, #T_14153_row8_col10 {\n",
       "  background-color: #316fbc;\n",
       "  color: #f1f1f1;\n",
       "}\n",
       "#T_14153_row0_col11, #T_14153_row9_col12 {\n",
       "  background-color: #266abd;\n",
       "  color: #f1f1f1;\n",
       "}\n",
       "#T_14153_row1_col0 {\n",
       "  background-color: #d1918e;\n",
       "  color: #f1f1f1;\n",
       "}\n",
       "#T_14153_row1_col1 {\n",
       "  background-color: #d7a09d;\n",
       "  color: #000000;\n",
       "}\n",
       "#T_14153_row1_col2, #T_14153_row2_col2 {\n",
       "  background-color: #daa9a7;\n",
       "  color: #000000;\n",
       "}\n",
       "#T_14153_row1_col3, #T_14153_row1_col13, #T_14153_row2_col3, #T_14153_row2_col8, #T_14153_row3_col5, #T_14153_row3_col6, #T_14153_row3_col10, #T_14153_row3_col11, #T_14153_row3_col12, #T_14153_row4_col3, #T_14153_row5_col0, #T_14153_row5_col1, #T_14153_row5_col2, #T_14153_row5_col3, #T_14153_row9_col4, #T_14153_row9_col9, #T_14153_row9_col14, #T_14153_row9_col15 {\n",
       "  background-color: #a9373b;\n",
       "  color: #f1f1f1;\n",
       "}\n",
       "#T_14153_row1_col4, #T_14153_row1_col9, #T_14153_row1_col14, #T_14153_row1_col15 {\n",
       "  background-color: #b75756;\n",
       "  color: #f1f1f1;\n",
       "}\n",
       "#T_14153_row1_col5, #T_14153_row10_col13 {\n",
       "  background-color: #bfc8d8;\n",
       "  color: #000000;\n",
       "}\n",
       "#T_14153_row1_col10 {\n",
       "  background-color: #eed7d5;\n",
       "  color: #000000;\n",
       "}\n",
       "#T_14153_row1_col11 {\n",
       "  background-color: #f6e8e7;\n",
       "  color: #000000;\n",
       "}\n",
       "#T_14153_row1_col12 {\n",
       "  background-color: #cbd1de;\n",
       "  color: #000000;\n",
       "}\n",
       "#T_14153_row2_col0 {\n",
       "  background-color: #b95a59;\n",
       "  color: #f1f1f1;\n",
       "}\n",
       "#T_14153_row2_col1 {\n",
       "  background-color: #b55252;\n",
       "  color: #f1f1f1;\n",
       "}\n",
       "#T_14153_row2_col4, #T_14153_row2_col9, #T_14153_row2_col14, #T_14153_row2_col15 {\n",
       "  background-color: #658abe;\n",
       "  color: #f1f1f1;\n",
       "}\n",
       "#T_14153_row2_col5 {\n",
       "  background-color: #f9eeed;\n",
       "  color: #000000;\n",
       "}\n",
       "#T_14153_row2_col10 {\n",
       "  background-color: #cf8e8b;\n",
       "  color: #f1f1f1;\n",
       "}\n",
       "#T_14153_row2_col11 {\n",
       "  background-color: #d59c99;\n",
       "  color: #f1f1f1;\n",
       "}\n",
       "#T_14153_row2_col12 {\n",
       "  background-color: #e7c7c5;\n",
       "  color: #000000;\n",
       "}\n",
       "#T_14153_row2_col13 {\n",
       "  background-color: #ca817e;\n",
       "  color: #f1f1f1;\n",
       "}\n",
       "#T_14153_row3_col4, #T_14153_row3_col9, #T_14153_row3_col14, #T_14153_row3_col15 {\n",
       "  background-color: #7393c0;\n",
       "  color: #f1f1f1;\n",
       "}\n",
       "#T_14153_row3_col8, #T_14153_row6_col8 {\n",
       "  background-color: #b3bfd3;\n",
       "  color: #000000;\n",
       "}\n",
       "#T_14153_row3_col13 {\n",
       "  background-color: #d69f9c;\n",
       "  color: #000000;\n",
       "}\n",
       "#T_14153_row4_col0 {\n",
       "  background-color: #e3bdbb;\n",
       "  color: #000000;\n",
       "}\n",
       "#T_14153_row4_col1, #T_14153_row6_col12, #T_14153_row7_col12 {\n",
       "  background-color: #e7c8c6;\n",
       "  color: #000000;\n",
       "}\n",
       "#T_14153_row4_col4, #T_14153_row4_col9, #T_14153_row4_col14 {\n",
       "  background-color: #c5cddb;\n",
       "  color: #000000;\n",
       "}\n",
       "#T_14153_row4_col10, #T_14153_row8_col0 {\n",
       "  background-color: #5b84bd;\n",
       "  color: #f1f1f1;\n",
       "}\n",
       "#T_14153_row4_col11 {\n",
       "  background-color: #7192c0;\n",
       "  color: #f1f1f1;\n",
       "}\n",
       "#T_14153_row4_col15 {\n",
       "  background-color: #c7cedc;\n",
       "  color: #000000;\n",
       "}\n",
       "#T_14153_row5_col5, #T_14153_row5_col12 {\n",
       "  background-color: #2f6ebc;\n",
       "  color: #f1f1f1;\n",
       "}\n",
       "#T_14153_row6_col0, #T_14153_row7_col13 {\n",
       "  background-color: #98acc9;\n",
       "  color: #f1f1f1;\n",
       "}\n",
       "#T_14153_row6_col1 {\n",
       "  background-color: #abb9d0;\n",
       "  color: #000000;\n",
       "}\n",
       "#T_14153_row6_col3, #T_14153_row7_col3, #T_14153_row8_col3, #T_14153_row9_col3, #T_14153_row10_col3 {\n",
       "  background-color: #7d99c2;\n",
       "  color: #f1f1f1;\n",
       "}\n",
       "#T_14153_row6_col4, #T_14153_row6_col9, #T_14153_row6_col14, #T_14153_row6_col15 {\n",
       "  background-color: #678bbe;\n",
       "  color: #f1f1f1;\n",
       "}\n",
       "#T_14153_row6_col5 {\n",
       "  background-color: #faf2f1;\n",
       "  color: #000000;\n",
       "}\n",
       "#T_14153_row6_col10 {\n",
       "  background-color: #cd8885;\n",
       "  color: #f1f1f1;\n",
       "}\n",
       "#T_14153_row6_col11 {\n",
       "  background-color: #c67875;\n",
       "  color: #f1f1f1;\n",
       "}\n",
       "#T_14153_row6_col13 {\n",
       "  background-color: #d08f8d;\n",
       "  color: #f1f1f1;\n",
       "}\n",
       "#T_14153_row7_col0 {\n",
       "  background-color: #7e9ac2;\n",
       "  color: #f1f1f1;\n",
       "}\n",
       "#T_14153_row7_col1 {\n",
       "  background-color: #97abc9;\n",
       "  color: #f1f1f1;\n",
       "}\n",
       "#T_14153_row7_col4, #T_14153_row7_col9, #T_14153_row7_col14, #T_14153_row7_col15 {\n",
       "  background-color: #4e7dbc;\n",
       "  color: #f1f1f1;\n",
       "}\n",
       "#T_14153_row7_col10, #T_14153_row10_col10, #T_14153_row10_col11 {\n",
       "  background-color: #faf3f2;\n",
       "  color: #000000;\n",
       "}\n",
       "#T_14153_row7_col11 {\n",
       "  background-color: #efdad8;\n",
       "  color: #000000;\n",
       "}\n",
       "#T_14153_row8_col1, #T_14153_row9_col0 {\n",
       "  background-color: #6087bd;\n",
       "  color: #f1f1f1;\n",
       "}\n",
       "#T_14153_row8_col4, #T_14153_row8_col9, #T_14153_row8_col14, #T_14153_row8_col15 {\n",
       "  background-color: #5581bc;\n",
       "  color: #f1f1f1;\n",
       "}\n",
       "#T_14153_row8_col11 {\n",
       "  background-color: #3671bc;\n",
       "  color: #f1f1f1;\n",
       "}\n",
       "#T_14153_row9_col1 {\n",
       "  background-color: #6288bd;\n",
       "  color: #f1f1f1;\n",
       "}\n",
       "#T_14153_row9_col5 {\n",
       "  background-color: #7594c0;\n",
       "  color: #f1f1f1;\n",
       "}\n",
       "#T_14153_row9_col8 {\n",
       "  background-color: #4c7cbc;\n",
       "  color: #f1f1f1;\n",
       "}\n",
       "#T_14153_row9_col10 {\n",
       "  background-color: #5782bc;\n",
       "  color: #f1f1f1;\n",
       "}\n",
       "#T_14153_row9_col11 {\n",
       "  background-color: #6e90bf;\n",
       "  color: #f1f1f1;\n",
       "}\n",
       "#T_14153_row10_col0 {\n",
       "  background-color: #4276bc;\n",
       "  color: #f1f1f1;\n",
       "}\n",
       "#T_14153_row10_col4, #T_14153_row10_col9, #T_14153_row10_col14, #T_14153_row10_col15 {\n",
       "  background-color: #f0dbda;\n",
       "  color: #000000;\n",
       "}\n",
       "#T_14153_row10_col12 {\n",
       "  background-color: #3972bc;\n",
       "  color: #f1f1f1;\n",
       "}\n",
       "</style>\n",
       "<table id=\"T_14153\">\n",
       "  <thead>\n",
       "    <tr>\n",
       "      <th class=\"blank level0\" >&nbsp;</th>\n",
       "      <th id=\"T_14153_level0_col0\" class=\"col_heading level0 col0\" colspan=\"5\">recence</th>\n",
       "      <th id=\"T_14153_level0_col5\" class=\"col_heading level0 col5\" colspan=\"5\">frequence</th>\n",
       "      <th id=\"T_14153_level0_col10\" class=\"col_heading level0 col10\" colspan=\"5\">montant</th>\n",
       "      <th id=\"T_14153_level0_col15\" class=\"col_heading level0 col15\" >Ratio</th>\n",
       "    </tr>\n",
       "    <tr>\n",
       "      <th class=\"blank level1\" >&nbsp;</th>\n",
       "      <th id=\"T_14153_level1_col0\" class=\"col_heading level1 col0\" >mean</th>\n",
       "      <th id=\"T_14153_level1_col1\" class=\"col_heading level1 col1\" >median</th>\n",
       "      <th id=\"T_14153_level1_col2\" class=\"col_heading level1 col2\" >min</th>\n",
       "      <th id=\"T_14153_level1_col3\" class=\"col_heading level1 col3\" >max</th>\n",
       "      <th id=\"T_14153_level1_col4\" class=\"col_heading level1 col4\" >count</th>\n",
       "      <th id=\"T_14153_level1_col5\" class=\"col_heading level1 col5\" >mean</th>\n",
       "      <th id=\"T_14153_level1_col6\" class=\"col_heading level1 col6\" >median</th>\n",
       "      <th id=\"T_14153_level1_col7\" class=\"col_heading level1 col7\" >min</th>\n",
       "      <th id=\"T_14153_level1_col8\" class=\"col_heading level1 col8\" >max</th>\n",
       "      <th id=\"T_14153_level1_col9\" class=\"col_heading level1 col9\" >count</th>\n",
       "      <th id=\"T_14153_level1_col10\" class=\"col_heading level1 col10\" >mean</th>\n",
       "      <th id=\"T_14153_level1_col11\" class=\"col_heading level1 col11\" >median</th>\n",
       "      <th id=\"T_14153_level1_col12\" class=\"col_heading level1 col12\" >min</th>\n",
       "      <th id=\"T_14153_level1_col13\" class=\"col_heading level1 col13\" >max</th>\n",
       "      <th id=\"T_14153_level1_col14\" class=\"col_heading level1 col14\" >count</th>\n",
       "      <th id=\"T_14153_level1_col15\" class=\"col_heading level1 col15\" ></th>\n",
       "    </tr>\n",
       "    <tr>\n",
       "      <th class=\"index_name level0\" >groupe</th>\n",
       "      <th class=\"blank col0\" >&nbsp;</th>\n",
       "      <th class=\"blank col1\" >&nbsp;</th>\n",
       "      <th class=\"blank col2\" >&nbsp;</th>\n",
       "      <th class=\"blank col3\" >&nbsp;</th>\n",
       "      <th class=\"blank col4\" >&nbsp;</th>\n",
       "      <th class=\"blank col5\" >&nbsp;</th>\n",
       "      <th class=\"blank col6\" >&nbsp;</th>\n",
       "      <th class=\"blank col7\" >&nbsp;</th>\n",
       "      <th class=\"blank col8\" >&nbsp;</th>\n",
       "      <th class=\"blank col9\" >&nbsp;</th>\n",
       "      <th class=\"blank col10\" >&nbsp;</th>\n",
       "      <th class=\"blank col11\" >&nbsp;</th>\n",
       "      <th class=\"blank col12\" >&nbsp;</th>\n",
       "      <th class=\"blank col13\" >&nbsp;</th>\n",
       "      <th class=\"blank col14\" >&nbsp;</th>\n",
       "      <th class=\"blank col15\" >&nbsp;</th>\n",
       "    </tr>\n",
       "  </thead>\n",
       "  <tbody>\n",
       "    <tr>\n",
       "      <th id=\"T_14153_level0_row0\" class=\"row_heading level0 row0\" >About To Sleep</th>\n",
       "      <td id=\"T_14153_row0_col0\" class=\"data row0 col0\" >272.683849</td>\n",
       "      <td id=\"T_14153_row0_col1\" class=\"data row0 col1\" >275.000000</td>\n",
       "      <td id=\"T_14153_row0_col2\" class=\"data row0 col2\" >176</td>\n",
       "      <td id=\"T_14153_row0_col3\" class=\"data row0 col3\" >380</td>\n",
       "      <td id=\"T_14153_row0_col4\" class=\"data row0 col4\" >5820</td>\n",
       "      <td id=\"T_14153_row0_col5\" class=\"data row0 col5\" >1.013746</td>\n",
       "      <td id=\"T_14153_row0_col6\" class=\"data row0 col6\" >1.000000</td>\n",
       "      <td id=\"T_14153_row0_col7\" class=\"data row0 col7\" >1</td>\n",
       "      <td id=\"T_14153_row0_col8\" class=\"data row0 col8\" >3</td>\n",
       "      <td id=\"T_14153_row0_col9\" class=\"data row0 col9\" >5820</td>\n",
       "      <td id=\"T_14153_row0_col10\" class=\"data row0 col10\" >52.846431</td>\n",
       "      <td id=\"T_14153_row0_col11\" class=\"data row0 col11\" >45.090000</td>\n",
       "      <td id=\"T_14153_row0_col12\" class=\"data row0 col12\" >10.070000</td>\n",
       "      <td id=\"T_14153_row0_col13\" class=\"data row0 col13\" >135.490000</td>\n",
       "      <td id=\"T_14153_row0_col14\" class=\"data row0 col14\" >5820</td>\n",
       "      <td id=\"T_14153_row0_col15\" class=\"data row0 col15\" >6.360000</td>\n",
       "    </tr>\n",
       "    <tr>\n",
       "      <th id=\"T_14153_level0_row1\" class=\"row_heading level0 row1\" >At Risk</th>\n",
       "      <td id=\"T_14153_row1_col0\" class=\"data row1 col0\" >382.268500</td>\n",
       "      <td id=\"T_14153_row1_col1\" class=\"data row1 col1\" >362.000000</td>\n",
       "      <td id=\"T_14153_row1_col2\" class=\"data row1 col2\" >268</td>\n",
       "      <td id=\"T_14153_row1_col3\" class=\"data row1 col3\" >694</td>\n",
       "      <td id=\"T_14153_row1_col4\" class=\"data row1 col4\" >15270</td>\n",
       "      <td id=\"T_14153_row1_col5\" class=\"data row1 col5\" >1.354093</td>\n",
       "      <td id=\"T_14153_row1_col6\" class=\"data row1 col6\" >1.000000</td>\n",
       "      <td id=\"T_14153_row1_col7\" class=\"data row1 col7\" >1</td>\n",
       "      <td id=\"T_14153_row1_col8\" class=\"data row1 col8\" >38</td>\n",
       "      <td id=\"T_14153_row1_col9\" class=\"data row1 col9\" >15270</td>\n",
       "      <td id=\"T_14153_row1_col10\" class=\"data row1 col10\" >236.577075</td>\n",
       "      <td id=\"T_14153_row1_col11\" class=\"data row1 col11\" >155.455000</td>\n",
       "      <td id=\"T_14153_row1_col12\" class=\"data row1 col12\" >56.420000</td>\n",
       "      <td id=\"T_14153_row1_col13\" class=\"data row1 col13\" >13664.080000</td>\n",
       "      <td id=\"T_14153_row1_col14\" class=\"data row1 col14\" >15270</td>\n",
       "      <td id=\"T_14153_row1_col15\" class=\"data row1 col15\" >16.690000</td>\n",
       "    </tr>\n",
       "    <tr>\n",
       "      <th id=\"T_14153_level0_row2\" class=\"row_heading level0 row2\" >Cannot Lose Them</th>\n",
       "      <td id=\"T_14153_row2_col0\" class=\"data row2 col0\" >439.662189</td>\n",
       "      <td id=\"T_14153_row2_col1\" class=\"data row2 col1\" >441.000000</td>\n",
       "      <td id=\"T_14153_row2_col2\" class=\"data row2 col2\" >268</td>\n",
       "      <td id=\"T_14153_row2_col3\" class=\"data row2 col3\" >694</td>\n",
       "      <td id=\"T_14153_row2_col4\" class=\"data row2 col4\" >6030</td>\n",
       "      <td id=\"T_14153_row2_col5\" class=\"data row2 col5\" >1.562189</td>\n",
       "      <td id=\"T_14153_row2_col6\" class=\"data row2 col6\" >1.000000</td>\n",
       "      <td id=\"T_14153_row2_col7\" class=\"data row2 col7\" >1</td>\n",
       "      <td id=\"T_14153_row2_col8\" class=\"data row2 col8\" >75</td>\n",
       "      <td id=\"T_14153_row2_col9\" class=\"data row2 col9\" >6030</td>\n",
       "      <td id=\"T_14153_row2_col10\" class=\"data row2 col10\" >294.999585</td>\n",
       "      <td id=\"T_14153_row2_col11\" class=\"data row2 col11\" >194.545000</td>\n",
       "      <td id=\"T_14153_row2_col12\" class=\"data row2 col12\" >89.020000</td>\n",
       "      <td id=\"T_14153_row2_col13\" class=\"data row2 col13\" >11111.400000</td>\n",
       "      <td id=\"T_14153_row2_col14\" class=\"data row2 col14\" >6030</td>\n",
       "      <td id=\"T_14153_row2_col15\" class=\"data row2 col15\" >6.590000</td>\n",
       "    </tr>\n",
       "    <tr>\n",
       "      <th id=\"T_14153_level0_row3\" class=\"row_heading level0 row3\" >Champions</th>\n",
       "      <td id=\"T_14153_row3_col0\" class=\"data row3 col0\" >84.308960</td>\n",
       "      <td id=\"T_14153_row3_col1\" class=\"data row3 col1\" >82.000000</td>\n",
       "      <td id=\"T_14153_row3_col2\" class=\"data row3 col2\" >0</td>\n",
       "      <td id=\"T_14153_row3_col3\" class=\"data row3 col3\" >175</td>\n",
       "      <td id=\"T_14153_row3_col4\" class=\"data row3 col4\" >6373</td>\n",
       "      <td id=\"T_14153_row3_col5\" class=\"data row3 col5\" >2.051153</td>\n",
       "      <td id=\"T_14153_row3_col6\" class=\"data row3 col6\" >2.000000</td>\n",
       "      <td id=\"T_14153_row3_col7\" class=\"data row3 col7\" >1</td>\n",
       "      <td id=\"T_14153_row3_col8\" class=\"data row3 col8\" >24</td>\n",
       "      <td id=\"T_14153_row3_col9\" class=\"data row3 col9\" >6373</td>\n",
       "      <td id=\"T_14153_row3_col10\" class=\"data row3 col10\" >367.365563</td>\n",
       "      <td id=\"T_14153_row3_col11\" class=\"data row3 col11\" >247.700000</td>\n",
       "      <td id=\"T_14153_row3_col12\" class=\"data row3 col12\" >135.540000</td>\n",
       "      <td id=\"T_14153_row3_col13\" class=\"data row3 col13\" >10055.220000</td>\n",
       "      <td id=\"T_14153_row3_col14\" class=\"data row3 col14\" >6373</td>\n",
       "      <td id=\"T_14153_row3_col15\" class=\"data row3 col15\" >6.970000</td>\n",
       "    </tr>\n",
       "    <tr>\n",
       "      <th id=\"T_14153_level0_row4\" class=\"row_heading level0 row4\" >Hibernating customers</th>\n",
       "      <td id=\"T_14153_row4_col0\" class=\"data row4 col0\" >338.359656</td>\n",
       "      <td id=\"T_14153_row4_col1\" class=\"data row4 col1\" >323.000000</td>\n",
       "      <td id=\"T_14153_row4_col2\" class=\"data row4 col2\" >176</td>\n",
       "      <td id=\"T_14153_row4_col3\" class=\"data row4 col3\" >694</td>\n",
       "      <td id=\"T_14153_row4_col4\" class=\"data row4 col4\" >8725</td>\n",
       "      <td id=\"T_14153_row4_col5\" class=\"data row4 col5\" >1.000000</td>\n",
       "      <td id=\"T_14153_row4_col6\" class=\"data row4 col6\" >1.000000</td>\n",
       "      <td id=\"T_14153_row4_col7\" class=\"data row4 col7\" >1</td>\n",
       "      <td id=\"T_14153_row4_col8\" class=\"data row4 col8\" >1</td>\n",
       "      <td id=\"T_14153_row4_col9\" class=\"data row4 col9\" >8725</td>\n",
       "      <td id=\"T_14153_row4_col10\" class=\"data row4 col10\" >78.507209</td>\n",
       "      <td id=\"T_14153_row4_col11\" class=\"data row4 col11\" >74.960000</td>\n",
       "      <td id=\"T_14153_row4_col12\" class=\"data row4 col12\" >11.630000</td>\n",
       "      <td id=\"T_14153_row4_col13\" class=\"data row4 col13\" >135.510000</td>\n",
       "      <td id=\"T_14153_row4_col14\" class=\"data row4 col14\" >8725</td>\n",
       "      <td id=\"T_14153_row4_col15\" class=\"data row4 col15\" >9.540000</td>\n",
       "    </tr>\n",
       "    <tr>\n",
       "      <th id=\"T_14153_level0_row5\" class=\"row_heading level0 row5\" >Lost customers</th>\n",
       "      <td id=\"T_14153_row5_col0\" class=\"data row5 col0\" >473.270851</td>\n",
       "      <td id=\"T_14153_row5_col1\" class=\"data row5 col1\" >467.000000</td>\n",
       "      <td id=\"T_14153_row5_col2\" class=\"data row5 col2\" >381</td>\n",
       "      <td id=\"T_14153_row5_col3\" class=\"data row5 col3\" >694</td>\n",
       "      <td id=\"T_14153_row5_col4\" class=\"data row5 col4\" >4604</td>\n",
       "      <td id=\"T_14153_row5_col5\" class=\"data row5 col5\" >1.019331</td>\n",
       "      <td id=\"T_14153_row5_col6\" class=\"data row5 col6\" >1.000000</td>\n",
       "      <td id=\"T_14153_row5_col7\" class=\"data row5 col7\" >1</td>\n",
       "      <td id=\"T_14153_row5_col8\" class=\"data row5 col8\" >3</td>\n",
       "      <td id=\"T_14153_row5_col9\" class=\"data row5 col9\" >4604</td>\n",
       "      <td id=\"T_14153_row5_col10\" class=\"data row5 col10\" >45.864776</td>\n",
       "      <td id=\"T_14153_row5_col11\" class=\"data row5 col11\" >44.090000</td>\n",
       "      <td id=\"T_14153_row5_col12\" class=\"data row5 col12\" >12.280000</td>\n",
       "      <td id=\"T_14153_row5_col13\" class=\"data row5 col13\" >88.740000</td>\n",
       "      <td id=\"T_14153_row5_col14\" class=\"data row5 col14\" >4604</td>\n",
       "      <td id=\"T_14153_row5_col15\" class=\"data row5 col15\" >5.030000</td>\n",
       "    </tr>\n",
       "    <tr>\n",
       "      <th id=\"T_14153_level0_row6\" class=\"row_heading level0 row6\" >Loyal</th>\n",
       "      <td id=\"T_14153_row6_col0\" class=\"data row6 col0\" >178.564347</td>\n",
       "      <td id=\"T_14153_row6_col1\" class=\"data row6 col1\" >194.000000</td>\n",
       "      <td id=\"T_14153_row6_col2\" class=\"data row6 col2\" >0</td>\n",
       "      <td id=\"T_14153_row6_col3\" class=\"data row6 col3\" >267</td>\n",
       "      <td id=\"T_14153_row6_col4\" class=\"data row6 col4\" >6092</td>\n",
       "      <td id=\"T_14153_row6_col5\" class=\"data row6 col5\" >1.548752</td>\n",
       "      <td id=\"T_14153_row6_col6\" class=\"data row6 col6\" >1.000000</td>\n",
       "      <td id=\"T_14153_row6_col7\" class=\"data row6 col7\" >1</td>\n",
       "      <td id=\"T_14153_row6_col8\" class=\"data row6 col8\" >24</td>\n",
       "      <td id=\"T_14153_row6_col9\" class=\"data row6 col9\" >6092</td>\n",
       "      <td id=\"T_14153_row6_col10\" class=\"data row6 col10\" >299.926057</td>\n",
       "      <td id=\"T_14153_row6_col11\" class=\"data row6 col11\" >213.945000</td>\n",
       "      <td id=\"T_14153_row6_col12\" class=\"data row6 col12\" >88.780000</td>\n",
       "      <td id=\"T_14153_row6_col13\" class=\"data row6 col13\" >10553.280000</td>\n",
       "      <td id=\"T_14153_row6_col14\" class=\"data row6 col14\" >6092</td>\n",
       "      <td id=\"T_14153_row6_col15\" class=\"data row6 col15\" >6.660000</td>\n",
       "    </tr>\n",
       "    <tr>\n",
       "      <th id=\"T_14153_level0_row7\" class=\"row_heading level0 row7\" >Need Attention</th>\n",
       "      <td id=\"T_14153_row7_col0\" class=\"data row7 col0\" >154.734683</td>\n",
       "      <td id=\"T_14153_row7_col1\" class=\"data row7 col1\" >174.000000</td>\n",
       "      <td id=\"T_14153_row7_col2\" class=\"data row7 col2\" >0</td>\n",
       "      <td id=\"T_14153_row7_col3\" class=\"data row7 col3\" >267</td>\n",
       "      <td id=\"T_14153_row7_col4\" class=\"data row7 col4\" >5435</td>\n",
       "      <td id=\"T_14153_row7_col5\" class=\"data row7 col5\" >1.000000</td>\n",
       "      <td id=\"T_14153_row7_col6\" class=\"data row7 col6\" >1.000000</td>\n",
       "      <td id=\"T_14153_row7_col7\" class=\"data row7 col7\" >1</td>\n",
       "      <td id=\"T_14153_row7_col8\" class=\"data row7 col8\" >1</td>\n",
       "      <td id=\"T_14153_row7_col9\" class=\"data row7 col9\" >5435</td>\n",
       "      <td id=\"T_14153_row7_col10\" class=\"data row7 col10\" >212.083523</td>\n",
       "      <td id=\"T_14153_row7_col11\" class=\"data row7 col11\" >163.260000</td>\n",
       "      <td id=\"T_14153_row7_col12\" class=\"data row7 col12\" >88.860000</td>\n",
       "      <td id=\"T_14153_row7_col13\" class=\"data row7 col13\" >3406.470000</td>\n",
       "      <td id=\"T_14153_row7_col14\" class=\"data row7 col14\" >5435</td>\n",
       "      <td id=\"T_14153_row7_col15\" class=\"data row7 col15\" >5.940000</td>\n",
       "    </tr>\n",
       "    <tr>\n",
       "      <th id=\"T_14153_level0_row8\" class=\"row_heading level0 row8\" >New Customers</th>\n",
       "      <td id=\"T_14153_row8_col0\" class=\"data row8 col0\" >122.430712</td>\n",
       "      <td id=\"T_14153_row8_col1\" class=\"data row8 col1\" >125.000000</td>\n",
       "      <td id=\"T_14153_row8_col2\" class=\"data row8 col2\" >0</td>\n",
       "      <td id=\"T_14153_row8_col3\" class=\"data row8 col3\" >267</td>\n",
       "      <td id=\"T_14153_row8_col4\" class=\"data row8 col4\" >5607</td>\n",
       "      <td id=\"T_14153_row8_col5\" class=\"data row8 col5\" >1.000000</td>\n",
       "      <td id=\"T_14153_row8_col6\" class=\"data row8 col6\" >1.000000</td>\n",
       "      <td id=\"T_14153_row8_col7\" class=\"data row8 col7\" >1</td>\n",
       "      <td id=\"T_14153_row8_col8\" class=\"data row8 col8\" >1</td>\n",
       "      <td id=\"T_14153_row8_col9\" class=\"data row8 col9\" >5607</td>\n",
       "      <td id=\"T_14153_row8_col10\" class=\"data row8 col10\" >52.451998</td>\n",
       "      <td id=\"T_14153_row8_col11\" class=\"data row8 col11\" >50.340000</td>\n",
       "      <td id=\"T_14153_row8_col12\" class=\"data row8 col12\" >13.290000</td>\n",
       "      <td id=\"T_14153_row8_col13\" class=\"data row8 col13\" >88.720000</td>\n",
       "      <td id=\"T_14153_row8_col14\" class=\"data row8 col14\" >5607</td>\n",
       "      <td id=\"T_14153_row8_col15\" class=\"data row8 col15\" >6.130000</td>\n",
       "    </tr>\n",
       "    <tr>\n",
       "      <th id=\"T_14153_level0_row9\" class=\"row_heading level0 row9\" >Potential Loyalist</th>\n",
       "      <td id=\"T_14153_row9_col0\" class=\"data row9 col0\" >128.231007</td>\n",
       "      <td id=\"T_14153_row9_col1\" class=\"data row9 col1\" >127.000000</td>\n",
       "      <td id=\"T_14153_row9_col2\" class=\"data row9 col2\" >0</td>\n",
       "      <td id=\"T_14153_row9_col3\" class=\"data row9 col3\" >267</td>\n",
       "      <td id=\"T_14153_row9_col4\" class=\"data row9 col4\" >16203</td>\n",
       "      <td id=\"T_14153_row9_col5\" class=\"data row9 col5\" >1.167932</td>\n",
       "      <td id=\"T_14153_row9_col6\" class=\"data row9 col6\" >1.000000</td>\n",
       "      <td id=\"T_14153_row9_col7\" class=\"data row9 col7\" >1</td>\n",
       "      <td id=\"T_14153_row9_col8\" class=\"data row9 col8\" >6</td>\n",
       "      <td id=\"T_14153_row9_col9\" class=\"data row9 col9\" >16203</td>\n",
       "      <td id=\"T_14153_row9_col10\" class=\"data row9 col10\" >75.797321</td>\n",
       "      <td id=\"T_14153_row9_col11\" class=\"data row9 col11\" >73.150000</td>\n",
       "      <td id=\"T_14153_row9_col12\" class=\"data row9 col12\" >10.890000</td>\n",
       "      <td id=\"T_14153_row9_col13\" class=\"data row9 col13\" >135.510000</td>\n",
       "      <td id=\"T_14153_row9_col14\" class=\"data row9 col14\" >16203</td>\n",
       "      <td id=\"T_14153_row9_col15\" class=\"data row9 col15\" >17.710000</td>\n",
       "    </tr>\n",
       "    <tr>\n",
       "      <th id=\"T_14153_level0_row10\" class=\"row_heading level0 row10\" >Promising</th>\n",
       "      <td id=\"T_14153_row10_col0\" class=\"data row10 col0\" >102.687864</td>\n",
       "      <td id=\"T_14153_row10_col1\" class=\"data row10 col1\" >87.000000</td>\n",
       "      <td id=\"T_14153_row10_col2\" class=\"data row10 col2\" >0</td>\n",
       "      <td id=\"T_14153_row10_col3\" class=\"data row10 col3\" >267</td>\n",
       "      <td id=\"T_14153_row10_col4\" class=\"data row10 col4\" >11322</td>\n",
       "      <td id=\"T_14153_row10_col5\" class=\"data row10 col5\" >1.000000</td>\n",
       "      <td id=\"T_14153_row10_col6\" class=\"data row10 col6\" >1.000000</td>\n",
       "      <td id=\"T_14153_row10_col7\" class=\"data row10 col7\" >1</td>\n",
       "      <td id=\"T_14153_row10_col8\" class=\"data row10 col8\" >1</td>\n",
       "      <td id=\"T_14153_row10_col9\" class=\"data row10 col9\" >11322</td>\n",
       "      <td id=\"T_14153_row10_col10\" class=\"data row10 col10\" >211.646441</td>\n",
       "      <td id=\"T_14153_row10_col11\" class=\"data row10 col11\" >149.870000</td>\n",
       "      <td id=\"T_14153_row10_col12\" class=\"data row10 col12\" >14.060000</td>\n",
       "      <td id=\"T_14153_row10_col13\" class=\"data row10 col13\" >4681.780000</td>\n",
       "      <td id=\"T_14153_row10_col14\" class=\"data row10 col14\" >11322</td>\n",
       "      <td id=\"T_14153_row10_col15\" class=\"data row10 col15\" >12.380000</td>\n",
       "    </tr>\n",
       "  </tbody>\n",
       "</table>\n"
      ],
      "text/plain": [
       "<pandas.io.formats.style.Styler at 0x2481a03f070>"
      ]
     },
     "execution_count": 12,
     "metadata": {},
     "output_type": "execute_result"
    }
   ],
   "source": [
    "# Regrouper les données par groupes\n",
    "data_stat = data[[\"recence\", \"frequence\", \"montant\", \"groupe\"]].groupby(\"groupe\").agg([\"mean\", \"median\",\"min\", \"max\", \"count\"])\n",
    "\n",
    "# Calcul du ratio de client par groupe\n",
    "data_stat['Ratio']= round((100*data_stat['recence'][\"count\"]/data_stat['recence'][\"count\"].sum()), 2)\n",
    "\n",
    "data_stat.style.background_gradient(cmap = \"vlag\")"
   ]
  },
  {
   "attachments": {},
   "cell_type": "markdown",
   "id": "f2d58287",
   "metadata": {},
   "source": [
    "_Visualisation graphique de la répartition des clients par groupe_"
   ]
  },
  {
   "cell_type": "code",
   "execution_count": 13,
   "id": "fa2b70f9",
   "metadata": {},
   "outputs": [
    {
     "data": {
      "image/png": "[encoded data removed]",
      "text/plain": [
       "<Figure size 2000x800 with 1 Axes>"
      ]
     },
     "metadata": {},
     "output_type": "display_data"
    }
   ],
   "source": [
    "# Création de la figure et ajustement de la taille\n",
    "plt.figure(figsize=(20, 8))\n",
    "\n",
    "# Tri des valeurs par ordre croissant\n",
    "data_stat_sorted = data_stat.sort_values(by='Ratio')\n",
    "\n",
    "# Tracé du graphique en utilisant un barplot vertical\n",
    "per = sns.barplot(x=data_stat_sorted['Ratio'], y=data_stat_sorted.index, data=data_stat_sorted, palette=\"viridis\")\n",
    "\n",
    "# Suppression des axes inutiles\n",
    "sns.despine(bottom=True, left=True)\n",
    "\n",
    "# Ajout des étiquettes pour chaque barre\n",
    "for i, v in enumerate(data_stat_sorted['Ratio']):\n",
    "    per.text(v, i, \"{:.2f}\".format(v) + \"%\", color='black', ha=\"left\")\n",
    "\n",
    "# Définition du label de l'axe des ordonnées\n",
    "per.set_ylabel('Groupe', fontsize=16)\n",
    "\n",
    "# Suppression des ticks de l'axe des abscisses\n",
    "per.set(xticks=[])\n",
    "\n",
    "# Titre du graphique\n",
    "plt.title('Distribution des groupes', fontsize=35, color = \"blue\")\n",
    "\n",
    "# Affichage du graphique\n",
    "plt.show()"
   ]
  },
  {
   "attachments": {},
   "cell_type": "markdown",
   "id": "a5698afc",
   "metadata": {},
   "source": [
    "**_Visualisation interactive du treemap_** "
   ]
  },
  {
   "cell_type": "code",
   "execution_count": 14,
   "id": "9d2cbf82",
   "metadata": {
    "scrolled": false
   },
   "outputs": [
    {
     "data": {
      "application/vnd.plotly.v1+json": {
       "config": {
        "plotlyServerURL": "https://plot.ly"
       },
       "data": [
        {
         "labels": [
          "About To Sleep",
          "At Risk",
          "Cannot Lose Them",
          "Champions",
          "Hibernating customers",
          "Lost customers",
          "Loyal",
          "Need Attention",
          "New Customers",
          "Potential Loyalist",
          "Promising"
         ],
         "marker": {
          "colors": [
           "red",
           "orange",
           "blue",
           "forestgreen",
           "yellow",
           "purple",
           "cornsilk",
           "royalblue",
           "pink",
           "brown"
          ]
         },
         "parents": [
          "",
          "",
          "",
          "",
          "",
          "",
          "",
          "",
          "",
          "",
          ""
         ],
         "type": "treemap",
         "values": [
          5820,
          15270,
          6030,
          6373,
          8725,
          4604,
          6092,
          5435,
          5607,
          16203,
          11322
         ]
        }
       ],
       "layout": {
        "font": {
         "size": 15
        },
        "height": 500,
        "template": {
         "data": {
          "bar": [
           {
            "error_x": {
             "color": "#2a3f5f"
            },
            "error_y": {
             "color": "#2a3f5f"
            },
            "marker": {
             "line": {
              "color": "#E5ECF6",
              "width": 0.5
             },
             "pattern": {
              "fillmode": "overlay",
              "size": 10,
              "solidity": 0.2
             }
            },
            "type": "bar"
           }
          ],
          "barpolar": [
           {
            "marker": {
             "line": {
              "color": "#E5ECF6",
              "width": 0.5
             },
             "pattern": {
              "fillmode": "overlay",
              "size": 10,
              "solidity": 0.2
             }
            },
            "type": "barpolar"
           }
          ],
          "carpet": [
           {
            "aaxis": {
             "endlinecolor": "#2a3f5f",
             "gridcolor": "white",
             "linecolor": "white",
             "minorgridcolor": "white",
             "startlinecolor": "#2a3f5f"
            },
            "baxis": {
             "endlinecolor": "#2a3f5f",
             "gridcolor": "white",
             "linecolor": "white",
             "minorgridcolor": "white",
             "startlinecolor": "#2a3f5f"
            },
            "type": "carpet"
           }
          ],
          "choropleth": [
           {
            "colorbar": {
             "outlinewidth": 0,
             "ticks": ""
            },
            "type": "choropleth"
           }
          ],
          "contour": [
           {
            "colorbar": {
             "outlinewidth": 0,
             "ticks": ""
            },
            "colorscale": [
             [
              0,
              "#0d0887"
             ],
             [
              0.1111111111111111,
              "#46039f"
             ],
             [
              0.2222222222222222,
              "#7201a8"
             ],
             [
              0.3333333333333333,
              "#9c179e"
             ],
             [
              0.4444444444444444,
              "#bd3786"
             ],
             [
              0.5555555555555556,
              "#d8576b"
             ],
             [
              0.6666666666666666,
              "#ed7953"
             ],
             [
              0.7777777777777778,
              "#fb9f3a"
             ],
             [
              0.8888888888888888,
              "#fdca26"
             ],
             [
              1,
              "#f0f921"
             ]
            ],
            "type": "contour"
           }
          ],
          "contourcarpet": [
           {
            "colorbar": {
             "outlinewidth": 0,
             "ticks": ""
            },
            "type": "contourcarpet"
           }
          ],
          "heatmap": [
           {
            "colorbar": {
             "outlinewidth": 0,
             "ticks": ""
            },
            "colorscale": [
             [
              0,
              "#0d0887"
             ],
             [
              0.1111111111111111,
              "#46039f"
             ],
             [
              0.2222222222222222,
              "#7201a8"
             ],
             [
              0.3333333333333333,
              "#9c179e"
             ],
             [
              0.4444444444444444,
              "#bd3786"
             ],
             [
              0.5555555555555556,
              "#d8576b"
             ],
             [
              0.6666666666666666,
              "#ed7953"
             ],
             [
              0.7777777777777778,
              "#fb9f3a"
             ],
             [
              0.8888888888888888,
              "#fdca26"
             ],
             [
              1,
              "#f0f921"
             ]
            ],
            "type": "heatmap"
           }
          ],
          "heatmapgl": [
           {
            "colorbar": {
             "outlinewidth": 0,
             "ticks": ""
            },
            "colorscale": [
             [
              0,
              "#0d0887"
             ],
             [
              0.1111111111111111,
              "#46039f"
             ],
             [
              0.2222222222222222,
              "#7201a8"
             ],
             [
              0.3333333333333333,
              "#9c179e"
             ],
             [
              0.4444444444444444,
              "#bd3786"
             ],
             [
              0.5555555555555556,
              "#d8576b"
             ],
             [
              0.6666666666666666,
              "#ed7953"
             ],
             [
              0.7777777777777778,
              "#fb9f3a"
             ],
             [
              0.8888888888888888,
              "#fdca26"
             ],
             [
              1,
              "#f0f921"
             ]
            ],
            "type": "heatmapgl"
           }
          ],
          "histogram": [
           {
            "marker": {
             "pattern": {
              "fillmode": "overlay",
              "size": 10,
              "solidity": 0.2
             }
            },
            "type": "histogram"
           }
          ],
          "histogram2d": [
           {
            "colorbar": {
             "outlinewidth": 0,
             "ticks": ""
            },
            "colorscale": [
             [
              0,
              "#0d0887"
             ],
             [
              0.1111111111111111,
              "#46039f"
             ],
             [
              0.2222222222222222,
              "#7201a8"
             ],
             [
              0.3333333333333333,
              "#9c179e"
             ],
             [
              0.4444444444444444,
              "#bd3786"
             ],
             [
              0.5555555555555556,
              "#d8576b"
             ],
             [
              0.6666666666666666,
              "#ed7953"
             ],
             [
              0.7777777777777778,
              "#fb9f3a"
             ],
             [
              0.8888888888888888,
              "#fdca26"
             ],
             [
              1,
              "#f0f921"
             ]
            ],
            "type": "histogram2d"
           }
          ],
          "histogram2dcontour": [
           {
            "colorbar": {
             "outlinewidth": 0,
             "ticks": ""
            },
            "colorscale": [
             [
              0,
              "#0d0887"
             ],
             [
              0.1111111111111111,
              "#46039f"
             ],
             [
              0.2222222222222222,
              "#7201a8"
             ],
             [
              0.3333333333333333,
              "#9c179e"
             ],
             [
              0.4444444444444444,
              "#bd3786"
             ],
             [
              0.5555555555555556,
              "#d8576b"
             ],
             [
              0.6666666666666666,
              "#ed7953"
             ],
             [
              0.7777777777777778,
              "#fb9f3a"
             ],
             [
              0.8888888888888888,
              "#fdca26"
             ],
             [
              1,
              "#f0f921"
             ]
            ],
            "type": "histogram2dcontour"
           }
          ],
          "mesh3d": [
           {
            "colorbar": {
             "outlinewidth": 0,
             "ticks": ""
            },
            "type": "mesh3d"
           }
          ],
          "parcoords": [
           {
            "line": {
             "colorbar": {
              "outlinewidth": 0,
              "ticks": ""
             }
            },
            "type": "parcoords"
           }
          ],
          "pie": [
           {
            "automargin": true,
            "type": "pie"
           }
          ],
          "scatter": [
           {
            "fillpattern": {
             "fillmode": "overlay",
             "size": 10,
             "solidity": 0.2
            },
            "type": "scatter"
           }
          ],
          "scatter3d": [
           {
            "line": {
             "colorbar": {
              "outlinewidth": 0,
              "ticks": ""
             }
            },
            "marker": {
             "colorbar": {
              "outlinewidth": 0,
              "ticks": ""
             }
            },
            "type": "scatter3d"
           }
          ],
          "scattercarpet": [
           {
            "marker": {
             "colorbar": {
              "outlinewidth": 0,
              "ticks": ""
             }
            },
            "type": "scattercarpet"
           }
          ],
          "scattergeo": [
           {
            "marker": {
             "colorbar": {
              "outlinewidth": 0,
              "ticks": ""
             }
            },
            "type": "scattergeo"
           }
          ],
          "scattergl": [
           {
            "marker": {
             "colorbar": {
              "outlinewidth": 0,
              "ticks": ""
             }
            },
            "type": "scattergl"
           }
          ],
          "scattermapbox": [
           {
            "marker": {
             "colorbar": {
              "outlinewidth": 0,
              "ticks": ""
             }
            },
            "type": "scattermapbox"
           }
          ],
          "scatterpolar": [
           {
            "marker": {
             "colorbar": {
              "outlinewidth": 0,
              "ticks": ""
             }
            },
            "type": "scatterpolar"
           }
          ],
          "scatterpolargl": [
           {
            "marker": {
             "colorbar": {
              "outlinewidth": 0,
              "ticks": ""
             }
            },
            "type": "scatterpolargl"
           }
          ],
          "scatterternary": [
           {
            "marker": {
             "colorbar": {
              "outlinewidth": 0,
              "ticks": ""
             }
            },
            "type": "scatterternary"
           }
          ],
          "surface": [
           {
            "colorbar": {
             "outlinewidth": 0,
             "ticks": ""
            },
            "colorscale": [
             [
              0,
              "#0d0887"
             ],
             [
              0.1111111111111111,
              "#46039f"
             ],
             [
              0.2222222222222222,
              "#7201a8"
             ],
             [
              0.3333333333333333,
              "#9c179e"
             ],
             [
              0.4444444444444444,
              "#bd3786"
             ],
             [
              0.5555555555555556,
              "#d8576b"
             ],
             [
              0.6666666666666666,
              "#ed7953"
             ],
             [
              0.7777777777777778,
              "#fb9f3a"
             ],
             [
              0.8888888888888888,
              "#fdca26"
             ],
             [
              1,
              "#f0f921"
             ]
            ],
            "type": "surface"
           }
          ],
          "table": [
           {
            "cells": {
             "fill": {
              "color": "#EBF0F8"
             },
             "line": {
              "color": "white"
             }
            },
            "header": {
             "fill": {
              "color": "#C8D4E3"
             },
             "line": {
              "color": "white"
             }
            },
            "type": "table"
           }
          ]
         },
         "layout": {
          "annotationdefaults": {
           "arrowcolor": "#2a3f5f",
           "arrowhead": 0,
           "arrowwidth": 1
          },
          "autotypenumbers": "strict",
          "coloraxis": {
           "colorbar": {
            "outlinewidth": 0,
            "ticks": ""
           }
          },
          "colorscale": {
           "diverging": [
            [
             0,
             "#8e0152"
            ],
            [
             0.1,
             "#c51b7d"
            ],
            [
             0.2,
             "#de77ae"
            ],
            [
             0.3,
             "#f1b6da"
            ],
            [
             0.4,
             "#fde0ef"
            ],
            [
             0.5,
             "#f7f7f7"
            ],
            [
             0.6,
             "#e6f5d0"
            ],
            [
             0.7,
             "#b8e186"
            ],
            [
             0.8,
             "#7fbc41"
            ],
            [
             0.9,
             "#4d9221"
            ],
            [
             1,
             "#276419"
            ]
           ],
           "sequential": [
            [
             0,
             "#0d0887"
            ],
            [
             0.1111111111111111,
             "#46039f"
            ],
            [
             0.2222222222222222,
             "#7201a8"
            ],
            [
             0.3333333333333333,
             "#9c179e"
            ],
            [
             0.4444444444444444,
             "#bd3786"
            ],
            [
             0.5555555555555556,
             "#d8576b"
            ],
            [
             0.6666666666666666,
             "#ed7953"
            ],
            [
             0.7777777777777778,
             "#fb9f3a"
            ],
            [
             0.8888888888888888,
             "#fdca26"
            ],
            [
             1,
             "#f0f921"
            ]
           ],
           "sequentialminus": [
            [
             0,
             "#0d0887"
            ],
            [
             0.1111111111111111,
             "#46039f"
            ],
            [
             0.2222222222222222,
             "#7201a8"
            ],
            [
             0.3333333333333333,
             "#9c179e"
            ],
            [
             0.4444444444444444,
             "#bd3786"
            ],
            [
             0.5555555555555556,
             "#d8576b"
            ],
            [
             0.6666666666666666,
             "#ed7953"
            ],
            [
             0.7777777777777778,
             "#fb9f3a"
            ],
            [
             0.8888888888888888,
             "#fdca26"
            ],
            [
             1,
             "#f0f921"
            ]
           ]
          },
          "colorway": [
           "#636efa",
           "#EF553B",
           "#00cc96",
           "#ab63fa",
           "#FFA15A",
           "#19d3f3",
           "#FF6692",
           "#B6E880",
           "#FF97FF",
           "#FECB52"
          ],
          "font": {
           "color": "#2a3f5f"
          },
          "geo": {
           "bgcolor": "white",
           "lakecolor": "white",
           "landcolor": "#E5ECF6",
           "showlakes": true,
           "showland": true,
           "subunitcolor": "white"
          },
          "hoverlabel": {
           "align": "left"
          },
          "hovermode": "closest",
          "mapbox": {
           "style": "light"
          },
          "paper_bgcolor": "white",
          "plot_bgcolor": "#E5ECF6",
          "polar": {
           "angularaxis": {
            "gridcolor": "white",
            "linecolor": "white",
            "ticks": ""
           },
           "bgcolor": "#E5ECF6",
           "radialaxis": {
            "gridcolor": "white",
            "linecolor": "white",
            "ticks": ""
           }
          },
          "scene": {
           "xaxis": {
            "backgroundcolor": "#E5ECF6",
            "gridcolor": "white",
            "gridwidth": 2,
            "linecolor": "white",
            "showbackground": true,
            "ticks": "",
            "zerolinecolor": "white"
           },
           "yaxis": {
            "backgroundcolor": "#E5ECF6",
            "gridcolor": "white",
            "gridwidth": 2,
            "linecolor": "white",
            "showbackground": true,
            "ticks": "",
            "zerolinecolor": "white"
           },
           "zaxis": {
            "backgroundcolor": "#E5ECF6",
            "gridcolor": "white",
            "gridwidth": 2,
            "linecolor": "white",
            "showbackground": true,
            "ticks": "",
            "zerolinecolor": "white"
           }
          },
          "shapedefaults": {
           "line": {
            "color": "#2a3f5f"
           }
          },
          "ternary": {
           "aaxis": {
            "gridcolor": "white",
            "linecolor": "white",
            "ticks": ""
           },
           "baxis": {
            "gridcolor": "white",
            "linecolor": "white",
            "ticks": ""
           },
           "bgcolor": "#E5ECF6",
           "caxis": {
            "gridcolor": "white",
            "linecolor": "white",
            "ticks": ""
           }
          },
          "title": {
           "x": 0.05
          },
          "xaxis": {
           "automargin": true,
           "gridcolor": "white",
           "linecolor": "white",
           "ticks": "",
           "title": {
            "standoff": 15
           },
           "zerolinecolor": "white",
           "zerolinewidth": 2
          },
          "yaxis": {
           "automargin": true,
           "gridcolor": "white",
           "linecolor": "white",
           "ticks": "",
           "title": {
            "standoff": 15
           },
           "zerolinecolor": "white",
           "zerolinewidth": 2
          }
         }
        },
        "title": {
         "text": "Matrix RFM"
        },
        "width": 800
       }
      }
     },
     "metadata": {},
     "output_type": "display_data"
    }
   ],
   "source": [
    "import plotly.graph_objects as go\n",
    "import plotly.io as pio\n",
    "\n",
    "# Création des données pour le treemap\n",
    "sizes = data_stat[\"recence\"][\"count\"]\n",
    "labels = data_stat.index\n",
    "colors = [\"red\", \"orange\", \"blue\", \"forestgreen\", \"yellow\", \"purple\", \"cornsilk\", \"royalblue\", \"pink\", \"brown\"]\n",
    "\n",
    "# Création de la figure avec Plotly\n",
    "fig = go.Figure(go.Treemap(\n",
    "    labels=labels,\n",
    "    parents=[\"\"] * len(labels),\n",
    "    values=sizes,\n",
    "    marker=dict(\n",
    "        colors=colors,\n",
    "    ),\n",
    "))\n",
    "\n",
    "# Configuration du layout\n",
    "fig.update_layout(\n",
    "    title=\"Matrix RFM\",\n",
    "    font=dict(size=15),\n",
    "    width=800,\n",
    "    height=500,\n",
    ")\n",
    "\n",
    "# Affichage du graphique\n",
    "pio.show(fig)"
   ]
  },
  {
   "attachments": {},
   "cell_type": "markdown",
   "id": "1d082fa9",
   "metadata": {},
   "source": [
    "## <font color = \"blue\" weight = \"bold\"> IV. Segmentation RFM avec l'algorithme K-means"
   ]
  },
  {
   "attachments": {},
   "cell_type": "markdown",
   "id": "5fbb514c",
   "metadata": {},
   "source": [
    "### <font color = \"blue\" weight = \"bold\"> IV.1. Vérification de la distribution des variables"
   ]
  },
  {
   "attachments": {},
   "cell_type": "markdown",
   "id": "bf9b4ed7",
   "metadata": {},
   "source": [
    "**_Vérification de la distribution des variables :_** <br> L'algorithme k-means est sensible aux variables asymétriques, car il est basé sur la distance euclidienne pour regrouper les données. La distance euclidienne suppose que les variables ont une distribution symétrique et que les écarts entre les valeurs sont équivalents dans toutes les directions.<br> Vérifier l'asymétrie de nos variables permettra de savoir s'il faut normaliser nos valeurs avant de les standardiser. <br> Voici comment nous interprèterons l'asymétrie de nos variables :\n",
    "- La valeur d'asymétrie supérieure à 1 ou inférieure à -1 indique une distribution fortement asymétrique ;\n",
    "- La valeur comprise entre 0,5 et 1 ou -0,5 et -1 est modérément asymétrique ;\n",
    "- La valeur comprise entre -0,5 et 0,5 indique que la distribution est assez symétrique.\n",
    "\n",
    "Ainsi, les variables ayant une asymétrie comprise entre -0,5 et 0,5 ne seront pas normalisées.\n",
    "Référence : https://docs.oracle.com/cd/E57185_01/CBREG/ch03s02s03s01.html#:~:text=A%20skewness%20value%20greater%20than,the%20distribution%20is%20fairly%20symmetrical"
   ]
  },
  {
   "cell_type": "code",
   "execution_count": 15,
   "id": "6e420457",
   "metadata": {},
   "outputs": [],
   "source": [
    "# Définition d'une fonction pour visualiser les distributions\n",
    "\n",
    "def plot_distribution_and_normality(data, figsize=(15, 3)):\n",
    "    # Créer une figure et trois sous-graphiques disposés en une ligne et trois colonnes\n",
    "    fig, axes = plt.subplots(nrows=1, ncols=3, figsize=figsize)\n",
    "\n",
    "    # Sélection des variables numériques\n",
    "    numerique = data.select_dtypes(include=\"number\")\n",
    "\n",
    "    # Définition d'une boucle pour afficher la distribution de chaque variable numérique et effectuer le test de normalité\n",
    "    for i, var in enumerate(numerique):\n",
    "        # Affichage de l'histogramme et du graphique de densité\n",
    "        sns.histplot(data[var], ax=axes[i], kde=True)\n",
    "        plt.tight_layout()\n",
    "\n",
    "        # Test de normalité (Kolmogorov-Smirnov)\n",
    "        stat, p_value = kstest(data[var], 'norm')\n",
    "\n",
    "        # Calcul de l'asymétrie\n",
    "        asymetrie = skew(data[var])\n",
    "\n",
    "        # Affichage des résultats du test de normalité et de l'asymétrie\n",
    "        print(f\"Variable {var}:\")\n",
    "        print(f\"   - Statistique de test : {stat}\")\n",
    "        print(f\"   - Valeur p : {p_value}\")\n",
    "        if p_value > 0.05:\n",
    "            print(\"   - La distribution semble normale (hypothèse non rejetée).\")\n",
    "        else:\n",
    "            print(\"   - La distribution ne semble pas être normale (hypothèse rejetée).\")\n",
    "        print(f\"   - Asymétrie : {asymetrie}\")\n",
    "        print(\"\\n\")"
   ]
  },
  {
   "cell_type": "code",
   "execution_count": 16,
   "id": "67b3db22",
   "metadata": {
    "scrolled": false
   },
   "outputs": [
    {
     "name": "stdout",
     "output_type": "stream",
     "text": [
      "Variable recence:\n",
      "   - Statistique de test : 0.9975415953381125\n",
      "   - Valeur p : 0.0\n",
      "   - La distribution ne semble pas être normale (hypothèse rejetée).\n",
      "   - Asymétrie : 0.45125638183815897\n",
      "\n",
      "\n",
      "Variable frequence:\n",
      "   - Statistique de test : 0.8413447460685429\n",
      "   - Valeur p : 0.0\n",
      "   - La distribution ne semble pas être normale (hypothèse rejetée).\n",
      "   - Asymétrie : 15.911724712745318\n",
      "\n",
      "\n",
      "Variable montant:\n",
      "   - Statistique de test : 1.0\n",
      "   - Valeur p : 0.0\n",
      "   - La distribution ne semble pas être normale (hypothèse rejetée).\n",
      "   - Asymétrie : 11.170766789565196\n",
      "\n",
      "\n"
     ]
    },
    {
     "data": {
      "image/png": "[encoded data removed]",
      "text/plain": [
       "<Figure size 1500x300 with 3 Axes>"
      ]
     },
     "metadata": {},
     "output_type": "display_data"
    }
   ],
   "source": [
    "plot_distribution_and_normality(data_rfm)"
   ]
  },
  {
   "attachments": {},
   "cell_type": "markdown",
   "id": "76ba40c5",
   "metadata": {},
   "source": [
    "_Aucune des distributions n'est symétrique, il va donc falloir standardiser les données. Cependant, l'asymétrie des variables \"frequencee et \"montant\" sont forte (skew > 1), il va donc falloir les normaliser._"
   ]
  },
  {
   "attachments": {},
   "cell_type": "markdown",
   "id": "eb122da6",
   "metadata": {},
   "source": [
    "**_Normalisation par transformation logarithmique_**"
   ]
  },
  {
   "cell_type": "code",
   "execution_count": 17,
   "id": "545bc16a",
   "metadata": {},
   "outputs": [
    {
     "data": {
      "text/html": [
       "<div>\n",
       "<style scoped>\n",
       "    .dataframe tbody tr th:only-of-type {\n",
       "        vertical-align: middle;\n",
       "    }\n",
       "\n",
       "    .dataframe tbody tr th {\n",
       "        vertical-align: top;\n",
       "    }\n",
       "\n",
       "    .dataframe thead th {\n",
       "        text-align: right;\n",
       "    }\n",
       "</style>\n",
       "<table border=\"1\" class=\"dataframe\">\n",
       "  <thead>\n",
       "    <tr style=\"text-align: right;\">\n",
       "      <th></th>\n",
       "      <th>customer_unique_id</th>\n",
       "      <th>recence</th>\n",
       "      <th>frequence</th>\n",
       "      <th>montant</th>\n",
       "    </tr>\n",
       "  </thead>\n",
       "  <tbody>\n",
       "    <tr>\n",
       "      <th>0</th>\n",
       "      <td>0000366f3b9a7992bf8c76cfdf3221e2</td>\n",
       "      <td>111</td>\n",
       "      <td>0.693147</td>\n",
       "      <td>4.962145</td>\n",
       "    </tr>\n",
       "    <tr>\n",
       "      <th>1</th>\n",
       "      <td>0000b849f77a49e4a4ce2b2a4ca5be3f</td>\n",
       "      <td>114</td>\n",
       "      <td>0.693147</td>\n",
       "      <td>3.338967</td>\n",
       "    </tr>\n",
       "    <tr>\n",
       "      <th>2</th>\n",
       "      <td>0000f46a3911fa3c0805444483337064</td>\n",
       "      <td>536</td>\n",
       "      <td>0.693147</td>\n",
       "      <td>4.468434</td>\n",
       "    </tr>\n",
       "  </tbody>\n",
       "</table>\n",
       "</div>"
      ],
      "text/plain": [
       "                 customer_unique_id  recence  frequence   montant\n",
       "0  0000366f3b9a7992bf8c76cfdf3221e2      111   0.693147  4.962145\n",
       "1  0000b849f77a49e4a4ce2b2a4ca5be3f      114   0.693147  3.338967\n",
       "2  0000f46a3911fa3c0805444483337064      536   0.693147  4.468434"
      ]
     },
     "execution_count": 17,
     "metadata": {},
     "output_type": "execute_result"
    }
   ],
   "source": [
    "# Création d'une copie du jeu de données data_RFM\n",
    "rfm_normalized = data_rfm.copy()\n",
    "\n",
    "# Sélection des colonnes à normaliser\n",
    "columns_to_normalize = [\"frequence\", \"montant\"]\n",
    "\n",
    "# Extraction des colonnes sélectionnées\n",
    "data_subset = rfm_normalized[columns_to_normalize]\n",
    "\n",
    "# Normalisation des colonnes sélectionnées\n",
    "transformer = FunctionTransformer(np.log1p)\n",
    "normalized_data = transformer.transform(data_subset)\n",
    "\n",
    "# Création d'un DataFrame avec les colonnes normalisées\n",
    "normalized_df = pd.DataFrame(normalized_data, columns=columns_to_normalize)\n",
    "\n",
    "# Réinsertion des colonnes normalisées dans le DataFrame d'origine\n",
    "rfm_normalized[columns_to_normalize] = normalized_df\n",
    "\n",
    "# Visualiser les 3 premières lignes\n",
    "rfm_normalized.head(3)"
   ]
  },
  {
   "attachments": {},
   "cell_type": "markdown",
   "id": "2ce02759",
   "metadata": {},
   "source": [
    "**_Visualisation de l'impact de la transformation logarithmique_**"
   ]
  },
  {
   "cell_type": "code",
   "execution_count": 18,
   "id": "0e5e83f3",
   "metadata": {},
   "outputs": [
    {
     "name": "stdout",
     "output_type": "stream",
     "text": [
      "Variable recence:\n",
      "   - Statistique de test : 0.9975415953381125\n",
      "   - Valeur p : 0.0\n",
      "   - La distribution ne semble pas être normale (hypothèse rejetée).\n",
      "   - Asymétrie : 0.45125638183815897\n",
      "\n",
      "\n",
      "Variable frequence:\n",
      "   - Statistique de test : 0.7558914042144173\n",
      "   - Valeur p : 0.0\n",
      "   - La distribution ne semble pas être normale (hypothèse rejetée).\n",
      "   - Asymétrie : 3.4637137870424084\n",
      "\n",
      "\n",
      "Variable montant:\n",
      "   - Statistique de test : 0.9971043901023421\n",
      "   - Valeur p : 0.0\n",
      "   - La distribution ne semble pas être normale (hypothèse rejetée).\n",
      "   - Asymétrie : 0.5563912686256868\n",
      "\n",
      "\n"
     ]
    },
    {
     "data": {
      "image/png": "[encoded data removed]",
      "text/plain": [
       "<Figure size 1500x300 with 3 Axes>"
      ]
     },
     "metadata": {},
     "output_type": "display_data"
    }
   ],
   "source": [
    "plot_distribution_and_normality(rfm_normalized)"
   ]
  },
  {
   "attachments": {},
   "cell_type": "markdown",
   "id": "a5ee98e0",
   "metadata": {},
   "source": [
    "_La transformation logarithmique n'a pas permis de sortir des limites \"d'asymétrie forte\" (les skew sont toujours > 0,5).Nous allons utiliser la méthode de **Box-Cox** pour réaliser cette tâche._"
   ]
  },
  {
   "cell_type": "code",
   "execution_count": 19,
   "id": "695b83c1",
   "metadata": {},
   "outputs": [
    {
     "data": {
      "text/html": [
       "<div>\n",
       "<style scoped>\n",
       "    .dataframe tbody tr th:only-of-type {\n",
       "        vertical-align: middle;\n",
       "    }\n",
       "\n",
       "    .dataframe tbody tr th {\n",
       "        vertical-align: top;\n",
       "    }\n",
       "\n",
       "    .dataframe thead th {\n",
       "        text-align: right;\n",
       "    }\n",
       "</style>\n",
       "<table border=\"1\" class=\"dataframe\">\n",
       "  <thead>\n",
       "    <tr style=\"text-align: right;\">\n",
       "      <th></th>\n",
       "      <th>customer_unique_id</th>\n",
       "      <th>recence</th>\n",
       "      <th>frequence</th>\n",
       "      <th>montant</th>\n",
       "    </tr>\n",
       "  </thead>\n",
       "  <tbody>\n",
       "    <tr>\n",
       "      <th>0</th>\n",
       "      <td>0000366f3b9a7992bf8c76cfdf3221e2</td>\n",
       "      <td>111</td>\n",
       "      <td>0.0</td>\n",
       "      <td>3.097686</td>\n",
       "    </tr>\n",
       "    <tr>\n",
       "      <th>1</th>\n",
       "      <td>0000b849f77a49e4a4ce2b2a4ca5be3f</td>\n",
       "      <td>114</td>\n",
       "      <td>0.0</td>\n",
       "      <td>2.391878</td>\n",
       "    </tr>\n",
       "    <tr>\n",
       "      <th>2</th>\n",
       "      <td>0000f46a3911fa3c0805444483337064</td>\n",
       "      <td>536</td>\n",
       "      <td>0.0</td>\n",
       "      <td>2.909676</td>\n",
       "    </tr>\n",
       "  </tbody>\n",
       "</table>\n",
       "</div>"
      ],
      "text/plain": [
       "                 customer_unique_id  recence  frequence   montant\n",
       "0  0000366f3b9a7992bf8c76cfdf3221e2      111        0.0  3.097686\n",
       "1  0000b849f77a49e4a4ce2b2a4ca5be3f      114        0.0  2.391878\n",
       "2  0000f46a3911fa3c0805444483337064      536        0.0  2.909676"
      ]
     },
     "execution_count": 19,
     "metadata": {},
     "output_type": "execute_result"
    }
   ],
   "source": [
    "# Sélection des variables à normaliser\n",
    "variables_a_normaliser = [\"recence\", \"frequence\", \"montant\"]\n",
    "\n",
    "# Copie du jeu de données avec les variables sélectionnées\n",
    "data_normalised = data_rfm.copy()\n",
    "\n",
    "# Parcourir les variables à normaliser\n",
    "for variable in variables_a_normaliser:\n",
    "    # Vérifier si la variable ne contient pas de valeurs négatives ou nulles\n",
    "    if np.min(data_normalised[variable]) > 0:\n",
    "        # Appliquer la transformation Box-Cox\n",
    "        data_normalised[variable], _ = stats.boxcox(data_normalised[variable])\n",
    "\n",
    "data_normalised.head(3)"
   ]
  },
  {
   "cell_type": "code",
   "execution_count": 20,
   "id": "1c619fcf",
   "metadata": {},
   "outputs": [
    {
     "name": "stdout",
     "output_type": "stream",
     "text": [
      "Variable recence:\n",
      "   - Statistique de test : 0.9975415953381125\n",
      "   - Valeur p : 0.0\n",
      "   - La distribution ne semble pas être normale (hypothèse rejetée).\n",
      "   - Asymétrie : 0.45125638183815897\n",
      "\n",
      "\n",
      "Variable frequence:\n",
      "   - Statistique de test : 0.5\n",
      "   - Valeur p : 0.0\n",
      "   - La distribution ne semble pas être normale (hypothèse rejetée).\n",
      "   - Asymétrie : 1.958759022853187\n",
      "\n",
      "\n",
      "Variable montant:\n",
      "   - Statistique de test : 0.9839110729098115\n",
      "   - Valeur p : 0.0\n",
      "   - La distribution ne semble pas être normale (hypothèse rejetée).\n",
      "   - Asymétrie : 0.006831443353637689\n",
      "\n",
      "\n"
     ]
    },
    {
     "data": {
      "image/png": "[encoded data removed]",
      "text/plain": [
       "<Figure size 1500x300 with 3 Axes>"
      ]
     },
     "metadata": {},
     "output_type": "display_data"
    }
   ],
   "source": [
    "plot_distribution_and_normality(data_normalised)"
   ]
  },
  {
   "attachments": {},
   "cell_type": "markdown",
   "id": "d1e5563b",
   "metadata": {},
   "source": [
    "Le résultat obtenu avec la méthode Box-Cox est meilleur qu'avec la transformation logarithmique."
   ]
  },
  {
   "attachments": {},
   "cell_type": "markdown",
   "id": "65e11e02",
   "metadata": {},
   "source": [
    "### <font color = \"blue\" weight = \"bold\"> IV.2. Preprocessing"
   ]
  },
  {
   "attachments": {},
   "cell_type": "markdown",
   "id": "6600b958",
   "metadata": {},
   "source": [
    "**_Standardisation des variables_**"
   ]
  },
  {
   "cell_type": "code",
   "execution_count": 21,
   "id": "ab03c6b9",
   "metadata": {},
   "outputs": [
    {
     "data": {
      "text/html": [
       "<div>\n",
       "<style scoped>\n",
       "    .dataframe tbody tr th:only-of-type {\n",
       "        vertical-align: middle;\n",
       "    }\n",
       "\n",
       "    .dataframe tbody tr th {\n",
       "        vertical-align: top;\n",
       "    }\n",
       "\n",
       "    .dataframe thead th {\n",
       "        text-align: right;\n",
       "    }\n",
       "</style>\n",
       "<table border=\"1\" class=\"dataframe\">\n",
       "  <thead>\n",
       "    <tr style=\"text-align: right;\">\n",
       "      <th></th>\n",
       "      <th>recence</th>\n",
       "      <th>frequence</th>\n",
       "      <th>montant</th>\n",
       "    </tr>\n",
       "  </thead>\n",
       "  <tbody>\n",
       "    <tr>\n",
       "      <th>0</th>\n",
       "      <td>-0.458874</td>\n",
       "      <td>0.0</td>\n",
       "      <td>0.227647</td>\n",
       "    </tr>\n",
       "    <tr>\n",
       "      <th>1</th>\n",
       "      <td>-0.445887</td>\n",
       "      <td>0.0</td>\n",
       "      <td>-1.498474</td>\n",
       "    </tr>\n",
       "    <tr>\n",
       "      <th>2</th>\n",
       "      <td>1.380952</td>\n",
       "      <td>0.0</td>\n",
       "      <td>-0.232150</td>\n",
       "    </tr>\n",
       "    <tr>\n",
       "      <th>3</th>\n",
       "      <td>0.445887</td>\n",
       "      <td>0.0</td>\n",
       "      <td>-0.942995</td>\n",
       "    </tr>\n",
       "    <tr>\n",
       "      <th>4</th>\n",
       "      <td>0.303030</td>\n",
       "      <td>0.0</td>\n",
       "      <td>0.505061</td>\n",
       "    </tr>\n",
       "  </tbody>\n",
       "</table>\n",
       "</div>"
      ],
      "text/plain": [
       "    recence  frequence   montant\n",
       "0 -0.458874        0.0  0.227647\n",
       "1 -0.445887        0.0 -1.498474\n",
       "2  1.380952        0.0 -0.232150\n",
       "3  0.445887        0.0 -0.942995\n",
       "4  0.303030        0.0  0.505061"
      ]
     },
     "execution_count": 21,
     "metadata": {},
     "output_type": "execute_result"
    }
   ],
   "source": [
    "# Selection des variables à standardiser\n",
    "variables = data_normalised[[\"recence\", \"frequence\", \"montant\"]]\n",
    "\n",
    "# Standardisation\n",
    "scale = RobustScaler()\n",
    "features_scaled = scale.fit_transform(variables)\n",
    "features_scaled = pd.DataFrame(features_scaled, columns = variables.columns)\n",
    "features_scaled.head()"
   ]
  },
  {
   "attachments": {},
   "cell_type": "markdown",
   "id": "89ea24d2",
   "metadata": {},
   "source": [
    "**_Recherche du nombre optimal de cluster_**"
   ]
  },
  {
   "cell_type": "code",
   "execution_count": 22,
   "id": "241a23d5",
   "metadata": {},
   "outputs": [
    {
     "data": {
      "image/png": "[encoded data removed]",
      "text/plain": [
       "<Figure size 800x550 with 2 Axes>"
      ]
     },
     "metadata": {},
     "output_type": "display_data"
    },
    {
     "data": {
      "text/plain": [
       "<Axes: title={'center': 'Distortion Score Elbow for KMeans Clustering'}, xlabel='k', ylabel='distortion score'>"
      ]
     },
     "execution_count": 22,
     "metadata": {},
     "output_type": "execute_result"
    }
   ],
   "source": [
    "from yellowbrick.cluster import KElbowVisualizer\n",
    "k_means = KMeans(n_init = 10, random_state = 50)\n",
    "elbow = KElbowVisualizer(k_means, k=(2, 20))\n",
    "elbow.fit(features_scaled)\n",
    "elbow.show()"
   ]
  },
  {
   "attachments": {},
   "cell_type": "markdown",
   "id": "48b91a71",
   "metadata": {},
   "source": [
    "Le nombre optimal de cluster est 6. Nous allons donc segmenter les clients en 6 groupes."
   ]
  },
  {
   "attachments": {},
   "cell_type": "markdown",
   "id": "60c5d357",
   "metadata": {},
   "source": [
    "### <font color = \"blue\" weight = \"bold\"> IV.3. Segmentation"
   ]
  },
  {
   "cell_type": "code",
   "execution_count": 23,
   "id": "c5fcf229",
   "metadata": {},
   "outputs": [
    {
     "data": {
      "text/html": [
       "<style>#sk-container-id-1 {color: black;background-color: white;}#sk-container-id-1 pre{padding: 0;}#sk-container-id-1 div.sk-toggleable {background-color: white;}#sk-container-id-1 label.sk-toggleable__label {cursor: pointer;display: block;width: 100%;margin-bottom: 0;padding: 0.3em;box-sizing: border-box;text-align: center;}#sk-container-id-1 label.sk-toggleable__label-arrow:before {content: \"▸\";float: left;margin-right: 0.25em;color: #696969;}#sk-container-id-1 label.sk-toggleable__label-arrow:hover:before {color: black;}#sk-container-id-1 div.sk-estimator:hover label.sk-toggleable__label-arrow:before {color: black;}#sk-container-id-1 div.sk-toggleable__content {max-height: 0;max-width: 0;overflow: hidden;text-align: left;background-color: #f0f8ff;}#sk-container-id-1 div.sk-toggleable__content pre {margin: 0.2em;color: black;border-radius: 0.25em;background-color: #f0f8ff;}#sk-container-id-1 input.sk-toggleable__control:checked~div.sk-toggleable__content {max-height: 200px;max-width: 100%;overflow: auto;}#sk-container-id-1 input.sk-toggleable__control:checked~label.sk-toggleable__label-arrow:before {content: \"▾\";}#sk-container-id-1 div.sk-estimator input.sk-toggleable__control:checked~label.sk-toggleable__label {background-color: #d4ebff;}#sk-container-id-1 div.sk-label input.sk-toggleable__control:checked~label.sk-toggleable__label {background-color: #d4ebff;}#sk-container-id-1 input.sk-hidden--visually {border: 0;clip: rect(1px 1px 1px 1px);clip: rect(1px, 1px, 1px, 1px);height: 1px;margin: -1px;overflow: hidden;padding: 0;position: absolute;width: 1px;}#sk-container-id-1 div.sk-estimator {font-family: monospace;background-color: #f0f8ff;border: 1px dotted black;border-radius: 0.25em;box-sizing: border-box;margin-bottom: 0.5em;}#sk-container-id-1 div.sk-estimator:hover {background-color: #d4ebff;}#sk-container-id-1 div.sk-parallel-item::after {content: \"\";width: 100%;border-bottom: 1px solid gray;flex-grow: 1;}#sk-container-id-1 div.sk-label:hover label.sk-toggleable__label {background-color: #d4ebff;}#sk-container-id-1 div.sk-serial::before {content: \"\";position: absolute;border-left: 1px solid gray;box-sizing: border-box;top: 0;bottom: 0;left: 50%;z-index: 0;}#sk-container-id-1 div.sk-serial {display: flex;flex-direction: column;align-items: center;background-color: white;padding-right: 0.2em;padding-left: 0.2em;position: relative;}#sk-container-id-1 div.sk-item {position: relative;z-index: 1;}#sk-container-id-1 div.sk-parallel {display: flex;align-items: stretch;justify-content: center;background-color: white;position: relative;}#sk-container-id-1 div.sk-item::before, #sk-container-id-1 div.sk-parallel-item::before {content: \"\";position: absolute;border-left: 1px solid gray;box-sizing: border-box;top: 0;bottom: 0;left: 50%;z-index: -1;}#sk-container-id-1 div.sk-parallel-item {display: flex;flex-direction: column;z-index: 1;position: relative;background-color: white;}#sk-container-id-1 div.sk-parallel-item:first-child::after {align-self: flex-end;width: 50%;}#sk-container-id-1 div.sk-parallel-item:last-child::after {align-self: flex-start;width: 50%;}#sk-container-id-1 div.sk-parallel-item:only-child::after {width: 0;}#sk-container-id-1 div.sk-dashed-wrapped {border: 1px dashed gray;margin: 0 0.4em 0.5em 0.4em;box-sizing: border-box;padding-bottom: 0.4em;background-color: white;}#sk-container-id-1 div.sk-label label {font-family: monospace;font-weight: bold;display: inline-block;line-height: 1.2em;}#sk-container-id-1 div.sk-label-container {text-align: center;}#sk-container-id-1 div.sk-container {/* jupyter's `normalize.less` sets `[hidden] { display: none; }` but bootstrap.min.css set `[hidden] { display: none !important; }` so we also need the `!important` here to be able to override the default hidden behavior on the sphinx rendered scikit-learn.org. See: https://github.com/scikit-learn/scikit-learn/issues/21755 */display: inline-block !important;position: relative;}#sk-container-id-1 div.sk-text-repr-fallback {display: none;}</style><div id=\"sk-container-id-1\" class=\"sk-top-container\"><div class=\"sk-text-repr-fallback\"><pre>KMeans(n_clusters=6, n_init=10, random_state=1000)</pre><b>In a Jupyter environment, please rerun this cell to show the HTML representation or trust the notebook. <br />On GitHub, the HTML representation is unable to render, please try loading this page with nbviewer.org.</b></div><div class=\"sk-container\" hidden><div class=\"sk-item\"><div class=\"sk-estimator sk-toggleable\"><input class=\"sk-toggleable__control sk-hidden--visually\" id=\"sk-estimator-id-1\" type=\"checkbox\" checked><label for=\"sk-estimator-id-1\" class=\"sk-toggleable__label sk-toggleable__label-arrow\">KMeans</label><div class=\"sk-toggleable__content\"><pre>KMeans(n_clusters=6, n_init=10, random_state=1000)</pre></div></div></div></div></div>"
      ],
      "text/plain": [
       "KMeans(n_clusters=6, n_init=10, random_state=1000)"
      ]
     },
     "execution_count": 23,
     "metadata": {},
     "output_type": "execute_result"
    }
   ],
   "source": [
    "kmeans= KMeans(n_clusters = elbow.elbow_value_, n_init = 10, random_state = 1000)\n",
    "kmeans.fit(features_scaled)"
   ]
  },
  {
   "attachments": {},
   "cell_type": "markdown",
   "id": "dfa72998",
   "metadata": {},
   "source": [
    "**_Aperçu de la segmentation_**"
   ]
  },
  {
   "cell_type": "code",
   "execution_count": 24,
   "id": "9971bc7c",
   "metadata": {},
   "outputs": [
    {
     "data": {
      "text/html": [
       "<div>\n",
       "<style scoped>\n",
       "    .dataframe tbody tr th:only-of-type {\n",
       "        vertical-align: middle;\n",
       "    }\n",
       "\n",
       "    .dataframe tbody tr th {\n",
       "        vertical-align: top;\n",
       "    }\n",
       "\n",
       "    .dataframe thead th {\n",
       "        text-align: right;\n",
       "    }\n",
       "</style>\n",
       "<table border=\"1\" class=\"dataframe\">\n",
       "  <thead>\n",
       "    <tr style=\"text-align: right;\">\n",
       "      <th></th>\n",
       "      <th>recence</th>\n",
       "      <th>frequence</th>\n",
       "      <th>montant</th>\n",
       "      <th>segment</th>\n",
       "    </tr>\n",
       "  </thead>\n",
       "  <tbody>\n",
       "    <tr>\n",
       "      <th>0</th>\n",
       "      <td>-0.458874</td>\n",
       "      <td>0.0</td>\n",
       "      <td>0.227647</td>\n",
       "      <td>4</td>\n",
       "    </tr>\n",
       "    <tr>\n",
       "      <th>1</th>\n",
       "      <td>-0.445887</td>\n",
       "      <td>0.0</td>\n",
       "      <td>-1.498474</td>\n",
       "      <td>0</td>\n",
       "    </tr>\n",
       "    <tr>\n",
       "      <th>2</th>\n",
       "      <td>1.380952</td>\n",
       "      <td>0.0</td>\n",
       "      <td>-0.232150</td>\n",
       "      <td>2</td>\n",
       "    </tr>\n",
       "    <tr>\n",
       "      <th>3</th>\n",
       "      <td>0.445887</td>\n",
       "      <td>0.0</td>\n",
       "      <td>-0.942995</td>\n",
       "      <td>2</td>\n",
       "    </tr>\n",
       "    <tr>\n",
       "      <th>4</th>\n",
       "      <td>0.303030</td>\n",
       "      <td>0.0</td>\n",
       "      <td>0.505061</td>\n",
       "      <td>1</td>\n",
       "    </tr>\n",
       "  </tbody>\n",
       "</table>\n",
       "</div>"
      ],
      "text/plain": [
       "    recence  frequence   montant  segment\n",
       "0 -0.458874        0.0  0.227647        4\n",
       "1 -0.445887        0.0 -1.498474        0\n",
       "2  1.380952        0.0 -0.232150        2\n",
       "3  0.445887        0.0 -0.942995        2\n",
       "4  0.303030        0.0  0.505061        1"
      ]
     },
     "execution_count": 24,
     "metadata": {},
     "output_type": "execute_result"
    }
   ],
   "source": [
    "features_scaled[\"segment\"] = kmeans.labels_\n",
    "features_scaled.head()"
   ]
  },
  {
   "cell_type": "code",
   "execution_count": 25,
   "id": "fb70327d",
   "metadata": {},
   "outputs": [
    {
     "data": {
      "text/html": [
       "<div>\n",
       "<style scoped>\n",
       "    .dataframe tbody tr th:only-of-type {\n",
       "        vertical-align: middle;\n",
       "    }\n",
       "\n",
       "    .dataframe tbody tr th {\n",
       "        vertical-align: top;\n",
       "    }\n",
       "\n",
       "    .dataframe thead th {\n",
       "        text-align: right;\n",
       "    }\n",
       "</style>\n",
       "<table border=\"1\" class=\"dataframe\">\n",
       "  <thead>\n",
       "    <tr style=\"text-align: right;\">\n",
       "      <th></th>\n",
       "      <th>customer_unique_id</th>\n",
       "      <th>recence</th>\n",
       "      <th>frequence</th>\n",
       "      <th>montant</th>\n",
       "      <th>segment</th>\n",
       "    </tr>\n",
       "  </thead>\n",
       "  <tbody>\n",
       "    <tr>\n",
       "      <th>0</th>\n",
       "      <td>0000366f3b9a7992bf8c76cfdf3221e2</td>\n",
       "      <td>111</td>\n",
       "      <td>1</td>\n",
       "      <td>141.90</td>\n",
       "      <td>4</td>\n",
       "    </tr>\n",
       "    <tr>\n",
       "      <th>1</th>\n",
       "      <td>0000b849f77a49e4a4ce2b2a4ca5be3f</td>\n",
       "      <td>114</td>\n",
       "      <td>1</td>\n",
       "      <td>27.19</td>\n",
       "      <td>0</td>\n",
       "    </tr>\n",
       "    <tr>\n",
       "      <th>2</th>\n",
       "      <td>0000f46a3911fa3c0805444483337064</td>\n",
       "      <td>536</td>\n",
       "      <td>1</td>\n",
       "      <td>86.22</td>\n",
       "      <td>2</td>\n",
       "    </tr>\n",
       "    <tr>\n",
       "      <th>3</th>\n",
       "      <td>0000f6ccb0745a6a4b88665a16c9f078</td>\n",
       "      <td>320</td>\n",
       "      <td>1</td>\n",
       "      <td>43.62</td>\n",
       "      <td>2</td>\n",
       "    </tr>\n",
       "    <tr>\n",
       "      <th>4</th>\n",
       "      <td>0004aac84e0df4da2b147fca70cf8255</td>\n",
       "      <td>287</td>\n",
       "      <td>1</td>\n",
       "      <td>196.89</td>\n",
       "      <td>1</td>\n",
       "    </tr>\n",
       "    <tr>\n",
       "      <th>...</th>\n",
       "      <td>...</td>\n",
       "      <td>...</td>\n",
       "      <td>...</td>\n",
       "      <td>...</td>\n",
       "      <td>...</td>\n",
       "    </tr>\n",
       "    <tr>\n",
       "      <th>91476</th>\n",
       "      <td>fffcf5a5ff07b0908bd4e2dbc735a684</td>\n",
       "      <td>446</td>\n",
       "      <td>2</td>\n",
       "      <td>2067.42</td>\n",
       "      <td>3</td>\n",
       "    </tr>\n",
       "    <tr>\n",
       "      <th>91477</th>\n",
       "      <td>fffea47cd6d3cc0a88bd621562a9d061</td>\n",
       "      <td>261</td>\n",
       "      <td>1</td>\n",
       "      <td>84.58</td>\n",
       "      <td>1</td>\n",
       "    </tr>\n",
       "    <tr>\n",
       "      <th>91478</th>\n",
       "      <td>ffff371b4d645b6ecea244b27531430a</td>\n",
       "      <td>567</td>\n",
       "      <td>1</td>\n",
       "      <td>112.46</td>\n",
       "      <td>3</td>\n",
       "    </tr>\n",
       "    <tr>\n",
       "      <th>91479</th>\n",
       "      <td>ffff5962728ec6157033ef9805bacc48</td>\n",
       "      <td>118</td>\n",
       "      <td>1</td>\n",
       "      <td>133.69</td>\n",
       "      <td>4</td>\n",
       "    </tr>\n",
       "    <tr>\n",
       "      <th>91480</th>\n",
       "      <td>ffffd2657e2aad2907e67c3e9daecbeb</td>\n",
       "      <td>483</td>\n",
       "      <td>1</td>\n",
       "      <td>71.56</td>\n",
       "      <td>2</td>\n",
       "    </tr>\n",
       "  </tbody>\n",
       "</table>\n",
       "<p>91481 rows × 5 columns</p>\n",
       "</div>"
      ],
      "text/plain": [
       "                     customer_unique_id  recence  frequence  montant  segment\n",
       "0      0000366f3b9a7992bf8c76cfdf3221e2      111          1   141.90        4\n",
       "1      0000b849f77a49e4a4ce2b2a4ca5be3f      114          1    27.19        0\n",
       "2      0000f46a3911fa3c0805444483337064      536          1    86.22        2\n",
       "3      0000f6ccb0745a6a4b88665a16c9f078      320          1    43.62        2\n",
       "4      0004aac84e0df4da2b147fca70cf8255      287          1   196.89        1\n",
       "...                                 ...      ...        ...      ...      ...\n",
       "91476  fffcf5a5ff07b0908bd4e2dbc735a684      446          2  2067.42        3\n",
       "91477  fffea47cd6d3cc0a88bd621562a9d061      261          1    84.58        1\n",
       "91478  ffff371b4d645b6ecea244b27531430a      567          1   112.46        3\n",
       "91479  ffff5962728ec6157033ef9805bacc48      118          1   133.69        4\n",
       "91480  ffffd2657e2aad2907e67c3e9daecbeb      483          1    71.56        2\n",
       "\n",
       "[91481 rows x 5 columns]"
      ]
     },
     "execution_count": 25,
     "metadata": {},
     "output_type": "execute_result"
    }
   ],
   "source": [
    "# Attributions des identifiants clients au cluster correspondant\n",
    "rfm_cluster = data_rfm.copy()\n",
    "rfm_cluster[\"segment\"] = kmeans.labels_\n",
    "rfm_cluster"
   ]
  },
  {
   "attachments": {},
   "cell_type": "markdown",
   "id": "29a1803a",
   "metadata": {},
   "source": [
    "**_Analyse des clusters_**"
   ]
  },
  {
   "cell_type": "code",
   "execution_count": 26,
   "id": "664cc1ff",
   "metadata": {},
   "outputs": [
    {
     "data": {
      "text/html": [
       "<style type=\"text/css\">\n",
       "#T_5bec9_row0_col0 {\n",
       "  background-color: #7997c1;\n",
       "  color: #f1f1f1;\n",
       "}\n",
       "#T_5bec9_row0_col1 {\n",
       "  background-color: #7e9ac2;\n",
       "  color: #f1f1f1;\n",
       "}\n",
       "#T_5bec9_row0_col2, #T_5bec9_row0_col4, #T_5bec9_row0_col5, #T_5bec9_row0_col6, #T_5bec9_row0_col7, #T_5bec9_row0_col8, #T_5bec9_row0_col9, #T_5bec9_row0_col10, #T_5bec9_row0_col11, #T_5bec9_row1_col4, #T_5bec9_row1_col5, #T_5bec9_row1_col6, #T_5bec9_row2_col4, #T_5bec9_row2_col5, #T_5bec9_row2_col6, #T_5bec9_row2_col11, #T_5bec9_row2_col12, #T_5bec9_row3_col4, #T_5bec9_row3_col5, #T_5bec9_row3_col6, #T_5bec9_row4_col0, #T_5bec9_row4_col1, #T_5bec9_row4_col2, #T_5bec9_row4_col3, #T_5bec9_row4_col4, #T_5bec9_row4_col5, #T_5bec9_row4_col6, #T_5bec9_row5_col2, #T_5bec9_row5_col5, #T_5bec9_row5_col6 {\n",
       "  background-color: #2369bd;\n",
       "  color: #f1f1f1;\n",
       "}\n",
       "#T_5bec9_row0_col3 {\n",
       "  background-color: #c0c9d9;\n",
       "  color: #000000;\n",
       "}\n",
       "#T_5bec9_row0_col12 {\n",
       "  background-color: #e0b7b5;\n",
       "  color: #000000;\n",
       "}\n",
       "#T_5bec9_row1_col0 {\n",
       "  background-color: #faf5f5;\n",
       "  color: #000000;\n",
       "}\n",
       "#T_5bec9_row1_col1 {\n",
       "  background-color: #faf4f3;\n",
       "  color: #000000;\n",
       "}\n",
       "#T_5bec9_row1_col2 {\n",
       "  background-color: #f7eae8;\n",
       "  color: #000000;\n",
       "}\n",
       "#T_5bec9_row1_col3 {\n",
       "  background-color: #ecebef;\n",
       "  color: #000000;\n",
       "}\n",
       "#T_5bec9_row1_col7, #T_5bec9_row1_col11, #T_5bec9_row2_col7, #T_5bec9_row4_col11 {\n",
       "  background-color: #2c6dbc;\n",
       "  color: #f1f1f1;\n",
       "}\n",
       "#T_5bec9_row1_col8 {\n",
       "  background-color: #7594c0;\n",
       "  color: #f1f1f1;\n",
       "}\n",
       "#T_5bec9_row1_col9 {\n",
       "  background-color: #8ba3c6;\n",
       "  color: #f1f1f1;\n",
       "}\n",
       "#T_5bec9_row1_col10 {\n",
       "  background-color: #a3b4cd;\n",
       "  color: #000000;\n",
       "}\n",
       "#T_5bec9_row1_col12 {\n",
       "  background-color: #c3726f;\n",
       "  color: #f1f1f1;\n",
       "}\n",
       "#T_5bec9_row2_col0 {\n",
       "  background-color: #b1494a;\n",
       "  color: #f1f1f1;\n",
       "}\n",
       "#T_5bec9_row2_col1 {\n",
       "  background-color: #b24c4c;\n",
       "  color: #f1f1f1;\n",
       "}\n",
       "#T_5bec9_row2_col2 {\n",
       "  background-color: #b24a4b;\n",
       "  color: #f1f1f1;\n",
       "}\n",
       "#T_5bec9_row2_col3, #T_5bec9_row3_col0, #T_5bec9_row3_col1, #T_5bec9_row3_col2, #T_5bec9_row3_col3, #T_5bec9_row4_col12, #T_5bec9_row5_col4, #T_5bec9_row5_col7, #T_5bec9_row5_col8, #T_5bec9_row5_col9, #T_5bec9_row5_col10, #T_5bec9_row5_col11 {\n",
       "  background-color: #a9373b;\n",
       "  color: #f1f1f1;\n",
       "}\n",
       "#T_5bec9_row2_col8 {\n",
       "  background-color: #3470bc;\n",
       "  color: #f1f1f1;\n",
       "}\n",
       "#T_5bec9_row2_col9 {\n",
       "  background-color: #3b73bc;\n",
       "  color: #f1f1f1;\n",
       "}\n",
       "#T_5bec9_row2_col10 {\n",
       "  background-color: #296cbc;\n",
       "  color: #f1f1f1;\n",
       "}\n",
       "#T_5bec9_row3_col7 {\n",
       "  background-color: #e4e5eb;\n",
       "  color: #000000;\n",
       "}\n",
       "#T_5bec9_row3_col8 {\n",
       "  background-color: #f7f4f4;\n",
       "  color: #000000;\n",
       "}\n",
       "#T_5bec9_row3_col9 {\n",
       "  background-color: #f9f5f5;\n",
       "  color: #000000;\n",
       "}\n",
       "#T_5bec9_row3_col10 {\n",
       "  background-color: #f8f4f5;\n",
       "  color: #000000;\n",
       "}\n",
       "#T_5bec9_row3_col11 {\n",
       "  background-color: #eacfcd;\n",
       "  color: #000000;\n",
       "}\n",
       "#T_5bec9_row3_col12 {\n",
       "  background-color: #4879bc;\n",
       "  color: #f1f1f1;\n",
       "}\n",
       "#T_5bec9_row4_col7 {\n",
       "  background-color: #3671bc;\n",
       "  color: #f1f1f1;\n",
       "}\n",
       "#T_5bec9_row4_col8 {\n",
       "  background-color: #839dc4;\n",
       "  color: #f1f1f1;\n",
       "}\n",
       "#T_5bec9_row4_col9 {\n",
       "  background-color: #a2b2cd;\n",
       "  color: #000000;\n",
       "}\n",
       "#T_5bec9_row4_col10 {\n",
       "  background-color: #afbcd1;\n",
       "  color: #000000;\n",
       "}\n",
       "#T_5bec9_row5_col0 {\n",
       "  background-color: #95a9c8;\n",
       "  color: #f1f1f1;\n",
       "}\n",
       "#T_5bec9_row5_col1 {\n",
       "  background-color: #98acc9;\n",
       "  color: #f1f1f1;\n",
       "}\n",
       "#T_5bec9_row5_col3 {\n",
       "  background-color: #f7ebea;\n",
       "  color: #000000;\n",
       "}\n",
       "#T_5bec9_row5_col12 {\n",
       "  background-color: #829cc3;\n",
       "  color: #f1f1f1;\n",
       "}\n",
       "</style>\n",
       "<table id=\"T_5bec9\">\n",
       "  <thead>\n",
       "    <tr>\n",
       "      <th class=\"blank level0\" >&nbsp;</th>\n",
       "      <th id=\"T_5bec9_level0_col0\" class=\"col_heading level0 col0\" colspan=\"4\">recence</th>\n",
       "      <th id=\"T_5bec9_level0_col4\" class=\"col_heading level0 col4\" colspan=\"4\">frequence</th>\n",
       "      <th id=\"T_5bec9_level0_col8\" class=\"col_heading level0 col8\" colspan=\"5\">montant</th>\n",
       "    </tr>\n",
       "    <tr>\n",
       "      <th class=\"blank level1\" >&nbsp;</th>\n",
       "      <th id=\"T_5bec9_level1_col0\" class=\"col_heading level1 col0\" >mean</th>\n",
       "      <th id=\"T_5bec9_level1_col1\" class=\"col_heading level1 col1\" >median</th>\n",
       "      <th id=\"T_5bec9_level1_col2\" class=\"col_heading level1 col2\" >min</th>\n",
       "      <th id=\"T_5bec9_level1_col3\" class=\"col_heading level1 col3\" >max</th>\n",
       "      <th id=\"T_5bec9_level1_col4\" class=\"col_heading level1 col4\" >mean</th>\n",
       "      <th id=\"T_5bec9_level1_col5\" class=\"col_heading level1 col5\" >median</th>\n",
       "      <th id=\"T_5bec9_level1_col6\" class=\"col_heading level1 col6\" >min</th>\n",
       "      <th id=\"T_5bec9_level1_col7\" class=\"col_heading level1 col7\" >max</th>\n",
       "      <th id=\"T_5bec9_level1_col8\" class=\"col_heading level1 col8\" >mean</th>\n",
       "      <th id=\"T_5bec9_level1_col9\" class=\"col_heading level1 col9\" >median</th>\n",
       "      <th id=\"T_5bec9_level1_col10\" class=\"col_heading level1 col10\" >min</th>\n",
       "      <th id=\"T_5bec9_level1_col11\" class=\"col_heading level1 col11\" >max</th>\n",
       "      <th id=\"T_5bec9_level1_col12\" class=\"col_heading level1 col12\" >count</th>\n",
       "    </tr>\n",
       "    <tr>\n",
       "      <th class=\"index_name level0\" >segment</th>\n",
       "      <th class=\"blank col0\" >&nbsp;</th>\n",
       "      <th class=\"blank col1\" >&nbsp;</th>\n",
       "      <th class=\"blank col2\" >&nbsp;</th>\n",
       "      <th class=\"blank col3\" >&nbsp;</th>\n",
       "      <th class=\"blank col4\" >&nbsp;</th>\n",
       "      <th class=\"blank col5\" >&nbsp;</th>\n",
       "      <th class=\"blank col6\" >&nbsp;</th>\n",
       "      <th class=\"blank col7\" >&nbsp;</th>\n",
       "      <th class=\"blank col8\" >&nbsp;</th>\n",
       "      <th class=\"blank col9\" >&nbsp;</th>\n",
       "      <th class=\"blank col10\" >&nbsp;</th>\n",
       "      <th class=\"blank col11\" >&nbsp;</th>\n",
       "      <th class=\"blank col12\" >&nbsp;</th>\n",
       "    </tr>\n",
       "  </thead>\n",
       "  <tbody>\n",
       "    <tr>\n",
       "      <th id=\"T_5bec9_level0_row0\" class=\"row_heading level0 row0\" >0</th>\n",
       "      <td id=\"T_5bec9_row0_col0\" class=\"data row0 col0\" >147.000000</td>\n",
       "      <td id=\"T_5bec9_row0_col1\" class=\"data row0 col1\" >149.000000</td>\n",
       "      <td id=\"T_5bec9_row0_col2\" class=\"data row0 col2\" >0</td>\n",
       "      <td id=\"T_5bec9_row0_col3\" class=\"data row0 col3\" >360</td>\n",
       "      <td id=\"T_5bec9_row0_col4\" class=\"data row0 col4\" >1.000000</td>\n",
       "      <td id=\"T_5bec9_row0_col5\" class=\"data row0 col5\" >1.000000</td>\n",
       "      <td id=\"T_5bec9_row0_col6\" class=\"data row0 col6\" >1</td>\n",
       "      <td id=\"T_5bec9_row0_col7\" class=\"data row0 col7\" >5</td>\n",
       "      <td id=\"T_5bec9_row0_col8\" class=\"data row0 col8\" >46.000000</td>\n",
       "      <td id=\"T_5bec9_row0_col9\" class=\"data row0 col9\" >45.000000</td>\n",
       "      <td id=\"T_5bec9_row0_col10\" class=\"data row0 col10\" >10.000000</td>\n",
       "      <td id=\"T_5bec9_row0_col11\" class=\"data row0 col11\" >74.000000</td>\n",
       "      <td id=\"T_5bec9_row0_col12\" class=\"data row0 col12\" >17023</td>\n",
       "    </tr>\n",
       "    <tr>\n",
       "      <th id=\"T_5bec9_level0_row1\" class=\"row_heading level0 row1\" >1</th>\n",
       "      <td id=\"T_5bec9_row1_col0\" class=\"data row1 col0\" >266.000000</td>\n",
       "      <td id=\"T_5bec9_row1_col1\" class=\"data row1 col1\" >268.000000</td>\n",
       "      <td id=\"T_5bec9_row1_col2\" class=\"data row1 col2\" >163</td>\n",
       "      <td id=\"T_5bec9_row1_col3\" class=\"data row1 col3\" >414</td>\n",
       "      <td id=\"T_5bec9_row1_col4\" class=\"data row1 col4\" >1.000000</td>\n",
       "      <td id=\"T_5bec9_row1_col5\" class=\"data row1 col5\" >1.000000</td>\n",
       "      <td id=\"T_5bec9_row1_col6\" class=\"data row1 col6\" >1</td>\n",
       "      <td id=\"T_5bec9_row1_col7\" class=\"data row1 col7\" >6</td>\n",
       "      <td id=\"T_5bec9_row1_col8\" class=\"data row1 col8\" >118.000000</td>\n",
       "      <td id=\"T_5bec9_row1_col9\" class=\"data row1 col9\" >110.000000</td>\n",
       "      <td id=\"T_5bec9_row1_col10\" class=\"data row1 col10\" >58.000000</td>\n",
       "      <td id=\"T_5bec9_row1_col11\" class=\"data row1 col11\" >237.000000</td>\n",
       "      <td id=\"T_5bec9_row1_col12\" class=\"data row1 col12\" >18531</td>\n",
       "    </tr>\n",
       "    <tr>\n",
       "      <th id=\"T_5bec9_level0_row2\" class=\"row_heading level0 row2\" >2</th>\n",
       "      <td id=\"T_5bec9_row2_col0\" class=\"data row2 col0\" >436.000000</td>\n",
       "      <td id=\"T_5bec9_row2_col1\" class=\"data row2 col1\" >429.000000</td>\n",
       "      <td id=\"T_5bec9_row2_col2\" class=\"data row2 col2\" >285</td>\n",
       "      <td id=\"T_5bec9_row2_col3\" class=\"data row2 col3\" >694</td>\n",
       "      <td id=\"T_5bec9_row2_col4\" class=\"data row2 col4\" >1.000000</td>\n",
       "      <td id=\"T_5bec9_row2_col5\" class=\"data row2 col5\" >1.000000</td>\n",
       "      <td id=\"T_5bec9_row2_col6\" class=\"data row2 col6\" >1</td>\n",
       "      <td id=\"T_5bec9_row2_col7\" class=\"data row2 col7\" >6</td>\n",
       "      <td id=\"T_5bec9_row2_col8\" class=\"data row2 col8\" >57.000000</td>\n",
       "      <td id=\"T_5bec9_row2_col9\" class=\"data row2 col9\" >56.000000</td>\n",
       "      <td id=\"T_5bec9_row2_col10\" class=\"data row2 col10\" >12.000000</td>\n",
       "      <td id=\"T_5bec9_row2_col11\" class=\"data row2 col11\" >100.000000</td>\n",
       "      <td id=\"T_5bec9_row2_col12\" class=\"data row2 col12\" >11334</td>\n",
       "    </tr>\n",
       "    <tr>\n",
       "      <th id=\"T_5bec9_level0_row3\" class=\"row_heading level0 row3\" >3</th>\n",
       "      <td id=\"T_5bec9_row3_col0\" class=\"data row3 col0\" >452.000000</td>\n",
       "      <td id=\"T_5bec9_row3_col1\" class=\"data row3 col1\" >448.000000</td>\n",
       "      <td id=\"T_5bec9_row3_col2\" class=\"data row3 col2\" >300</td>\n",
       "      <td id=\"T_5bec9_row3_col3\" class=\"data row3 col3\" >694</td>\n",
       "      <td id=\"T_5bec9_row3_col4\" class=\"data row3 col4\" >1.000000</td>\n",
       "      <td id=\"T_5bec9_row3_col5\" class=\"data row3 col5\" >1.000000</td>\n",
       "      <td id=\"T_5bec9_row3_col6\" class=\"data row3 col6\" >1</td>\n",
       "      <td id=\"T_5bec9_row3_col7\" class=\"data row3 col7\" >35</td>\n",
       "      <td id=\"T_5bec9_row3_col8\" class=\"data row3 col8\" >263.000000</td>\n",
       "      <td id=\"T_5bec9_row3_col9\" class=\"data row3 col9\" >193.000000</td>\n",
       "      <td id=\"T_5bec9_row3_col10\" class=\"data row3 col10\" >96.000000</td>\n",
       "      <td id=\"T_5bec9_row3_col11\" class=\"data row3 col11\" >8390.000000</td>\n",
       "      <td id=\"T_5bec9_row3_col12\" class=\"data row3 col12\" >11846</td>\n",
       "    </tr>\n",
       "    <tr>\n",
       "      <th id=\"T_5bec9_level0_row4\" class=\"row_heading level0 row4\" >4</th>\n",
       "      <td id=\"T_5bec9_row4_col0\" class=\"data row4 col0\" >84.000000</td>\n",
       "      <td id=\"T_5bec9_row4_col1\" class=\"data row4 col1\" >82.000000</td>\n",
       "      <td id=\"T_5bec9_row4_col2\" class=\"data row4 col2\" >0</td>\n",
       "      <td id=\"T_5bec9_row4_col3\" class=\"data row4 col3\" >187</td>\n",
       "      <td id=\"T_5bec9_row4_col4\" class=\"data row4 col4\" >1.000000</td>\n",
       "      <td id=\"T_5bec9_row4_col5\" class=\"data row4 col5\" >1.000000</td>\n",
       "      <td id=\"T_5bec9_row4_col6\" class=\"data row4 col6\" >1</td>\n",
       "      <td id=\"T_5bec9_row4_col7\" class=\"data row4 col7\" >7</td>\n",
       "      <td id=\"T_5bec9_row4_col8\" class=\"data row4 col8\" >133.000000</td>\n",
       "      <td id=\"T_5bec9_row4_col9\" class=\"data row4 col9\" >127.000000</td>\n",
       "      <td id=\"T_5bec9_row4_col10\" class=\"data row4 col10\" >63.000000</td>\n",
       "      <td id=\"T_5bec9_row4_col11\" class=\"data row4 col11\" >279.000000</td>\n",
       "      <td id=\"T_5bec9_row4_col12\" class=\"data row4 col12\" >19810</td>\n",
       "    </tr>\n",
       "    <tr>\n",
       "      <th id=\"T_5bec9_level0_row5\" class=\"row_heading level0 row5\" >5</th>\n",
       "      <td id=\"T_5bec9_row5_col0\" class=\"data row5 col0\" >171.000000</td>\n",
       "      <td id=\"T_5bec9_row5_col1\" class=\"data row5 col1\" >172.000000</td>\n",
       "      <td id=\"T_5bec9_row5_col2\" class=\"data row5 col2\" >0</td>\n",
       "      <td id=\"T_5bec9_row5_col3\" class=\"data row5 col3\" >461</td>\n",
       "      <td id=\"T_5bec9_row5_col4\" class=\"data row5 col4\" >2.000000</td>\n",
       "      <td id=\"T_5bec9_row5_col5\" class=\"data row5 col5\" >1.000000</td>\n",
       "      <td id=\"T_5bec9_row5_col6\" class=\"data row5 col6\" >1</td>\n",
       "      <td id=\"T_5bec9_row5_col7\" class=\"data row5 col7\" >75</td>\n",
       "      <td id=\"T_5bec9_row5_col8\" class=\"data row5 col8\" >500.000000</td>\n",
       "      <td id=\"T_5bec9_row5_col9\" class=\"data row5 col9\" >350.000000</td>\n",
       "      <td id=\"T_5bec9_row5_col10\" class=\"data row5 col10\" >188.000000</td>\n",
       "      <td id=\"T_5bec9_row5_col11\" class=\"data row5 col11\" >13664.000000</td>\n",
       "      <td id=\"T_5bec9_row5_col12\" class=\"data row5 col12\" >12937</td>\n",
       "    </tr>\n",
       "  </tbody>\n",
       "</table>\n"
      ],
      "text/plain": [
       "<pandas.io.formats.style.Styler at 0x2482b52e440>"
      ]
     },
     "execution_count": 26,
     "metadata": {},
     "output_type": "execute_result"
    }
   ],
   "source": [
    " segmentation = rfm_cluster.groupby(['segment']).agg({'recence'  : ['mean','median', 'min', 'max'],\n",
    "                                                     'frequence': ['mean','median', 'min', 'max'],\n",
    "                                                     'montant' : ['mean','median', 'min', 'max', 'count']\n",
    "                                                    }).round(0)\n",
    "segmentation.style.background_gradient(cmap='vlag')"
   ]
  },
  {
   "attachments": {},
   "cell_type": "markdown",
   "id": "5ea174b1",
   "metadata": {},
   "source": [
    "**_Observations :_** <br> \n",
    "- La plupart des clients n'ont pas passé de commande depuis un long moment. \n",
    "- La plupart des clients n'ont passé qu'une seule commande."
   ]
  },
  {
   "attachments": {},
   "cell_type": "markdown",
   "id": "5d7a4b87",
   "metadata": {},
   "source": [
    "**_Répartition des clients par groupe_**"
   ]
  },
  {
   "cell_type": "code",
   "execution_count": 27,
   "id": "a66f6648",
   "metadata": {},
   "outputs": [
    {
     "data": {
      "image/png": "[encoded data removed]",
      "text/plain": [
       "<Figure size 700x400 with 1 Axes>"
      ]
     },
     "metadata": {},
     "output_type": "display_data"
    }
   ],
   "source": [
    "# Dimmension de la figure\n",
    "plt.figure(figsize = ((7, 4)))\n",
    "\n",
    "# Calcul du pourcentage des clients par classe\n",
    "pourcentage = rfm_cluster[\"segment\"].value_counts() / len(rfm_cluster) * 100\n",
    "\n",
    "# Tracer du diagramme en barre\n",
    "ax = sns.countplot(data=rfm_cluster, x = rfm_cluster['segment'].sort_values(), palette='viridis_r')\n",
    "\n",
    "# Ajouter les pourcentages sur les barres\n",
    "for i, p in enumerate(ax.patches):\n",
    "    height = p.get_height()\n",
    "    ax.annotate(f'{pourcentage[i]:.2f}%', \n",
    "                (p.get_x() + p.get_width() / 2., \n",
    "                 height), ha='center', va='bottom',\n",
    "               fontsize = 8, fontstyle = \"italic\")\n",
    "\n",
    "# Parametrage des axes\n",
    "plt.xlabel('Groupes', fontsize = 14)\n",
    "plt.ylabel('Nombre de clients', fontsize = 14)\n",
    "plt.xticks([0, 1, 2, 3, 4, 5], ['Groupe 1', 'Groupe 2', 'Groupe 3', 'Groupe 4', 'Groupe 5', 'Groupe 6'], rotation = 0)\n",
    "\n",
    "# Titre\n",
    "plt.title('Nombre de clients par groupe', fontsize = 15, color = \"blue\")\n",
    "\n",
    "# Afficher le diagramme en barre\n",
    "plt.show()"
   ]
  },
  {
   "attachments": {},
   "cell_type": "markdown",
   "id": "5919bf01",
   "metadata": {},
   "source": [
    "**_Quelle groupe dépense le plus ?_**"
   ]
  },
  {
   "cell_type": "code",
   "execution_count": 28,
   "id": "8eef42be",
   "metadata": {},
   "outputs": [
    {
     "data": {
      "image/png": "[encoded data removed]",
      "text/plain": [
       "<Figure size 700x400 with 1 Axes>"
      ]
     },
     "metadata": {},
     "output_type": "display_data"
    }
   ],
   "source": [
    "# Dimension de la figure\n",
    "plt.figure(figsize=(7, 4))\n",
    "\n",
    "# Regrouper les données par cluster et calculer la moyenne des dépenses\n",
    "depense_moyenne = rfm_cluster.groupby(\"segment\").agg({\"montant\": \"mean\"}).reset_index()\n",
    "\n",
    "# Renommer les colonnes\n",
    "depense_moyenne.columns = [\"groupe\", \"montant_moyen\"]\n",
    "\n",
    "# Paramètre x et y du tracé\n",
    "x = depense_moyenne[\"groupe\"]\n",
    "y = depense_moyenne[\"montant_moyen\"]\n",
    "\n",
    "# Tracé du diagramme \n",
    "ax = sns.barplot(data=depense_moyenne, x=x, y=y)\n",
    "\n",
    "# Ajouter les annotations sur les barres\n",
    "for p in ax.patches:\n",
    "    ax.annotate(format(p.get_height(), \".2f\"), \n",
    "                (p.get_x() + p.get_width() / 2., p.get_height()), \n",
    "                ha='center', va='center', xytext=(0, 5), \n",
    "                textcoords='offset points', fontsize = 8, fontstyle = \"italic\")\n",
    "\n",
    "# Titre\n",
    "plt.xticks([0, 1, 2, 3, 4, 5], ['Groupe 1', 'Groupe 2', 'Groupe 3', 'Groupe 4', 'Groupe 5', 'Groupe 6'], rotation = 0)\n",
    "plt.title('Dépense moyenne par groupe', fontsize=15, color=\"blue\")\n",
    "\n",
    "# Afficher le diagramme en barre\n",
    "plt.show()"
   ]
  },
  {
   "cell_type": "code",
   "execution_count": 29,
   "id": "7d49613a",
   "metadata": {},
   "outputs": [
    {
     "data": {
      "image/png": "[encoded data removed]",
      "text/plain": [
       "<Figure size 700x400 with 1 Axes>"
      ]
     },
     "metadata": {},
     "output_type": "display_data"
    }
   ],
   "source": [
    "# Dimension de la figure\n",
    "plt.figure(figsize = ((7, 4)))\n",
    "\n",
    "# Regrouper les données par cluster et calculer la moyyene des dépenses\n",
    "recence_moyenne = rfm_cluster.groupby(\"segment\").agg({\"recence\" : \"mean\"}).reset_index()\n",
    "\n",
    "# Renommer les colonnes\n",
    "recence_moyenne.columns = [\"groupe\", \"recence_moyenne\"]\n",
    "\n",
    "# Paramètre x et y du tracé\n",
    "x = recence_moyenne[\"groupe\"]\n",
    "y = recence_moyenne[\"recence_moyenne\"]\n",
    "\n",
    "# Tracé du diagramme \n",
    "ax = sns.barplot(data = recence_moyenne, x = x, y = y)\n",
    "\n",
    "# Ajouter les annotations sur les barres\n",
    "for p in ax.patches:\n",
    "    ax.annotate(format(p.get_height(), \".2f\"), \n",
    "                (p.get_x() + p.get_width() / 2., p.get_height()), \n",
    "                ha='center', va='center', xytext=(0, 5), \n",
    "                textcoords='offset points', fontsize = 8, fontstyle = \"italic\")\n",
    "\n",
    "# Titre\n",
    "plt.title('Recence moyenne par cluster', fontsize = 15, color = \"blue\")\n",
    "plt.xticks([0, 1, 2, 3, 4, 5], ['Groupe 1', 'Groupe 2', 'Groupe 3', 'Groupe 4', 'Groupe 5', 'Groupe 6'], rotation = 0)\n",
    "\n",
    "# Afficher le diagramme en barre\n",
    "plt.show()"
   ]
  },
  {
   "attachments": {},
   "cell_type": "markdown",
   "id": "6559216f",
   "metadata": {},
   "source": [
    "**_Conclusion_**\n",
    "* Les fréquences d'achat sont très faible dans tous les groupes (en moyenne 1 achat par client). Ceci signifie que l'entreprise à du mal à fidéliser sa clientèle;\n",
    "\n",
    "* Groupe 1 : Clients relativement anciens, ayant dépensé très peu : en moyen 46 R$ ;\n",
    "\n",
    "* Groupe 2 : Cluster important en terme d'effectif, 20% des clients totaux. Clients anciens au pouvoir d'achat modéré ;\n",
    "\n",
    "* Groupe 3 : On retrouve dans ce groupe, 13% des clients. Il s'agit des clients les plus anciens (avec ceux du groupe 4) avec un faible pouvoir d'achat ;\n",
    "\n",
    "* Groupe 4 : Clients anciens avec un fort pouvoir d'achat : panier moyen égal à 263 R$. Ce groupe compte 13% des clients de market-place ;\n",
    "\n",
    "* Groupe 5 : Ce groupe renferme les nouveaux clients au pouvoir d'achat moyen. C'est aussi le groupe le plus important en terme d'effectif avec environ 27% des clients.\n",
    "\n",
    "* Groupe 6 : On pourrait considérer les clients de ce groupe comme les plus fidèles et les plus rentables. En effet, contrairement aux autres groupes, ces clients ont une fréquence d'achat moyenne égal à 2, et le montant moyen de leurs paniers est de 500 R$. Ce groupe ne compte que 14% des clients, mais des clients précieux."
   ]
  },
  {
   "cell_type": "code",
   "execution_count": null,
   "id": "23f62f51",
   "metadata": {},
   "outputs": [],
   "source": []
  }
 ],
 "metadata": {
  "kernelspec": {
   "display_name": "Python 3 (ipykernel)",
   "language": "python",
   "name": "python3"
  },
  "language_info": {
   "codemirror_mode": {
    "name": "ipython",
    "version": 3
   },
   "file_extension": ".py",
   "mimetype": "text/x-python",
   "name": "python",
   "nbconvert_exporter": "python",
   "pygments_lexer": "ipython3",
   "version": "3.10.9"
  }
 },
 "nbformat": 4,
 "nbformat_minor": 5
}
